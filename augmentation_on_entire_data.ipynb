{
 "cells": [
  {
   "cell_type": "code",
   "execution_count": 26,
   "metadata": {},
   "outputs": [],
   "source": [
    "import imageio\n",
    "import imgaug as ia\n",
    "import imgaug.augmenters as iaa\n",
    "import numpy\n",
    "numpy.random.bit_generator = numpy.random._bit_generator\n",
    "import pandas as pd\n",
    "import matplotlib.pyplot as plt\n",
    "import matplotlib.patches as patches\n",
    "import matplotlib\n",
    "from tqdm import tqdm\n",
    "import os\n",
    "from PIL import Image  \n",
    "import PIL \n",
    "%matplotlib inline"
   ]
  },
  {
   "cell_type": "code",
   "execution_count": 32,
   "metadata": {},
   "outputs": [],
   "source": [
    "path = 'D:\\\\ensemble_learning\\\\1coal'\n",
    "path2 ='D:\\\\fintest\\\\1coal'"
   ]
  },
  {
   "cell_type": "code",
   "execution_count": 34,
   "metadata": {},
   "outputs": [
    {
     "name": "stderr",
     "output_type": "stream",
     "text": [
      "100%|██████████████████████████████████████████████████████████████████████████████████| 30/30 [00:38<00:00,  1.28s/it]\n"
     ]
    }
   ],
   "source": [
    " \n",
    "for i in tqdm(os.listdir(path)):\n",
    "    \n",
    "    p=os.path.join(path,i)\n",
    "    image = imageio.imread(p)\n",
    "    \n",
    "    ##ROTATION##\n",
    "    \n",
    "    rotate=iaa.Affine(rotate=(-50, 30))\n",
    "    rotated_image=rotate.augment_image(image)\n",
    "    name=path2+'\\\\'+i.split('.')[0]+\"rotated\"+'.jpg'\n",
    "    imageio.imwrite(name, rotated_image)\n",
    "    \n",
    "    ##NOISE ADDED##\n",
    "    \n",
    "    gaussian_noise=iaa.AdditiveGaussianNoise(10,20)\n",
    "    noise_image=gaussian_noise.augment_image(image)\n",
    "    name=path2+'\\\\'+i.split('.')[0]+\"noise\"+'.jpg'\n",
    "    imageio.imwrite(name, noise_image)\n",
    "    \n",
    "    ##CROP IMAGE##\n",
    "    \n",
    "    crop = iaa.Crop(percent=(0, 0.3)) \n",
    "    crop_image=crop.augment_image(image)\n",
    "    name=path2+'\\\\'+i.split('.')[0]+\"crop\"+'.jpg'\n",
    "    imageio.imwrite(name, crop_image)\n",
    "    \n",
    "    ##SHEAR##\n",
    "    \n",
    "    shear = iaa.Affine(shear=(0,40))\n",
    "    shear_image=shear.augment_image(image)\n",
    "    name=path2+'\\\\'+i.split('.')[0]+\"shear\"+'.jpg'\n",
    "    imageio.imwrite(name, shear_image)\n",
    "    \n",
    "    ##FLIP HORIZONTALLY##\n",
    "    \n",
    "    flip_hr=iaa.Fliplr(p=1.0)\n",
    "    flip_hr_image= flip_hr.augment_image(image)\n",
    "    name=path2+'\\\\'+i.split('.')[0]+\"fliph\"+'.jpg'\n",
    "    imageio.imwrite(name, flip_hr_image)\n",
    "    \n",
    "    ##FLIP VERTICALLY##\n",
    "    \n",
    "    flip_vr=iaa.Flipud(p=1.0)\n",
    "    flip_vr_image= flip_vr.augment_image(image)\n",
    "    name=path2+'\\\\'+i.split('.')[0]+\"flipv\"+'.jpg'\n",
    "    imageio.imwrite(name, flip_vr_image)\n",
    "    \n",
    "    ##VARY CONTRAST##\n",
    "    \n",
    "    contrast=iaa.GammaContrast(gamma=2.0)\n",
    "    contrast_image =contrast.augment_image(image)\n",
    "    name=path2+'\\\\'+i.split('.')[0]+\"contrast\"+'.jpg'\n",
    "    imageio.imwrite(name, contrast_image)\n",
    "    \n",
    "    ##SCALING##\n",
    "    \n",
    "    scale_im=iaa.Affine(scale={\"x\": (1.5, 1.0), \"y\": (1.5, 1.0)})\n",
    "    scale_image =scale_im.augment_image(image)\n",
    "    name=path2+'\\\\'+i.split('.')[0]+\"scale\"+'.jpg'\n",
    "    imageio.imwrite(name, scale_image)\n",
    "    "
   ]
  },
  {
   "cell_type": "code",
   "execution_count": null,
   "metadata": {},
   "outputs": [],
   "source": []
  }
 ],
 "metadata": {
  "kernelspec": {
   "display_name": "Python 3",
   "language": "python",
   "name": "python3"
  }
 },
 "nbformat": 4,
 "nbformat_minor": 2
}
