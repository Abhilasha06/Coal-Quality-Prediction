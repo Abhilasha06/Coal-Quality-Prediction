{
  "nbformat": 4,
  "nbformat_minor": 0,
  "metadata": {
    "kernelspec": {
      "name": "python3",
      "display_name": "Python 3"
    },
    "language_info": {
      "codemirror_mode": {
        "name": "ipython",
        "version": 3
      },
      "file_extension": ".py",
      "mimetype": "text/x-python",
      "name": "python",
      "nbconvert_exporter": "python",
      "pygments_lexer": "ipython3",
      "version": "3.6.7"
    },
    "colab": {
      "name": "Copyrnet.ipynb",
      "provenance": [],
      "collapsed_sections": []
    },
    "accelerator": "GPU"
  },
  "cells": [
    {
      "cell_type": "code",
      "metadata": {
        "id": "JqLd97AQTWRr",
        "colab_type": "code",
        "outputId": "fa95b08b-91e0-4a2c-bd21-10e6970155f3",
        "colab": {
          "base_uri": "https://localhost:8080/",
          "height": 50
        }
      },
      "source": [
        "%tensorflow_version 1.x \n",
        "import keras\n",
        "from keras.applications import ResNet50\n",
        "from keras.models import Sequential\n",
        "from keras.layers import Dense, Flatten, GlobalAveragePooling2D\n"
      ],
      "execution_count": 1,
      "outputs": [
        {
          "output_type": "stream",
          "text": [
            "TensorFlow 1.x selected.\n"
          ],
          "name": "stdout"
        },
        {
          "output_type": "stream",
          "text": [
            "Using TensorFlow backend.\n"
          ],
          "name": "stderr"
        }
      ]
    },
    {
      "cell_type": "code",
      "metadata": {
        "id": "S421LPDOUA9E",
        "colab_type": "code",
        "outputId": "0e7ecc3e-d032-4f1f-a7d0-861c253b0344",
        "colab": {
          "base_uri": "https://localhost:8080/",
          "height": 120
        }
      },
      "source": [
        "from google.colab import drive\n",
        "drive.mount('/content/drive', force_remount=True)"
      ],
      "execution_count": 2,
      "outputs": [
        {
          "output_type": "stream",
          "text": [
            "Go to this URL in a browser: https://accounts.google.com/o/oauth2/auth?client_id=947318989803-6bn6qk8qdgf4n4g3pfee6491hc0brc4i.apps.googleusercontent.com&redirect_uri=urn%3aietf%3awg%3aoauth%3a2.0%3aoob&response_type=code&scope=email%20https%3a%2f%2fwww.googleapis.com%2fauth%2fdocs.test%20https%3a%2f%2fwww.googleapis.com%2fauth%2fdrive%20https%3a%2f%2fwww.googleapis.com%2fauth%2fdrive.photos.readonly%20https%3a%2f%2fwww.googleapis.com%2fauth%2fpeopleapi.readonly\n",
            "\n",
            "Enter your authorization code:\n",
            "··········\n",
            "Mounted at /content/drive\n"
          ],
          "name": "stdout"
        }
      ]
    },
    {
      "cell_type": "code",
      "metadata": {
        "id": "JxrVfv_KTWSB",
        "colab_type": "code",
        "colab": {}
      },
      "source": [
        "import matplotlib.pyplot as plt\n",
        "import os\n",
        "from random import shuffle\n",
        "from tqdm import tqdm\n",
        "import tensorflow as tf\n",
        "import cv2\n",
        "import numpy as np \n",
        "from tensorflow.python.framework import graph_util\n",
        "from keras.models import Sequential\n",
        "from keras.layers import *\n",
        "from keras.optimizers import *\n",
        "from sklearn.model_selection import train_test_split"
      ],
      "execution_count": 0,
      "outputs": []
    },
    {
      "cell_type": "code",
      "metadata": {
        "id": "XryvP4C0TWSF",
        "colab_type": "code",
        "colab": {}
      },
      "source": [
        "data1='/content/drive/My Drive/fintest/1coal'\n",
        "data2='/content/drive/My Drive/fintest/2coal'\n",
        "data3='/content/drive/My Drive/fintest/3coal'"
      ],
      "execution_count": 0,
      "outputs": []
    },
    {
      "cell_type": "code",
      "metadata": {
        "id": "c_UkaRH8TWSJ",
        "colab_type": "code",
        "colab": {}
      },
      "source": [
        "def data_with_label():\n",
        "    images=[]\n",
        "    cnt = 0\n",
        "    for i in tqdm(os.listdir(data1)):\n",
        "        path=os.path.join(data1,i)\n",
        "        img=cv2.imread(path,cv2.IMREAD_GRAYSCALE)\n",
        "        #img = tf.image.grayscale_to_rgb( img, name=None)\n",
        "        img = cv2.cvtColor(img,cv2.COLOR_GRAY2RGB)\n",
        "        img=cv2.resize(img,(224,224))\n",
        "        images.append([np.array(img),np.array([1,0,0])])\n",
        "    cnt = 0\n",
        "    for i in tqdm(os.listdir(data2)):\n",
        "        path=os.path.join(data2,i)\n",
        "        img=cv2.imread(path,cv2.IMREAD_GRAYSCALE)\n",
        "        #img = tf.image.grayscale_to_rgb( img, name=None)\n",
        "        img = cv2.cvtColor(img,cv2.COLOR_GRAY2RGB)\n",
        "        img=cv2.resize(img,(224,224))\n",
        "        images.append([np.array(img),np.array([0,1,0])])\n",
        "    cnt = 0\n",
        "    for i in tqdm(os.listdir(data3)):\n",
        "        path=os.path.join(data3,i)\n",
        "        img=cv2.imread(path,cv2.IMREAD_GRAYSCALE)\n",
        "        #img = tf.image.grayscale_to_rgb( img, name=None)\n",
        "        img = cv2.cvtColor(img,cv2.COLOR_GRAY2RGB)\n",
        "        img=cv2.resize(img,(224,224))\n",
        "        images.append([np.array(img),np.array([0,0,1])])\n",
        "        \n",
        "    shuffle(images)\n",
        "    return images"
      ],
      "execution_count": 0,
      "outputs": []
    },
    {
      "cell_type": "code",
      "metadata": {
        "id": "PjN8Lb1hTWSN",
        "colab_type": "code",
        "outputId": "d84a3a59-d15c-41a9-a8f0-5e10a4b5e896",
        "colab": {
          "base_uri": "https://localhost:8080/",
          "height": 67
        }
      },
      "source": [
        "data = data_with_label()"
      ],
      "execution_count": 6,
      "outputs": [
        {
          "output_type": "stream",
          "text": [
            "100%|██████████| 390/390 [04:12<00:00,  1.54it/s]\n",
            "100%|██████████| 299/299 [03:20<00:00,  1.49it/s]\n",
            "100%|██████████| 465/465 [05:18<00:00,  1.46it/s]\n"
          ],
          "name": "stderr"
        }
      ]
    },
    {
      "cell_type": "code",
      "metadata": {
        "id": "KhXfOc0STWSV",
        "colab_type": "code",
        "colab": {}
      },
      "source": [
        "import random\n",
        "random.shuffle(data)\n",
        "train_data, test_data = train_test_split(data, test_size=0.2)"
      ],
      "execution_count": 0,
      "outputs": []
    },
    {
      "cell_type": "code",
      "metadata": {
        "colab_type": "code",
        "id": "UC8EYarAw5uc",
        "colab": {}
      },
      "source": [
        "from keras.applications.resnet50 import preprocess_input\n",
        "tr_img_data = np.array([i[0] for i in train_data]).reshape(-1,224,224,3)\n",
        "tr_img_data = preprocess_input(tr_img_data)\n",
        "tr_lbl_data = np.array([i[1] for i in train_data])\n",
        "tst_img_data = np.array([i[0] for i in test_data]).reshape(-1,224,224,3)\n",
        "tst_img_data = preprocess_input(tst_img_data)\n",
        "tst_lbl_data = np.array([i[1] for i in test_data])"
      ],
      "execution_count": 0,
      "outputs": []
    },
    {
      "cell_type": "code",
      "metadata": {
        "id": "zuGn8PpSIQDH",
        "colab_type": "code",
        "outputId": "8f817f53-be87-4730-c33e-d4d6db3330c9",
        "colab": {
          "base_uri": "https://localhost:8080/",
          "height": 187
        }
      },
      "source": [
        "from keras.applications.resnet50 import ResNet50\n",
        "from keras.models import Model\n",
        "import keras\n",
        "\n",
        "resnet_model = ResNet50(weights='imagenet', include_top=False, input_shape=(224, 224, 3))\n"
      ],
      "execution_count": 9,
      "outputs": [
        {
          "output_type": "stream",
          "text": [
            "WARNING:tensorflow:From /tensorflow-1.15.2/python3.6/tensorflow_core/python/ops/resource_variable_ops.py:1630: calling BaseResourceVariable.__init__ (from tensorflow.python.ops.resource_variable_ops) with constraint is deprecated and will be removed in a future version.\n",
            "Instructions for updating:\n",
            "If using Keras pass *_constraint arguments to layers.\n",
            "WARNING:tensorflow:From /usr/local/lib/python3.6/dist-packages/keras/backend/tensorflow_backend.py:4070: The name tf.nn.max_pool is deprecated. Please use tf.nn.max_pool2d instead.\n",
            "\n"
          ],
          "name": "stdout"
        },
        {
          "output_type": "stream",
          "text": [
            "/usr/local/lib/python3.6/dist-packages/keras_applications/resnet50.py:265: UserWarning: The output shape of `ResNet50(include_top=False)` has been changed since Keras 2.2.0.\n",
            "  warnings.warn('The output shape of `ResNet50(include_top=False)` '\n"
          ],
          "name": "stderr"
        },
        {
          "output_type": "stream",
          "text": [
            "Downloading data from https://github.com/fchollet/deep-learning-models/releases/download/v0.2/resnet50_weights_tf_dim_ordering_tf_kernels_notop.h5\n",
            "94658560/94653016 [==============================] - 3s 0us/step\n"
          ],
          "name": "stdout"
        }
      ]
    },
    {
      "cell_type": "code",
      "metadata": {
        "id": "rSb4vll6IQIN",
        "colab_type": "code",
        "colab": {}
      },
      "source": [
        "model = Sequential()\n",
        "model.add(resnet_model)\n",
        "model.add(GlobalAveragePooling2D())\n",
        "model.add(Dense(256, activation='relu'))\n",
        "model.add(Dropout(.25))\n",
        "model.add(BatchNormalization())\n",
        "model.add(Dense(3, activation='softmax'))"
      ],
      "execution_count": 0,
      "outputs": []
    },
    {
      "cell_type": "code",
      "metadata": {
        "id": "VyZ2HVV2IQMd",
        "colab_type": "code",
        "colab": {}
      },
      "source": [
        "for layer in resnet_model.layers:\n",
        "    if isinstance(layer, BatchNormalization):\n",
        "        layer.trainable = True\n",
        "    else:\n",
        "        layer.trainable = False"
      ],
      "execution_count": 0,
      "outputs": []
    },
    {
      "cell_type": "code",
      "metadata": {
        "id": "ea_DFIhhIQQK",
        "colab_type": "code",
        "colab": {}
      },
      "source": [
        "from keras import optimizers\n",
        "model.compile(loss='categorical_crossentropy',\n",
        "              optimizer=optimizers.RMSprop(lr=1e-5),\n",
        "              metrics=['accuracy'])"
      ],
      "execution_count": 0,
      "outputs": []
    },
    {
      "cell_type": "code",
      "metadata": {
        "id": "-X7yRN6oIQKq",
        "colab_type": "code",
        "outputId": "917f48c6-436b-4966-ec23-6ae1b0563050",
        "colab": {
          "base_uri": "https://localhost:8080/",
          "height": 1000
        }
      },
      "source": [
        "import keras \n",
        "checkpoint_path = \"/content/drive/My Drive/k40.ckpt\"\n",
        "checkpoint_dir = os.path.dirname(checkpoint_path)\n",
        "#60\n",
        "# Create a callback that saves the model's weights\n",
        "cp_callback = keras.callbacks.ModelCheckpoint(filepath=checkpoint_path,\n",
        "                                                 save_weights_only=True,\n",
        "                                                 verbose=1)\n",
        "\n",
        "# Train the model with the new callback\n",
        "history = model.fit(tr_img_data, \n",
        "          tr_lbl_data,  \n",
        "          epochs=50,\n",
        "          validation_data=(tst_img_data,tst_lbl_data),\n",
        "          callbacks=[cp_callback])  # Pass callback to training"
      ],
      "execution_count": 13,
      "outputs": [
        {
          "output_type": "stream",
          "text": [
            "WARNING:tensorflow:From /usr/local/lib/python3.6/dist-packages/keras/backend/tensorflow_backend.py:422: The name tf.global_variables is deprecated. Please use tf.compat.v1.global_variables instead.\n",
            "\n",
            "Train on 923 samples, validate on 231 samples\n",
            "Epoch 1/50\n",
            "923/923 [==============================] - 18s 19ms/step - loss: 1.4806 - accuracy: 0.3586 - val_loss: 1.3263 - val_accuracy: 0.4286\n",
            "\n",
            "Epoch 00001: saving model to /content/drive/My Drive/k40.ckpt\n",
            "Epoch 2/50\n",
            "923/923 [==============================] - 6s 6ms/step - loss: 1.2732 - accuracy: 0.4247 - val_loss: 1.2109 - val_accuracy: 0.4416\n",
            "\n",
            "Epoch 00002: saving model to /content/drive/My Drive/k40.ckpt\n",
            "Epoch 3/50\n",
            "923/923 [==============================] - 6s 6ms/step - loss: 1.1936 - accuracy: 0.4518 - val_loss: 1.1356 - val_accuracy: 0.4848\n",
            "\n",
            "Epoch 00003: saving model to /content/drive/My Drive/k40.ckpt\n",
            "Epoch 4/50\n",
            "923/923 [==============================] - 6s 6ms/step - loss: 1.0333 - accuracy: 0.5352 - val_loss: 1.0634 - val_accuracy: 0.5022\n",
            "\n",
            "Epoch 00004: saving model to /content/drive/My Drive/k40.ckpt\n",
            "Epoch 5/50\n",
            "923/923 [==============================] - 6s 6ms/step - loss: 0.9717 - accuracy: 0.5536 - val_loss: 1.0003 - val_accuracy: 0.5584\n",
            "\n",
            "Epoch 00005: saving model to /content/drive/My Drive/k40.ckpt\n",
            "Epoch 6/50\n",
            "923/923 [==============================] - 6s 6ms/step - loss: 0.8757 - accuracy: 0.6067 - val_loss: 0.9290 - val_accuracy: 0.6147\n",
            "\n",
            "Epoch 00006: saving model to /content/drive/My Drive/k40.ckpt\n",
            "Epoch 7/50\n",
            "923/923 [==============================] - 6s 6ms/step - loss: 0.8245 - accuracy: 0.6241 - val_loss: 0.8728 - val_accuracy: 0.6494\n",
            "\n",
            "Epoch 00007: saving model to /content/drive/My Drive/k40.ckpt\n",
            "Epoch 8/50\n",
            "923/923 [==============================] - 6s 6ms/step - loss: 0.7924 - accuracy: 0.6316 - val_loss: 0.8226 - val_accuracy: 0.6710\n",
            "\n",
            "Epoch 00008: saving model to /content/drive/My Drive/k40.ckpt\n",
            "Epoch 9/50\n",
            "923/923 [==============================] - 6s 6ms/step - loss: 0.7087 - accuracy: 0.7021 - val_loss: 0.7816 - val_accuracy: 0.6926\n",
            "\n",
            "Epoch 00009: saving model to /content/drive/My Drive/k40.ckpt\n",
            "Epoch 10/50\n",
            "923/923 [==============================] - 6s 6ms/step - loss: 0.6417 - accuracy: 0.7259 - val_loss: 0.7454 - val_accuracy: 0.6797\n",
            "\n",
            "Epoch 00010: saving model to /content/drive/My Drive/k40.ckpt\n",
            "Epoch 11/50\n",
            "923/923 [==============================] - 6s 6ms/step - loss: 0.6304 - accuracy: 0.7335 - val_loss: 0.7168 - val_accuracy: 0.6926\n",
            "\n",
            "Epoch 00011: saving model to /content/drive/My Drive/k40.ckpt\n",
            "Epoch 12/50\n",
            "923/923 [==============================] - 6s 6ms/step - loss: 0.5765 - accuracy: 0.7703 - val_loss: 0.6920 - val_accuracy: 0.7013\n",
            "\n",
            "Epoch 00012: saving model to /content/drive/My Drive/k40.ckpt\n",
            "Epoch 13/50\n",
            "923/923 [==============================] - 6s 6ms/step - loss: 0.5333 - accuracy: 0.7811 - val_loss: 0.6753 - val_accuracy: 0.7013\n",
            "\n",
            "Epoch 00013: saving model to /content/drive/My Drive/k40.ckpt\n",
            "Epoch 14/50\n",
            "923/923 [==============================] - 6s 6ms/step - loss: 0.4989 - accuracy: 0.7952 - val_loss: 0.6579 - val_accuracy: 0.7273\n",
            "\n",
            "Epoch 00014: saving model to /content/drive/My Drive/k40.ckpt\n",
            "Epoch 15/50\n",
            "923/923 [==============================] - 6s 6ms/step - loss: 0.4923 - accuracy: 0.7974 - val_loss: 0.6423 - val_accuracy: 0.7100\n",
            "\n",
            "Epoch 00015: saving model to /content/drive/My Drive/k40.ckpt\n",
            "Epoch 16/50\n",
            "923/923 [==============================] - 6s 6ms/step - loss: 0.4495 - accuracy: 0.8223 - val_loss: 0.6141 - val_accuracy: 0.7359\n",
            "\n",
            "Epoch 00016: saving model to /content/drive/My Drive/k40.ckpt\n",
            "Epoch 17/50\n",
            "923/923 [==============================] - 6s 6ms/step - loss: 0.4451 - accuracy: 0.8180 - val_loss: 0.5962 - val_accuracy: 0.7316\n",
            "\n",
            "Epoch 00017: saving model to /content/drive/My Drive/k40.ckpt\n",
            "Epoch 18/50\n",
            "923/923 [==============================] - 6s 6ms/step - loss: 0.4283 - accuracy: 0.8364 - val_loss: 0.5652 - val_accuracy: 0.7489\n",
            "\n",
            "Epoch 00018: saving model to /content/drive/My Drive/k40.ckpt\n",
            "Epoch 19/50\n",
            "923/923 [==============================] - 6s 6ms/step - loss: 0.4296 - accuracy: 0.8321 - val_loss: 0.5140 - val_accuracy: 0.8052\n",
            "\n",
            "Epoch 00019: saving model to /content/drive/My Drive/k40.ckpt\n",
            "Epoch 20/50\n",
            "923/923 [==============================] - 6s 6ms/step - loss: 0.3732 - accuracy: 0.8505 - val_loss: 0.4811 - val_accuracy: 0.8095\n",
            "\n",
            "Epoch 00020: saving model to /content/drive/My Drive/k40.ckpt\n",
            "Epoch 21/50\n",
            "923/923 [==============================] - 6s 6ms/step - loss: 0.3674 - accuracy: 0.8624 - val_loss: 0.4534 - val_accuracy: 0.8095\n",
            "\n",
            "Epoch 00021: saving model to /content/drive/My Drive/k40.ckpt\n",
            "Epoch 22/50\n",
            "923/923 [==============================] - 6s 6ms/step - loss: 0.3565 - accuracy: 0.8689 - val_loss: 0.4213 - val_accuracy: 0.8225\n",
            "\n",
            "Epoch 00022: saving model to /content/drive/My Drive/k40.ckpt\n",
            "Epoch 23/50\n",
            "923/923 [==============================] - 6s 6ms/step - loss: 0.3139 - accuracy: 0.8960 - val_loss: 0.3896 - val_accuracy: 0.8312\n",
            "\n",
            "Epoch 00023: saving model to /content/drive/My Drive/k40.ckpt\n",
            "Epoch 24/50\n",
            "923/923 [==============================] - 6s 6ms/step - loss: 0.3091 - accuracy: 0.8960 - val_loss: 0.3654 - val_accuracy: 0.8485\n",
            "\n",
            "Epoch 00024: saving model to /content/drive/My Drive/k40.ckpt\n",
            "Epoch 25/50\n",
            "923/923 [==============================] - 6s 6ms/step - loss: 0.2939 - accuracy: 0.9144 - val_loss: 0.3486 - val_accuracy: 0.8658\n",
            "\n",
            "Epoch 00025: saving model to /content/drive/My Drive/k40.ckpt\n",
            "Epoch 26/50\n",
            "923/923 [==============================] - 6s 6ms/step - loss: 0.2790 - accuracy: 0.9025 - val_loss: 0.3265 - val_accuracy: 0.8701\n",
            "\n",
            "Epoch 00026: saving model to /content/drive/My Drive/k40.ckpt\n",
            "Epoch 27/50\n",
            "923/923 [==============================] - 6s 6ms/step - loss: 0.2849 - accuracy: 0.9014 - val_loss: 0.3006 - val_accuracy: 0.8831\n",
            "\n",
            "Epoch 00027: saving model to /content/drive/My Drive/k40.ckpt\n",
            "Epoch 28/50\n",
            "923/923 [==============================] - 6s 6ms/step - loss: 0.2424 - accuracy: 0.9220 - val_loss: 0.2839 - val_accuracy: 0.9048\n",
            "\n",
            "Epoch 00028: saving model to /content/drive/My Drive/k40.ckpt\n",
            "Epoch 29/50\n",
            "923/923 [==============================] - 6s 6ms/step - loss: 0.2698 - accuracy: 0.9187 - val_loss: 0.2665 - val_accuracy: 0.9134\n",
            "\n",
            "Epoch 00029: saving model to /content/drive/My Drive/k40.ckpt\n",
            "Epoch 30/50\n",
            "923/923 [==============================] - 6s 6ms/step - loss: 0.2616 - accuracy: 0.9177 - val_loss: 0.2555 - val_accuracy: 0.9177\n",
            "\n",
            "Epoch 00030: saving model to /content/drive/My Drive/k40.ckpt\n",
            "Epoch 31/50\n",
            "923/923 [==============================] - 6s 6ms/step - loss: 0.2376 - accuracy: 0.9187 - val_loss: 0.2459 - val_accuracy: 0.9307\n",
            "\n",
            "Epoch 00031: saving model to /content/drive/My Drive/k40.ckpt\n",
            "Epoch 32/50\n",
            "923/923 [==============================] - 6s 6ms/step - loss: 0.2069 - accuracy: 0.9328 - val_loss: 0.2365 - val_accuracy: 0.9307\n",
            "\n",
            "Epoch 00032: saving model to /content/drive/My Drive/k40.ckpt\n",
            "Epoch 33/50\n",
            "923/923 [==============================] - 6s 6ms/step - loss: 0.2315 - accuracy: 0.9220 - val_loss: 0.2253 - val_accuracy: 0.9307\n",
            "\n",
            "Epoch 00033: saving model to /content/drive/My Drive/k40.ckpt\n",
            "Epoch 34/50\n",
            "923/923 [==============================] - 6s 6ms/step - loss: 0.2004 - accuracy: 0.9415 - val_loss: 0.2200 - val_accuracy: 0.9264\n",
            "\n",
            "Epoch 00034: saving model to /content/drive/My Drive/k40.ckpt\n",
            "Epoch 35/50\n",
            "923/923 [==============================] - 6s 6ms/step - loss: 0.2132 - accuracy: 0.9339 - val_loss: 0.2141 - val_accuracy: 0.9264\n",
            "\n",
            "Epoch 00035: saving model to /content/drive/My Drive/k40.ckpt\n",
            "Epoch 36/50\n",
            "923/923 [==============================] - 6s 6ms/step - loss: 0.2022 - accuracy: 0.9393 - val_loss: 0.2114 - val_accuracy: 0.9221\n",
            "\n",
            "Epoch 00036: saving model to /content/drive/My Drive/k40.ckpt\n",
            "Epoch 37/50\n",
            "923/923 [==============================] - 6s 6ms/step - loss: 0.1864 - accuracy: 0.9469 - val_loss: 0.2050 - val_accuracy: 0.9264\n",
            "\n",
            "Epoch 00037: saving model to /content/drive/My Drive/k40.ckpt\n",
            "Epoch 38/50\n",
            "923/923 [==============================] - 6s 6ms/step - loss: 0.1846 - accuracy: 0.9415 - val_loss: 0.1991 - val_accuracy: 0.9264\n",
            "\n",
            "Epoch 00038: saving model to /content/drive/My Drive/k40.ckpt\n",
            "Epoch 39/50\n",
            "923/923 [==============================] - 6s 6ms/step - loss: 0.1852 - accuracy: 0.9415 - val_loss: 0.1924 - val_accuracy: 0.9264\n",
            "\n",
            "Epoch 00039: saving model to /content/drive/My Drive/k40.ckpt\n",
            "Epoch 40/50\n",
            "923/923 [==============================] - 6s 6ms/step - loss: 0.1735 - accuracy: 0.9556 - val_loss: 0.1872 - val_accuracy: 0.9351\n",
            "\n",
            "Epoch 00040: saving model to /content/drive/My Drive/k40.ckpt\n",
            "Epoch 41/50\n",
            "923/923 [==============================] - 6s 6ms/step - loss: 0.1618 - accuracy: 0.9556 - val_loss: 0.1807 - val_accuracy: 0.9394\n",
            "\n",
            "Epoch 00041: saving model to /content/drive/My Drive/k40.ckpt\n",
            "Epoch 42/50\n",
            "923/923 [==============================] - 6s 6ms/step - loss: 0.1680 - accuracy: 0.9491 - val_loss: 0.1761 - val_accuracy: 0.9481\n",
            "\n",
            "Epoch 00042: saving model to /content/drive/My Drive/k40.ckpt\n",
            "Epoch 43/50\n",
            "923/923 [==============================] - 6s 6ms/step - loss: 0.1701 - accuracy: 0.9426 - val_loss: 0.1750 - val_accuracy: 0.9524\n",
            "\n",
            "Epoch 00043: saving model to /content/drive/My Drive/k40.ckpt\n",
            "Epoch 44/50\n",
            "923/923 [==============================] - 6s 6ms/step - loss: 0.1627 - accuracy: 0.9523 - val_loss: 0.1704 - val_accuracy: 0.9481\n",
            "\n",
            "Epoch 00044: saving model to /content/drive/My Drive/k40.ckpt\n",
            "Epoch 45/50\n",
            "923/923 [==============================] - 6s 6ms/step - loss: 0.1428 - accuracy: 0.9686 - val_loss: 0.1674 - val_accuracy: 0.9481\n",
            "\n",
            "Epoch 00045: saving model to /content/drive/My Drive/k40.ckpt\n",
            "Epoch 46/50\n",
            "923/923 [==============================] - 6s 6ms/step - loss: 0.1522 - accuracy: 0.9588 - val_loss: 0.1650 - val_accuracy: 0.9437\n",
            "\n",
            "Epoch 00046: saving model to /content/drive/My Drive/k40.ckpt\n",
            "Epoch 47/50\n",
            "923/923 [==============================] - 6s 6ms/step - loss: 0.1494 - accuracy: 0.9556 - val_loss: 0.1635 - val_accuracy: 0.9437\n",
            "\n",
            "Epoch 00047: saving model to /content/drive/My Drive/k40.ckpt\n",
            "Epoch 48/50\n",
            "923/923 [==============================] - 6s 6ms/step - loss: 0.1296 - accuracy: 0.9729 - val_loss: 0.1594 - val_accuracy: 0.9481\n",
            "\n",
            "Epoch 00048: saving model to /content/drive/My Drive/k40.ckpt\n",
            "Epoch 49/50\n",
            "923/923 [==============================] - 6s 6ms/step - loss: 0.1343 - accuracy: 0.9621 - val_loss: 0.1565 - val_accuracy: 0.9524\n",
            "\n",
            "Epoch 00049: saving model to /content/drive/My Drive/k40.ckpt\n",
            "Epoch 50/50\n",
            "923/923 [==============================] - 6s 6ms/step - loss: 0.1191 - accuracy: 0.9762 - val_loss: 0.1521 - val_accuracy: 0.9481\n",
            "\n",
            "Epoch 00050: saving model to /content/drive/My Drive/k40.ckpt\n"
          ],
          "name": "stdout"
        }
      ]
    },
    {
      "cell_type": "code",
      "metadata": {
        "id": "FdZXPf1DIQGr",
        "colab_type": "code",
        "colab": {}
      },
      "source": [
        ""
      ],
      "execution_count": 0,
      "outputs": []
    }
  ]
}