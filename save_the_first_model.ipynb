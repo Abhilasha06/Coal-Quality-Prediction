{
 "cells": [
  {
   "cell_type": "code",
   "execution_count": 1,
   "metadata": {},
   "outputs": [
    {
     "name": "stderr",
     "output_type": "stream",
     "text": [
      "Using TensorFlow backend.\n"
     ]
    }
   ],
   "source": [
    "import matplotlib.pyplot as plt\n",
    "import os\n",
    "from random import shuffle\n",
    "from tqdm import tqdm\n",
    "import tensorflow as tf\n",
    "import cv2\n",
    "import numpy as np \n",
    "from tensorflow.python.framework import graph_util\n",
    "from keras.models import Sequential\n",
    "from keras.layers import *\n",
    "from keras.optimizers import *\n",
    "from sklearn.model_selection import train_test_split"
   ]
  },
  {
   "cell_type": "code",
   "execution_count": 5,
   "metadata": {},
   "outputs": [],
   "source": [
    "data1='D:\\\\fintest\\\\1coal'\n",
    "data2='D:\\\\fintest\\\\2coal'\n",
    "data3='D:\\\\fintest\\\\3coal'"
   ]
  },
  {
   "cell_type": "code",
   "execution_count": 6,
   "metadata": {},
   "outputs": [],
   "source": [
    "def data_with_label():\n",
    "    images=[]\n",
    "    cnt = 0\n",
    "    for i in tqdm(os.listdir(data1)):\n",
    "        path=os.path.join(data1,i)\n",
    "        img=cv2.imread(path,cv2.IMREAD_GRAYSCALE)\n",
    "        img=cv2.resize(img,(64,64))\n",
    "        images.append([np.array(img),np.array([1,0,0])])\n",
    "    cnt = 0\n",
    "    for i in tqdm(os.listdir(data2)):\n",
    "        path=os.path.join(data2,i)\n",
    "        img=cv2.imread(path,cv2.IMREAD_GRAYSCALE)\n",
    "        img=cv2.resize(img,(64,64))\n",
    "        images.append([np.array(img),np.array([0,1,0])])\n",
    "    cnt = 0\n",
    "    for i in tqdm(os.listdir(data3)):\n",
    "        path=os.path.join(data3,i)\n",
    "        img=cv2.imread(path,cv2.IMREAD_GRAYSCALE)\n",
    "        img=cv2.resize(img,(64,64))\n",
    "        images.append([np.array(img),np.array([0,0,1])])\n",
    "        \n",
    "    shuffle(images)\n",
    "    return images"
   ]
  },
  {
   "cell_type": "code",
   "execution_count": 7,
   "metadata": {},
   "outputs": [
    {
     "name": "stderr",
     "output_type": "stream",
     "text": [
      "100%|████████████████████████████████████████████████████████████████████████████████| 390/390 [00:40<00:00, 10.02it/s]\n",
      "100%|████████████████████████████████████████████████████████████████████████████████| 299/299 [00:28<00:00,  7.97it/s]\n",
      "100%|████████████████████████████████████████████████████████████████████████████████| 455/455 [00:50<00:00,  9.08it/s]\n"
     ]
    }
   ],
   "source": [
    "data = data_with_label()"
   ]
  },
  {
   "cell_type": "code",
   "execution_count": 8,
   "metadata": {},
   "outputs": [],
   "source": [
    "import random\n",
    "random.shuffle(data)\n",
    "train_data, test_data = train_test_split(data, test_size=0.2)"
   ]
  },
  {
   "cell_type": "code",
   "execution_count": 9,
   "metadata": {},
   "outputs": [],
   "source": [
    "tr_img_data = np.array([i[0] for i in train_data]).reshape(-1,64,64,1)\n",
    "tr_img_data = tr_img_data/255\n",
    "tr_lbl_data = np.array([i[1] for i in train_data])\n",
    "tst_img_data = np.array([i[0] for i in test_data]).reshape(-1,64,64,1)\n",
    "tst_img_data = tst_img_data/255\n",
    "tst_lbl_data = np.array([i[1] for i in test_data])"
   ]
  },
  {
   "cell_type": "code",
   "execution_count": 10,
   "metadata": {},
   "outputs": [
    {
     "name": "stdout",
     "output_type": "stream",
     "text": [
      "_________________________________________________________________\n",
      "Layer (type)                 Output Shape              Param #   \n",
      "=================================================================\n",
      "conv2d_1 (Conv2D)            (None, 64, 64, 32)        832       \n",
      "_________________________________________________________________\n",
      "max_pooling2d_1 (MaxPooling2 (None, 13, 13, 32)        0         \n",
      "_________________________________________________________________\n",
      "conv2d_2 (Conv2D)            (None, 7, 7, 32)          25632     \n",
      "_________________________________________________________________\n",
      "max_pooling2d_2 (MaxPooling2 (None, 2, 2, 32)          0         \n",
      "_________________________________________________________________\n",
      "conv2d_3 (Conv2D)            (None, 1, 1, 64)          18496     \n",
      "_________________________________________________________________\n",
      "max_pooling2d_3 (MaxPooling2 (None, 1, 1, 64)          0         \n",
      "_________________________________________________________________\n",
      "conv2d_4 (Conv2D)            (None, 1, 1, 128)         73856     \n",
      "_________________________________________________________________\n",
      "max_pooling2d_4 (MaxPooling2 (None, 1, 1, 128)         0         \n",
      "_________________________________________________________________\n",
      "flatten_1 (Flatten)          (None, 128)               0         \n",
      "_________________________________________________________________\n",
      "dense_1 (Dense)              (None, 2048)              264192    \n",
      "_________________________________________________________________\n",
      "dropout_1 (Dropout)          (None, 2048)              0         \n",
      "_________________________________________________________________\n",
      "dense_2 (Dense)              (None, 1024)              2098176   \n",
      "_________________________________________________________________\n",
      "dropout_2 (Dropout)          (None, 1024)              0         \n",
      "_________________________________________________________________\n",
      "dense_3 (Dense)              (None, 512)               524800    \n",
      "_________________________________________________________________\n",
      "dropout_3 (Dropout)          (None, 512)               0         \n",
      "_________________________________________________________________\n",
      "dense_4 (Dense)              (None, 3)                 1539      \n",
      "=================================================================\n",
      "Total params: 3,007,523\n",
      "Trainable params: 3,007,523\n",
      "Non-trainable params: 0\n",
      "_________________________________________________________________\n"
     ]
    }
   ],
   "source": [
    "def create_model():\n",
    "  model=Sequential()\n",
    "  model.add(InputLayer(input_shape=[64,64,1]))\n",
    "\n",
    "  model.add(Conv2D(filters=32,kernel_size=5,strides=1,padding='same',activation='relu'))\n",
    "  model.add(MaxPool2D(pool_size=5,padding='same'))\n",
    "          \n",
    "  model.add(Conv2D(filters=32,kernel_size=5,strides=2,padding='same',activation='relu'))\n",
    "  model.add(MaxPool2D(pool_size=5,padding='same'))\n",
    "          \n",
    "  model.add(Conv2D(filters=64,kernel_size=3,strides=2,padding='same',activation='relu'))\n",
    "  model.add(MaxPool2D(pool_size=8,padding='same'))\n",
    "\n",
    "  model.add(Conv2D(filters=128,kernel_size=3,strides=1,padding='same',activation='relu'))\n",
    "  model.add(MaxPool2D(pool_size=5,padding='same'))\n",
    "          \n",
    "#model.add(Conv2D(filters=256,kernel_size=3,strides=1,padding='same',activation='relu'))\n",
    "#model.add(MaxPool2D(pool_size=3,padding='same'))\n",
    "          \n",
    "\n",
    "  model.add(Flatten())\n",
    "\n",
    "\n",
    "  model.add(Dense(2048,activation='relu'))\n",
    "  model.add(Dropout(0.50))\n",
    "  model.add(Dense(1024,activation='relu'))\n",
    "  model.add(Dropout(0.50))\n",
    "  model.add(Dense(512,activation='relu'))\n",
    "  model.add(Dropout(0.50))\n",
    "  model.add(Dense(3,activation='softmax'))\n",
    "  optimizer=Adam(lr=1e-3)\n",
    "          \n",
    "  model.compile(optimizer=optimizer,loss='categorical_crossentropy',metrics=['accuracy'])\n",
    "  return model\n",
    "#history = model.fit(x=tr_img_data,y=tr_lbl_data,epochs=50,batch_size=32,validation_data=(tst_img_data, tst_lbl_data),shuffle=True)\n",
    "model = create_model()\n",
    "model.summary()"
   ]
  },
  {
   "cell_type": "code",
   "execution_count": 13,
   "metadata": {},
   "outputs": [
    {
     "name": "stdout",
     "output_type": "stream",
     "text": [
      "Train on 915 samples, validate on 229 samples\n",
      "Epoch 1/50\n",
      "915/915 [==============================] - ETA: 17s - loss: 1.1016 - acc: 0.28 - ETA: 20s - loss: 1.0947 - acc: 0.34 - ETA: 20s - loss: 1.0933 - acc: 0.36 - ETA: 18s - loss: 1.0903 - acc: 0.35 - ETA: 18s - loss: 1.0922 - acc: 0.36 - ETA: 17s - loss: 1.0897 - acc: 0.38 - ETA: 17s - loss: 1.0873 - acc: 0.38 - ETA: 16s - loss: 1.0844 - acc: 0.39 - ETA: 15s - loss: 1.0844 - acc: 0.38 - ETA: 14s - loss: 1.0842 - acc: 0.37 - ETA: 13s - loss: 1.0841 - acc: 0.38 - ETA: 12s - loss: 1.0791 - acc: 0.39 - ETA: 12s - loss: 1.0815 - acc: 0.38 - ETA: 11s - loss: 1.0800 - acc: 0.38 - ETA: 10s - loss: 1.0775 - acc: 0.39 - ETA: 9s - loss: 1.0781 - acc: 0.3984 - ETA: 8s - loss: 1.0790 - acc: 0.402 - ETA: 8s - loss: 1.0801 - acc: 0.395 - ETA: 7s - loss: 1.0855 - acc: 0.394 - ETA: 6s - loss: 1.0886 - acc: 0.392 - ETA: 5s - loss: 1.0889 - acc: 0.389 - ETA: 5s - loss: 1.0891 - acc: 0.387 - ETA: 4s - loss: 1.0891 - acc: 0.384 - ETA: 3s - loss: 1.0871 - acc: 0.390 - ETA: 2s - loss: 1.0883 - acc: 0.385 - ETA: 1s - loss: 1.0882 - acc: 0.383 - ETA: 1s - loss: 1.0877 - acc: 0.385 - ETA: 0s - loss: 1.0872 - acc: 0.385 - 22s 24ms/step - loss: 1.0875 - acc: 0.3847 - val_loss: 1.0858 - val_acc: 0.3930\n",
      "\n",
      "Epoch 00001: saving model to cp.ckpt\n",
      "Epoch 2/50\n",
      "915/915 [==============================] - ETA: 18s - loss: 1.0714 - acc: 0.56 - ETA: 21s - loss: 1.0882 - acc: 0.43 - ETA: 19s - loss: 1.0805 - acc: 0.45 - ETA: 17s - loss: 1.0819 - acc: 0.43 - ETA: 17s - loss: 1.0898 - acc: 0.41 - ETA: 16s - loss: 1.0850 - acc: 0.42 - ETA: 16s - loss: 1.0830 - acc: 0.41 - ETA: 15s - loss: 1.0826 - acc: 0.41 - ETA: 14s - loss: 1.0821 - acc: 0.41 - ETA: 14s - loss: 1.0837 - acc: 0.40 - ETA: 13s - loss: 1.0824 - acc: 0.40 - ETA: 12s - loss: 1.0818 - acc: 0.40 - ETA: 11s - loss: 1.0868 - acc: 0.39 - ETA: 11s - loss: 1.0844 - acc: 0.39 - ETA: 10s - loss: 1.0858 - acc: 0.39 - ETA: 9s - loss: 1.0830 - acc: 0.4004 - ETA: 9s - loss: 1.0829 - acc: 0.400 - ETA: 8s - loss: 1.0807 - acc: 0.402 - ETA: 7s - loss: 1.0772 - acc: 0.409 - ETA: 6s - loss: 1.0780 - acc: 0.406 - ETA: 5s - loss: 1.0779 - acc: 0.401 - ETA: 5s - loss: 1.0782 - acc: 0.399 - ETA: 4s - loss: 1.0784 - acc: 0.398 - ETA: 3s - loss: 1.0766 - acc: 0.401 - ETA: 2s - loss: 1.0756 - acc: 0.405 - ETA: 2s - loss: 1.0782 - acc: 0.401 - ETA: 1s - loss: 1.0775 - acc: 0.406 - ETA: 0s - loss: 1.0760 - acc: 0.411 - 23s 25ms/step - loss: 1.0738 - acc: 0.4164 - val_loss: 1.0540 - val_acc: 0.4061\n",
      "\n",
      "Epoch 00002: saving model to cp.ckpt\n",
      "Epoch 3/50\n",
      "915/915 [==============================] - ETA: 23s - loss: 0.9435 - acc: 0.50 - ETA: 22s - loss: 0.9499 - acc: 0.50 - ETA: 21s - loss: 1.0149 - acc: 0.46 - ETA: 20s - loss: 0.9771 - acc: 0.51 - ETA: 18s - loss: 0.9847 - acc: 0.53 - ETA: 18s - loss: 1.0003 - acc: 0.51 - ETA: 19s - loss: 1.0019 - acc: 0.51 - ETA: 19s - loss: 0.9912 - acc: 0.53 - ETA: 18s - loss: 0.9897 - acc: 0.55 - ETA: 16s - loss: 0.9951 - acc: 0.53 - ETA: 15s - loss: 0.9926 - acc: 0.54 - ETA: 14s - loss: 0.9858 - acc: 0.55 - ETA: 13s - loss: 0.9802 - acc: 0.55 - ETA: 12s - loss: 0.9826 - acc: 0.55 - ETA: 11s - loss: 0.9854 - acc: 0.54 - ETA: 10s - loss: 0.9935 - acc: 0.53 - ETA: 9s - loss: 0.9913 - acc: 0.5368 - ETA: 8s - loss: 0.9903 - acc: 0.534 - ETA: 8s - loss: 0.9869 - acc: 0.536 - ETA: 7s - loss: 0.9793 - acc: 0.540 - ETA: 6s - loss: 0.9802 - acc: 0.538 - ETA: 5s - loss: 0.9771 - acc: 0.539 - ETA: 4s - loss: 0.9761 - acc: 0.540 - ETA: 3s - loss: 0.9746 - acc: 0.540 - ETA: 3s - loss: 0.9716 - acc: 0.543 - ETA: 2s - loss: 0.9693 - acc: 0.542 - ETA: 1s - loss: 0.9644 - acc: 0.542 - ETA: 0s - loss: 0.9649 - acc: 0.542 - 24s 27ms/step - loss: 0.9644 - acc: 0.5432 - val_loss: 1.1477 - val_acc: 0.4017\n",
      "\n",
      "Epoch 00003: saving model to cp.ckpt\n",
      "Epoch 4/50\n",
      "915/915 [==============================] - ETA: 18s - loss: 1.1785 - acc: 0.34 - ETA: 19s - loss: 1.1460 - acc: 0.39 - ETA: 17s - loss: 1.1032 - acc: 0.41 - ETA: 18s - loss: 1.0412 - acc: 0.47 - ETA: 17s - loss: 1.0880 - acc: 0.48 - ETA: 16s - loss: 1.0662 - acc: 0.47 - ETA: 16s - loss: 1.0364 - acc: 0.50 - ETA: 15s - loss: 1.0372 - acc: 0.48 - ETA: 14s - loss: 1.0406 - acc: 0.47 - ETA: 14s - loss: 1.0351 - acc: 0.48 - ETA: 14s - loss: 1.0278 - acc: 0.48 - ETA: 13s - loss: 1.0177 - acc: 0.50 - ETA: 12s - loss: 1.0108 - acc: 0.50 - ETA: 11s - loss: 0.9986 - acc: 0.51 - ETA: 10s - loss: 0.9874 - acc: 0.52 - ETA: 10s - loss: 0.9745 - acc: 0.53 - ETA: 9s - loss: 0.9707 - acc: 0.5349 - ETA: 8s - loss: 0.9568 - acc: 0.548 - ETA: 7s - loss: 0.9466 - acc: 0.560 - ETA: 6s - loss: 0.9437 - acc: 0.560 - ETA: 6s - loss: 0.9420 - acc: 0.562 - ETA: 5s - loss: 0.9420 - acc: 0.559 - ETA: 4s - loss: 0.9389 - acc: 0.557 - ETA: 3s - loss: 0.9314 - acc: 0.561 - ETA: 2s - loss: 0.9322 - acc: 0.560 - ETA: 2s - loss: 0.9370 - acc: 0.562 - ETA: 1s - loss: 0.9402 - acc: 0.557 - ETA: 0s - loss: 0.9386 - acc: 0.559 - 24s 27ms/step - loss: 0.9371 - acc: 0.5617 - val_loss: 0.9487 - val_acc: 0.5459\n",
      "\n",
      "Epoch 00004: saving model to cp.ckpt\n",
      "Epoch 5/50\n",
      "915/915 [==============================] - ETA: 21s - loss: 0.8752 - acc: 0.62 - ETA: 21s - loss: 0.8844 - acc: 0.56 - ETA: 20s - loss: 0.8624 - acc: 0.55 - ETA: 19s - loss: 0.8646 - acc: 0.57 - ETA: 19s - loss: 0.8744 - acc: 0.58 - ETA: 18s - loss: 0.8835 - acc: 0.57 - ETA: 17s - loss: 0.8900 - acc: 0.58 - ETA: 16s - loss: 0.8918 - acc: 0.57 - ETA: 15s - loss: 0.8945 - acc: 0.57 - ETA: 15s - loss: 0.9008 - acc: 0.57 - ETA: 14s - loss: 0.9021 - acc: 0.56 - ETA: 13s - loss: 0.8964 - acc: 0.57 - ETA: 12s - loss: 0.8990 - acc: 0.56 - ETA: 11s - loss: 0.9008 - acc: 0.56 - ETA: 11s - loss: 0.9012 - acc: 0.57 - ETA: 10s - loss: 0.8940 - acc: 0.57 - ETA: 9s - loss: 0.8897 - acc: 0.5790 - ETA: 8s - loss: 0.8972 - acc: 0.574 - ETA: 7s - loss: 0.8987 - acc: 0.577 - ETA: 6s - loss: 0.8989 - acc: 0.575 - ETA: 5s - loss: 0.8929 - acc: 0.581 - ETA: 5s - loss: 0.8819 - acc: 0.585 - ETA: 4s - loss: 0.8817 - acc: 0.589 - ETA: 3s - loss: 0.8804 - acc: 0.588 - ETA: 2s - loss: 0.8790 - acc: 0.588 - ETA: 2s - loss: 0.8775 - acc: 0.590 - ETA: 1s - loss: 0.8742 - acc: 0.590 - ETA: 0s - loss: 0.8722 - acc: 0.590 - 23s 25ms/step - loss: 0.8696 - acc: 0.5923 - val_loss: 0.7744 - val_acc: 0.6245\n",
      "\n",
      "Epoch 00005: saving model to cp.ckpt\n",
      "Epoch 6/50\n",
      "915/915 [==============================] - ETA: 15s - loss: 0.8067 - acc: 0.53 - ETA: 18s - loss: 0.7987 - acc: 0.57 - ETA: 18s - loss: 0.8025 - acc: 0.59 - ETA: 18s - loss: 0.8055 - acc: 0.59 - ETA: 18s - loss: 0.7894 - acc: 0.61 - ETA: 17s - loss: 0.7938 - acc: 0.61 - ETA: 17s - loss: 0.7704 - acc: 0.63 - ETA: 16s - loss: 0.7606 - acc: 0.63 - ETA: 15s - loss: 0.7576 - acc: 0.62 - ETA: 14s - loss: 0.7652 - acc: 0.61 - ETA: 14s - loss: 0.7654 - acc: 0.61 - ETA: 13s - loss: 0.7561 - acc: 0.63 - ETA: 12s - loss: 0.7486 - acc: 0.65 - ETA: 11s - loss: 0.8029 - acc: 0.62 - ETA: 11s - loss: 0.8063 - acc: 0.62 - ETA: 10s - loss: 0.8122 - acc: 0.63 - ETA: 9s - loss: 0.8143 - acc: 0.6268 - ETA: 9s - loss: 0.8235 - acc: 0.619 - ETA: 8s - loss: 0.8220 - acc: 0.621 - ETA: 7s - loss: 0.8150 - acc: 0.632 - ETA: 6s - loss: 0.8171 - acc: 0.631 - ETA: 5s - loss: 0.8277 - acc: 0.619 - ETA: 4s - loss: 0.8310 - acc: 0.612 - ETA: 3s - loss: 0.8289 - acc: 0.619 - ETA: 3s - loss: 0.8242 - acc: 0.626 - ETA: 2s - loss: 0.8258 - acc: 0.625 - ETA: 1s - loss: 0.8227 - acc: 0.625 - ETA: 0s - loss: 0.8220 - acc: 0.626 - 25s 28ms/step - loss: 0.8173 - acc: 0.6273 - val_loss: 0.7167 - val_acc: 0.6463\n",
      "\n",
      "Epoch 00006: saving model to cp.ckpt\n",
      "Epoch 7/50\n"
     ]
    },
    {
     "name": "stdout",
     "output_type": "stream",
     "text": [
      "915/915 [==============================] - ETA: 23s - loss: 0.6247 - acc: 0.71 - ETA: 26s - loss: 0.7165 - acc: 0.70 - ETA: 25s - loss: 0.6893 - acc: 0.69 - ETA: 24s - loss: 0.6708 - acc: 0.70 - ETA: 21s - loss: 0.6764 - acc: 0.69 - ETA: 20s - loss: 0.6754 - acc: 0.67 - ETA: 19s - loss: 0.6847 - acc: 0.68 - ETA: 18s - loss: 0.6672 - acc: 0.68 - ETA: 18s - loss: 0.6667 - acc: 0.68 - ETA: 17s - loss: 0.6519 - acc: 0.69 - ETA: 16s - loss: 0.6387 - acc: 0.69 - ETA: 15s - loss: 0.6400 - acc: 0.69 - ETA: 13s - loss: 0.6393 - acc: 0.70 - ETA: 12s - loss: 0.6404 - acc: 0.70 - ETA: 11s - loss: 0.6269 - acc: 0.71 - ETA: 10s - loss: 0.6190 - acc: 0.71 - ETA: 10s - loss: 0.6268 - acc: 0.71 - ETA: 9s - loss: 0.6280 - acc: 0.7205 - ETA: 8s - loss: 0.6338 - acc: 0.717 - ETA: 7s - loss: 0.6255 - acc: 0.721 - ETA: 6s - loss: 0.6191 - acc: 0.729 - ETA: 5s - loss: 0.6181 - acc: 0.733 - ETA: 4s - loss: 0.6195 - acc: 0.732 - ETA: 3s - loss: 0.6252 - acc: 0.730 - ETA: 3s - loss: 0.6268 - acc: 0.727 - ETA: 2s - loss: 0.6216 - acc: 0.733 - ETA: 1s - loss: 0.6227 - acc: 0.732 - ETA: 0s - loss: 0.6160 - acc: 0.735 - 25s 27ms/step - loss: 0.6234 - acc: 0.7311 - val_loss: 0.6722 - val_acc: 0.6900\n",
      "\n",
      "Epoch 00007: saving model to cp.ckpt\n",
      "Epoch 8/50\n",
      "915/915 [==============================] - ETA: 15s - loss: 0.5243 - acc: 0.78 - ETA: 18s - loss: 0.7003 - acc: 0.71 - ETA: 17s - loss: 0.6275 - acc: 0.75 - ETA: 17s - loss: 0.6093 - acc: 0.75 - ETA: 17s - loss: 0.6161 - acc: 0.75 - ETA: 17s - loss: 0.6614 - acc: 0.72 - ETA: 17s - loss: 0.6483 - acc: 0.73 - ETA: 17s - loss: 0.6717 - acc: 0.73 - ETA: 16s - loss: 0.6834 - acc: 0.71 - ETA: 15s - loss: 0.6691 - acc: 0.71 - ETA: 15s - loss: 0.6663 - acc: 0.71 - ETA: 14s - loss: 0.6517 - acc: 0.71 - ETA: 13s - loss: 0.6342 - acc: 0.72 - ETA: 12s - loss: 0.6251 - acc: 0.72 - ETA: 12s - loss: 0.6261 - acc: 0.72 - ETA: 11s - loss: 0.6258 - acc: 0.71 - ETA: 10s - loss: 0.6227 - acc: 0.71 - ETA: 9s - loss: 0.6232 - acc: 0.7153 - ETA: 8s - loss: 0.6112 - acc: 0.725 - ETA: 7s - loss: 0.6067 - acc: 0.728 - ETA: 7s - loss: 0.6108 - acc: 0.730 - ETA: 6s - loss: 0.6076 - acc: 0.733 - ETA: 5s - loss: 0.6061 - acc: 0.735 - ETA: 4s - loss: 0.5977 - acc: 0.739 - ETA: 3s - loss: 0.5991 - acc: 0.738 - ETA: 2s - loss: 0.6010 - acc: 0.735 - ETA: 1s - loss: 0.5982 - acc: 0.738 - ETA: 0s - loss: 0.5988 - acc: 0.741 - 29s 31ms/step - loss: 0.5975 - acc: 0.7410 - val_loss: 0.6566 - val_acc: 0.6987\n",
      "\n",
      "Epoch 00008: saving model to cp.ckpt\n",
      "Epoch 9/50\n",
      "915/915 [==============================] - ETA: 23s - loss: 0.7582 - acc: 0.78 - ETA: 21s - loss: 0.6088 - acc: 0.79 - ETA: 20s - loss: 0.5897 - acc: 0.79 - ETA: 19s - loss: 0.5575 - acc: 0.80 - ETA: 18s - loss: 0.5393 - acc: 0.80 - ETA: 17s - loss: 0.5503 - acc: 0.79 - ETA: 16s - loss: 0.5261 - acc: 0.79 - ETA: 15s - loss: 0.5547 - acc: 0.76 - ETA: 14s - loss: 0.5325 - acc: 0.78 - ETA: 14s - loss: 0.5184 - acc: 0.78 - ETA: 13s - loss: 0.5235 - acc: 0.78 - ETA: 13s - loss: 0.5145 - acc: 0.78 - ETA: 12s - loss: 0.5230 - acc: 0.78 - ETA: 11s - loss: 0.5169 - acc: 0.78 - ETA: 10s - loss: 0.5165 - acc: 0.77 - ETA: 9s - loss: 0.5062 - acc: 0.7812 - ETA: 9s - loss: 0.5078 - acc: 0.781 - ETA: 8s - loss: 0.5040 - acc: 0.783 - ETA: 7s - loss: 0.4908 - acc: 0.792 - ETA: 7s - loss: 0.4896 - acc: 0.795 - ETA: 6s - loss: 0.4799 - acc: 0.800 - ETA: 5s - loss: 0.4701 - acc: 0.802 - ETA: 4s - loss: 0.4726 - acc: 0.800 - ETA: 3s - loss: 0.4722 - acc: 0.798 - ETA: 3s - loss: 0.4670 - acc: 0.800 - ETA: 2s - loss: 0.4629 - acc: 0.802 - ETA: 1s - loss: 0.4547 - acc: 0.806 - ETA: 0s - loss: 0.4522 - acc: 0.810 - 25s 27ms/step - loss: 0.4480 - acc: 0.8120 - val_loss: 0.6816 - val_acc: 0.7162\n",
      "\n",
      "Epoch 00009: saving model to cp.ckpt\n",
      "Epoch 10/50\n",
      "915/915 [==============================] - ETA: 25s - loss: 0.3424 - acc: 0.81 - ETA: 23s - loss: 0.4622 - acc: 0.78 - ETA: 23s - loss: 0.4044 - acc: 0.82 - ETA: 23s - loss: 0.3922 - acc: 0.82 - ETA: 22s - loss: 0.4155 - acc: 0.81 - ETA: 21s - loss: 0.4151 - acc: 0.81 - ETA: 20s - loss: 0.4148 - acc: 0.82 - ETA: 19s - loss: 0.4647 - acc: 0.79 - ETA: 18s - loss: 0.4530 - acc: 0.80 - ETA: 17s - loss: 0.4484 - acc: 0.80 - ETA: 16s - loss: 0.4906 - acc: 0.80 - ETA: 15s - loss: 0.4882 - acc: 0.79 - ETA: 14s - loss: 0.4850 - acc: 0.80 - ETA: 13s - loss: 0.4876 - acc: 0.79 - ETA: 12s - loss: 0.4941 - acc: 0.79 - ETA: 11s - loss: 0.4929 - acc: 0.79 - ETA: 10s - loss: 0.5166 - acc: 0.78 - ETA: 9s - loss: 0.5107 - acc: 0.7847 - ETA: 9s - loss: 0.5091 - acc: 0.784 - ETA: 8s - loss: 0.5001 - acc: 0.789 - ETA: 7s - loss: 0.4876 - acc: 0.797 - ETA: 6s - loss: 0.4966 - acc: 0.794 - ETA: 5s - loss: 0.4959 - acc: 0.788 - ETA: 4s - loss: 0.4856 - acc: 0.793 - ETA: 3s - loss: 0.4835 - acc: 0.795 - ETA: 2s - loss: 0.4812 - acc: 0.795 - ETA: 1s - loss: 0.4754 - acc: 0.797 - ETA: 0s - loss: 0.4722 - acc: 0.799 - 27s 30ms/step - loss: 0.4688 - acc: 0.8011 - val_loss: 0.5960 - val_acc: 0.7555\n",
      "\n",
      "Epoch 00010: saving model to cp.ckpt\n",
      "Epoch 11/50\n",
      "915/915 [==============================] - ETA: 21s - loss: 0.4076 - acc: 0.84 - ETA: 20s - loss: 0.3813 - acc: 0.85 - ETA: 18s - loss: 0.4071 - acc: 0.82 - ETA: 18s - loss: 0.4472 - acc: 0.79 - ETA: 17s - loss: 0.4156 - acc: 0.81 - ETA: 17s - loss: 0.3801 - acc: 0.83 - ETA: 16s - loss: 0.3706 - acc: 0.84 - ETA: 16s - loss: 0.3649 - acc: 0.85 - ETA: 15s - loss: 0.3554 - acc: 0.85 - ETA: 14s - loss: 0.3609 - acc: 0.86 - ETA: 14s - loss: 0.3443 - acc: 0.86 - ETA: 14s - loss: 0.3285 - acc: 0.87 - ETA: 13s - loss: 0.3397 - acc: 0.87 - ETA: 12s - loss: 0.3276 - acc: 0.88 - ETA: 11s - loss: 0.3469 - acc: 0.87 - ETA: 10s - loss: 0.3429 - acc: 0.86 - ETA: 9s - loss: 0.3403 - acc: 0.8695 - ETA: 8s - loss: 0.3508 - acc: 0.866 - ETA: 8s - loss: 0.3475 - acc: 0.870 - ETA: 7s - loss: 0.3332 - acc: 0.876 - ETA: 6s - loss: 0.3348 - acc: 0.878 - ETA: 5s - loss: 0.3390 - acc: 0.875 - ETA: 4s - loss: 0.3333 - acc: 0.876 - ETA: 3s - loss: 0.3238 - acc: 0.880 - ETA: 3s - loss: 0.3213 - acc: 0.881 - ETA: 2s - loss: 0.3258 - acc: 0.879 - ETA: 1s - loss: 0.3191 - acc: 0.881 - ETA: 0s - loss: 0.3139 - acc: 0.883 - 25s 28ms/step - loss: 0.3144 - acc: 0.8842 - val_loss: 0.5783 - val_acc: 0.8122\n",
      "\n",
      "Epoch 00011: saving model to cp.ckpt\n",
      "Epoch 12/50\n",
      "915/915 [==============================] - ETA: 25s - loss: 0.3413 - acc: 0.90 - ETA: 21s - loss: 0.3217 - acc: 0.90 - ETA: 20s - loss: 0.2449 - acc: 0.93 - ETA: 19s - loss: 0.2358 - acc: 0.92 - ETA: 17s - loss: 0.2633 - acc: 0.90 - ETA: 16s - loss: 0.2649 - acc: 0.89 - ETA: 16s - loss: 0.2665 - acc: 0.88 - ETA: 15s - loss: 0.2551 - acc: 0.89 - ETA: 14s - loss: 0.2589 - acc: 0.89 - ETA: 13s - loss: 0.2460 - acc: 0.90 - ETA: 13s - loss: 0.2490 - acc: 0.89 - ETA: 12s - loss: 0.2390 - acc: 0.90 - ETA: 11s - loss: 0.2408 - acc: 0.89 - ETA: 10s - loss: 0.2455 - acc: 0.89 - ETA: 9s - loss: 0.2619 - acc: 0.8938 - ETA: 9s - loss: 0.2849 - acc: 0.886 - ETA: 8s - loss: 0.2802 - acc: 0.889 - ETA: 7s - loss: 0.2819 - acc: 0.888 - ETA: 7s - loss: 0.2941 - acc: 0.886 - ETA: 6s - loss: 0.2966 - acc: 0.887 - ETA: 5s - loss: 0.3009 - acc: 0.885 - ETA: 4s - loss: 0.3188 - acc: 0.875 - ETA: 4s - loss: 0.3218 - acc: 0.873 - ETA: 3s - loss: 0.3216 - acc: 0.872 - ETA: 2s - loss: 0.3244 - acc: 0.875 - ETA: 1s - loss: 0.3379 - acc: 0.867 - ETA: 1s - loss: 0.3445 - acc: 0.864 - ETA: 0s - loss: 0.3563 - acc: 0.861 - 22s 24ms/step - loss: 0.3556 - acc: 0.8634 - val_loss: 1.2193 - val_acc: 0.6245\n",
      "\n",
      "Epoch 00012: saving model to cp.ckpt\n",
      "Epoch 13/50\n"
     ]
    },
    {
     "name": "stdout",
     "output_type": "stream",
     "text": [
      "915/915 [==============================] - ETA: 21s - loss: 0.5522 - acc: 0.71 - ETA: 20s - loss: 0.5023 - acc: 0.78 - ETA: 19s - loss: 0.4378 - acc: 0.80 - ETA: 18s - loss: 0.5702 - acc: 0.74 - ETA: 18s - loss: 0.5560 - acc: 0.73 - ETA: 17s - loss: 0.5227 - acc: 0.75 - ETA: 16s - loss: 0.5407 - acc: 0.75 - ETA: 15s - loss: 0.5463 - acc: 0.74 - ETA: 15s - loss: 0.5200 - acc: 0.76 - ETA: 13s - loss: 0.4958 - acc: 0.78 - ETA: 13s - loss: 0.4884 - acc: 0.78 - ETA: 12s - loss: 0.4877 - acc: 0.79 - ETA: 11s - loss: 0.4724 - acc: 0.80 - ETA: 11s - loss: 0.4573 - acc: 0.81 - ETA: 10s - loss: 0.4441 - acc: 0.82 - ETA: 9s - loss: 0.4345 - acc: 0.8281 - ETA: 8s - loss: 0.4207 - acc: 0.832 - ETA: 8s - loss: 0.4054 - acc: 0.838 - ETA: 7s - loss: 0.4131 - acc: 0.833 - ETA: 6s - loss: 0.4100 - acc: 0.835 - ETA: 5s - loss: 0.4189 - acc: 0.831 - ETA: 4s - loss: 0.4160 - acc: 0.832 - ETA: 4s - loss: 0.4092 - acc: 0.834 - ETA: 3s - loss: 0.4055 - acc: 0.834 - ETA: 2s - loss: 0.4104 - acc: 0.831 - ETA: 1s - loss: 0.4034 - acc: 0.836 - ETA: 1s - loss: 0.3984 - acc: 0.840 - ETA: 0s - loss: 0.4059 - acc: 0.833 - 23s 25ms/step - loss: 0.4014 - acc: 0.8372 - val_loss: 0.8168 - val_acc: 0.6507\n",
      "\n",
      "Epoch 00013: saving model to cp.ckpt\n",
      "Epoch 14/50\n",
      "915/915 [==============================] - ETA: 21s - loss: 0.4362 - acc: 0.81 - ETA: 19s - loss: 0.5467 - acc: 0.75 - ETA: 18s - loss: 0.4540 - acc: 0.80 - ETA: 18s - loss: 0.4340 - acc: 0.81 - ETA: 18s - loss: 0.4205 - acc: 0.81 - ETA: 18s - loss: 0.4260 - acc: 0.81 - ETA: 16s - loss: 0.3885 - acc: 0.83 - ETA: 16s - loss: 0.3679 - acc: 0.85 - ETA: 15s - loss: 0.3904 - acc: 0.84 - ETA: 15s - loss: 0.3986 - acc: 0.84 - ETA: 14s - loss: 0.3795 - acc: 0.85 - ETA: 14s - loss: 0.3858 - acc: 0.84 - ETA: 13s - loss: 0.3758 - acc: 0.84 - ETA: 12s - loss: 0.3741 - acc: 0.84 - ETA: 11s - loss: 0.3731 - acc: 0.85 - ETA: 10s - loss: 0.3750 - acc: 0.84 - ETA: 9s - loss: 0.3665 - acc: 0.8493 - ETA: 9s - loss: 0.3625 - acc: 0.852 - ETA: 8s - loss: 0.3685 - acc: 0.850 - ETA: 7s - loss: 0.3554 - acc: 0.856 - ETA: 6s - loss: 0.3427 - acc: 0.863 - ETA: 5s - loss: 0.3355 - acc: 0.863 - ETA: 4s - loss: 0.3299 - acc: 0.868 - ETA: 3s - loss: 0.3240 - acc: 0.869 - ETA: 3s - loss: 0.3158 - acc: 0.875 - ETA: 2s - loss: 0.3160 - acc: 0.876 - ETA: 1s - loss: 0.3089 - acc: 0.880 - ETA: 0s - loss: 0.3050 - acc: 0.881 - 24s 27ms/step - loss: 0.3010 - acc: 0.8831 - val_loss: 0.6621 - val_acc: 0.7729\n",
      "\n",
      "Epoch 00014: saving model to cp.ckpt\n",
      "Epoch 15/50\n",
      "915/915 [==============================] - ETA: 19s - loss: 0.3062 - acc: 0.90 - ETA: 18s - loss: 0.2898 - acc: 0.92 - ETA: 18s - loss: 0.2379 - acc: 0.93 - ETA: 18s - loss: 0.2494 - acc: 0.91 - ETA: 17s - loss: 0.2395 - acc: 0.91 - ETA: 17s - loss: 0.2313 - acc: 0.91 - ETA: 16s - loss: 0.2229 - acc: 0.91 - ETA: 15s - loss: 0.2228 - acc: 0.91 - ETA: 14s - loss: 0.2221 - acc: 0.91 - ETA: 13s - loss: 0.2310 - acc: 0.90 - ETA: 13s - loss: 0.2378 - acc: 0.90 - ETA: 12s - loss: 0.2310 - acc: 0.90 - ETA: 11s - loss: 0.2314 - acc: 0.91 - ETA: 11s - loss: 0.2251 - acc: 0.91 - ETA: 10s - loss: 0.2361 - acc: 0.91 - ETA: 9s - loss: 0.2302 - acc: 0.9121 - ETA: 8s - loss: 0.2408 - acc: 0.906 - ETA: 7s - loss: 0.2368 - acc: 0.908 - ETA: 7s - loss: 0.2288 - acc: 0.911 - ETA: 6s - loss: 0.2190 - acc: 0.915 - ETA: 5s - loss: 0.2195 - acc: 0.913 - ETA: 4s - loss: 0.2201 - acc: 0.911 - ETA: 4s - loss: 0.2139 - acc: 0.914 - ETA: 3s - loss: 0.2146 - acc: 0.914 - ETA: 2s - loss: 0.2109 - acc: 0.916 - ETA: 1s - loss: 0.2105 - acc: 0.914 - ETA: 1s - loss: 0.2093 - acc: 0.915 - ETA: 0s - loss: 0.2116 - acc: 0.915 - 22s 24ms/step - loss: 0.2083 - acc: 0.9169 - val_loss: 0.7446 - val_acc: 0.8079\n",
      "\n",
      "Epoch 00015: saving model to cp.ckpt\n",
      "Epoch 16/50\n",
      "915/915 [==============================] - ETA: 17s - loss: 0.0943 - acc: 1.00 - ETA: 21s - loss: 0.1292 - acc: 0.96 - ETA: 19s - loss: 0.1057 - acc: 0.97 - ETA: 19s - loss: 0.1172 - acc: 0.96 - ETA: 18s - loss: 0.1258 - acc: 0.95 - ETA: 16s - loss: 0.1474 - acc: 0.94 - ETA: 16s - loss: 0.1948 - acc: 0.93 - ETA: 14s - loss: 0.1834 - acc: 0.93 - ETA: 14s - loss: 0.2344 - acc: 0.91 - ETA: 13s - loss: 0.2328 - acc: 0.91 - ETA: 13s - loss: 0.2361 - acc: 0.91 - ETA: 12s - loss: 0.2450 - acc: 0.91 - ETA: 11s - loss: 0.2542 - acc: 0.90 - ETA: 11s - loss: 0.2463 - acc: 0.91 - ETA: 10s - loss: 0.2662 - acc: 0.90 - ETA: 9s - loss: 0.2571 - acc: 0.9062 - ETA: 8s - loss: 0.2447 - acc: 0.911 - ETA: 7s - loss: 0.2444 - acc: 0.908 - ETA: 7s - loss: 0.2384 - acc: 0.909 - ETA: 6s - loss: 0.2394 - acc: 0.910 - ETA: 5s - loss: 0.2371 - acc: 0.913 - ETA: 4s - loss: 0.2374 - acc: 0.911 - ETA: 4s - loss: 0.2352 - acc: 0.913 - ETA: 3s - loss: 0.2380 - acc: 0.911 - ETA: 2s - loss: 0.2312 - acc: 0.913 - ETA: 1s - loss: 0.2262 - acc: 0.917 - ETA: 1s - loss: 0.2284 - acc: 0.915 - ETA: 0s - loss: 0.2300 - acc: 0.916 - 22s 24ms/step - loss: 0.2300 - acc: 0.9169 - val_loss: 1.0118 - val_acc: 0.7205\n",
      "\n",
      "Epoch 00016: saving model to cp.ckpt\n",
      "Epoch 17/50\n",
      "915/915 [==============================] - ETA: 29s - loss: 0.2934 - acc: 0.78 - ETA: 25s - loss: 0.2263 - acc: 0.85 - ETA: 23s - loss: 0.2257 - acc: 0.87 - ETA: 21s - loss: 0.2600 - acc: 0.85 - ETA: 21s - loss: 0.2250 - acc: 0.88 - ETA: 21s - loss: 0.2107 - acc: 0.89 - ETA: 20s - loss: 0.2183 - acc: 0.88 - ETA: 19s - loss: 0.2304 - acc: 0.88 - ETA: 18s - loss: 0.2400 - acc: 0.87 - ETA: 16s - loss: 0.2422 - acc: 0.88 - ETA: 15s - loss: 0.2239 - acc: 0.89 - ETA: 14s - loss: 0.2241 - acc: 0.89 - ETA: 13s - loss: 0.2147 - acc: 0.89 - ETA: 12s - loss: 0.2388 - acc: 0.89 - ETA: 11s - loss: 0.2281 - acc: 0.90 - ETA: 10s - loss: 0.2322 - acc: 0.90 - ETA: 9s - loss: 0.2262 - acc: 0.9062 - ETA: 8s - loss: 0.2267 - acc: 0.906 - ETA: 7s - loss: 0.2218 - acc: 0.909 - ETA: 7s - loss: 0.2154 - acc: 0.912 - ETA: 6s - loss: 0.2139 - acc: 0.915 - ETA: 5s - loss: 0.2089 - acc: 0.919 - ETA: 4s - loss: 0.2103 - acc: 0.919 - ETA: 3s - loss: 0.2110 - acc: 0.920 - ETA: 2s - loss: 0.2064 - acc: 0.921 - ETA: 2s - loss: 0.2014 - acc: 0.924 - ETA: 1s - loss: 0.2001 - acc: 0.925 - ETA: 0s - loss: 0.1979 - acc: 0.926 - 23s 26ms/step - loss: 0.2007 - acc: 0.9257 - val_loss: 0.8203 - val_acc: 0.7555\n",
      "\n",
      "Epoch 00017: saving model to cp.ckpt\n",
      "Epoch 18/50\n",
      "915/915 [==============================] - ETA: 20s - loss: 0.0564 - acc: 1.00 - ETA: 19s - loss: 0.1030 - acc: 0.98 - ETA: 18s - loss: 0.1120 - acc: 0.97 - ETA: 17s - loss: 0.0918 - acc: 0.98 - ETA: 17s - loss: 0.0841 - acc: 0.98 - ETA: 17s - loss: 0.0999 - acc: 0.97 - ETA: 16s - loss: 0.1046 - acc: 0.96 - ETA: 16s - loss: 0.1007 - acc: 0.96 - ETA: 15s - loss: 0.0924 - acc: 0.97 - ETA: 14s - loss: 0.1007 - acc: 0.97 - ETA: 14s - loss: 0.1075 - acc: 0.96 - ETA: 13s - loss: 0.1033 - acc: 0.96 - ETA: 12s - loss: 0.1033 - acc: 0.96 - ETA: 11s - loss: 0.1047 - acc: 0.96 - ETA: 10s - loss: 0.1069 - acc: 0.96 - ETA: 9s - loss: 0.1055 - acc: 0.9707 - ETA: 8s - loss: 0.1166 - acc: 0.966 - ETA: 8s - loss: 0.1430 - acc: 0.958 - ETA: 7s - loss: 0.1386 - acc: 0.958 - ETA: 6s - loss: 0.1547 - acc: 0.950 - ETA: 5s - loss: 0.1646 - acc: 0.946 - ETA: 5s - loss: 0.1593 - acc: 0.947 - ETA: 4s - loss: 0.1704 - acc: 0.941 - ETA: 3s - loss: 0.2009 - acc: 0.932 - ETA: 2s - loss: 0.2087 - acc: 0.928 - ETA: 2s - loss: 0.2103 - acc: 0.927 - ETA: 1s - loss: 0.2156 - acc: 0.928 - ETA: 0s - loss: 0.2126 - acc: 0.929 - 23s 25ms/step - loss: 0.2142 - acc: 0.9290 - val_loss: 1.0280 - val_acc: 0.7511\n",
      "\n",
      "Epoch 00018: saving model to cp.ckpt\n",
      "Epoch 19/50\n"
     ]
    },
    {
     "name": "stdout",
     "output_type": "stream",
     "text": [
      "915/915 [==============================] - ETA: 21s - loss: 0.1845 - acc: 0.90 - ETA: 20s - loss: 0.1288 - acc: 0.93 - ETA: 20s - loss: 0.2348 - acc: 0.90 - ETA: 18s - loss: 0.2581 - acc: 0.89 - ETA: 17s - loss: 0.2192 - acc: 0.91 - ETA: 17s - loss: 0.1936 - acc: 0.92 - ETA: 16s - loss: 0.1754 - acc: 0.93 - ETA: 16s - loss: 0.1837 - acc: 0.92 - ETA: 15s - loss: 0.1723 - acc: 0.93 - ETA: 14s - loss: 0.1649 - acc: 0.93 - ETA: 13s - loss: 0.1673 - acc: 0.94 - ETA: 12s - loss: 0.1645 - acc: 0.94 - ETA: 11s - loss: 0.1553 - acc: 0.94 - ETA: 11s - loss: 0.1632 - acc: 0.94 - ETA: 10s - loss: 0.1559 - acc: 0.94 - ETA: 9s - loss: 0.1642 - acc: 0.9395 - ETA: 9s - loss: 0.1685 - acc: 0.939 - ETA: 8s - loss: 0.1654 - acc: 0.942 - ETA: 7s - loss: 0.1684 - acc: 0.942 - ETA: 7s - loss: 0.1761 - acc: 0.937 - ETA: 6s - loss: 0.1813 - acc: 0.933 - ETA: 5s - loss: 0.1845 - acc: 0.931 - ETA: 4s - loss: 0.1929 - acc: 0.928 - ETA: 3s - loss: 0.1899 - acc: 0.929 - ETA: 3s - loss: 0.1875 - acc: 0.931 - ETA: 2s - loss: 0.1859 - acc: 0.931 - ETA: 1s - loss: 0.1805 - acc: 0.934 - ETA: 0s - loss: 0.1778 - acc: 0.935 - 26s 28ms/step - loss: 0.1785 - acc: 0.9344 - val_loss: 0.8061 - val_acc: 0.7991\n",
      "\n",
      "Epoch 00019: saving model to cp.ckpt\n",
      "Epoch 20/50\n",
      "915/915 [==============================] - ETA: 28s - loss: 0.1823 - acc: 0.93 - ETA: 27s - loss: 0.1134 - acc: 0.96 - ETA: 24s - loss: 0.1512 - acc: 0.92 - ETA: 23s - loss: 0.1696 - acc: 0.92 - ETA: 21s - loss: 0.1704 - acc: 0.91 - ETA: 20s - loss: 0.2543 - acc: 0.89 - ETA: 19s - loss: 0.2306 - acc: 0.91 - ETA: 17s - loss: 0.2197 - acc: 0.91 - ETA: 17s - loss: 0.2224 - acc: 0.91 - ETA: 16s - loss: 0.2158 - acc: 0.91 - ETA: 15s - loss: 0.2125 - acc: 0.91 - ETA: 14s - loss: 0.2379 - acc: 0.90 - ETA: 13s - loss: 0.2283 - acc: 0.90 - ETA: 13s - loss: 0.2175 - acc: 0.91 - ETA: 12s - loss: 0.2083 - acc: 0.91 - ETA: 11s - loss: 0.2050 - acc: 0.91 - ETA: 10s - loss: 0.1972 - acc: 0.92 - ETA: 9s - loss: 0.1884 - acc: 0.9253 - ETA: 8s - loss: 0.1829 - acc: 0.927 - ETA: 7s - loss: 0.1769 - acc: 0.929 - ETA: 6s - loss: 0.1727 - acc: 0.930 - ETA: 5s - loss: 0.1734 - acc: 0.930 - ETA: 4s - loss: 0.1715 - acc: 0.932 - ETA: 4s - loss: 0.1682 - acc: 0.933 - ETA: 3s - loss: 0.1648 - acc: 0.936 - ETA: 2s - loss: 0.1631 - acc: 0.937 - ETA: 1s - loss: 0.1648 - acc: 0.938 - ETA: 0s - loss: 0.1656 - acc: 0.937 - 25s 28ms/step - loss: 0.1704 - acc: 0.9366 - val_loss: 0.8917 - val_acc: 0.7904\n",
      "\n",
      "Epoch 00020: saving model to cp.ckpt\n",
      "Epoch 21/50\n",
      "915/915 [==============================] - ETA: 26s - loss: 0.3046 - acc: 0.93 - ETA: 30s - loss: 0.2334 - acc: 0.95 - ETA: 26s - loss: 0.3270 - acc: 0.89 - ETA: 23s - loss: 0.2502 - acc: 0.92 - ETA: 21s - loss: 0.2635 - acc: 0.91 - ETA: 21s - loss: 0.2713 - acc: 0.90 - ETA: 20s - loss: 0.2500 - acc: 0.91 - ETA: 19s - loss: 0.2734 - acc: 0.89 - ETA: 18s - loss: 0.2697 - acc: 0.90 - ETA: 16s - loss: 0.2662 - acc: 0.90 - ETA: 15s - loss: 0.2460 - acc: 0.90 - ETA: 14s - loss: 0.2512 - acc: 0.90 - ETA: 13s - loss: 0.2815 - acc: 0.88 - ETA: 12s - loss: 0.2661 - acc: 0.89 - ETA: 11s - loss: 0.2649 - acc: 0.89 - ETA: 10s - loss: 0.2579 - acc: 0.89 - ETA: 9s - loss: 0.2531 - acc: 0.8989 - ETA: 8s - loss: 0.2436 - acc: 0.904 - ETA: 7s - loss: 0.2375 - acc: 0.906 - ETA: 6s - loss: 0.2347 - acc: 0.906 - ETA: 6s - loss: 0.2271 - acc: 0.910 - ETA: 5s - loss: 0.2236 - acc: 0.910 - ETA: 4s - loss: 0.2202 - acc: 0.911 - ETA: 3s - loss: 0.2145 - acc: 0.914 - ETA: 2s - loss: 0.2081 - acc: 0.917 - ETA: 2s - loss: 0.2036 - acc: 0.919 - ETA: 1s - loss: 0.1978 - acc: 0.922 - ETA: 0s - loss: 0.1969 - acc: 0.924 - 23s 25ms/step - loss: 0.1947 - acc: 0.9246 - val_loss: 0.6730 - val_acc: 0.8253\n",
      "\n",
      "Epoch 00021: saving model to cp.ckpt\n",
      "Epoch 22/50\n",
      "915/915 [==============================] - ETA: 19s - loss: 0.1080 - acc: 0.96 - ETA: 18s - loss: 0.0706 - acc: 0.98 - ETA: 18s - loss: 0.0579 - acc: 0.98 - ETA: 18s - loss: 0.0616 - acc: 0.98 - ETA: 17s - loss: 0.0573 - acc: 0.98 - ETA: 16s - loss: 0.0683 - acc: 0.97 - ETA: 15s - loss: 0.0695 - acc: 0.97 - ETA: 14s - loss: 0.0741 - acc: 0.97 - ETA: 14s - loss: 0.0681 - acc: 0.97 - ETA: 13s - loss: 0.0893 - acc: 0.96 - ETA: 13s - loss: 0.0860 - acc: 0.96 - ETA: 12s - loss: 0.0823 - acc: 0.97 - ETA: 11s - loss: 0.0790 - acc: 0.97 - ETA: 10s - loss: 0.0825 - acc: 0.97 - ETA: 9s - loss: 0.0786 - acc: 0.9729 - ETA: 9s - loss: 0.0749 - acc: 0.974 - ETA: 8s - loss: 0.0712 - acc: 0.976 - ETA: 7s - loss: 0.0681 - acc: 0.977 - ETA: 7s - loss: 0.0715 - acc: 0.977 - ETA: 6s - loss: 0.0683 - acc: 0.978 - ETA: 5s - loss: 0.0666 - acc: 0.977 - ETA: 4s - loss: 0.0644 - acc: 0.978 - ETA: 4s - loss: 0.0668 - acc: 0.978 - ETA: 3s - loss: 0.0651 - acc: 0.979 - ETA: 2s - loss: 0.0651 - acc: 0.978 - ETA: 1s - loss: 0.0629 - acc: 0.979 - ETA: 1s - loss: 0.0612 - acc: 0.980 - ETA: 0s - loss: 0.0654 - acc: 0.978 - 22s 24ms/step - loss: 0.0643 - acc: 0.9792 - val_loss: 0.8701 - val_acc: 0.8079\n",
      "\n",
      "Epoch 00022: saving model to cp.ckpt\n",
      "Epoch 23/50\n",
      "915/915 [==============================] - ETA: 23s - loss: 0.0044 - acc: 1.00 - ETA: 26s - loss: 0.0094 - acc: 1.00 - ETA: 25s - loss: 0.0201 - acc: 0.98 - ETA: 22s - loss: 0.0434 - acc: 0.98 - ETA: 21s - loss: 0.0540 - acc: 0.98 - ETA: 19s - loss: 0.0471 - acc: 0.98 - ETA: 19s - loss: 0.0548 - acc: 0.97 - ETA: 18s - loss: 0.0615 - acc: 0.97 - ETA: 17s - loss: 0.0677 - acc: 0.97 - ETA: 17s - loss: 0.0627 - acc: 0.97 - ETA: 16s - loss: 0.0668 - acc: 0.97 - ETA: 15s - loss: 0.0700 - acc: 0.97 - ETA: 14s - loss: 0.0697 - acc: 0.97 - ETA: 13s - loss: 0.0676 - acc: 0.97 - ETA: 12s - loss: 0.0635 - acc: 0.97 - ETA: 11s - loss: 0.0782 - acc: 0.97 - ETA: 10s - loss: 0.0748 - acc: 0.97 - ETA: 9s - loss: 0.0735 - acc: 0.9722 - ETA: 8s - loss: 0.0721 - acc: 0.972 - ETA: 7s - loss: 0.0870 - acc: 0.967 - ETA: 6s - loss: 0.0833 - acc: 0.968 - ETA: 5s - loss: 0.0899 - acc: 0.965 - ETA: 4s - loss: 0.0931 - acc: 0.964 - ETA: 4s - loss: 0.0943 - acc: 0.964 - ETA: 3s - loss: 0.0948 - acc: 0.965 - ETA: 2s - loss: 0.0934 - acc: 0.965 - ETA: 1s - loss: 0.0935 - acc: 0.964 - ETA: 0s - loss: 0.0941 - acc: 0.963 - 27s 29ms/step - loss: 0.1014 - acc: 0.9617 - val_loss: 0.9801 - val_acc: 0.7948\n",
      "\n",
      "Epoch 00023: saving model to cp.ckpt\n",
      "Epoch 24/50\n",
      "915/915 [==============================] - ETA: 27s - loss: 0.2060 - acc: 0.93 - ETA: 25s - loss: 0.1189 - acc: 0.96 - ETA: 24s - loss: 0.0958 - acc: 0.96 - ETA: 24s - loss: 0.1145 - acc: 0.96 - ETA: 23s - loss: 0.1537 - acc: 0.95 - ETA: 23s - loss: 0.1305 - acc: 0.95 - ETA: 22s - loss: 0.1427 - acc: 0.95 - ETA: 20s - loss: 0.1535 - acc: 0.94 - ETA: 19s - loss: 0.1554 - acc: 0.94 - ETA: 17s - loss: 0.1628 - acc: 0.94 - ETA: 17s - loss: 0.1501 - acc: 0.94 - ETA: 16s - loss: 0.1448 - acc: 0.95 - ETA: 14s - loss: 0.1361 - acc: 0.95 - ETA: 13s - loss: 0.1268 - acc: 0.95 - ETA: 12s - loss: 0.1287 - acc: 0.95 - ETA: 11s - loss: 0.1217 - acc: 0.95 - ETA: 10s - loss: 0.1197 - acc: 0.95 - ETA: 9s - loss: 0.1171 - acc: 0.9583 - ETA: 8s - loss: 0.1148 - acc: 0.958 - ETA: 7s - loss: 0.1154 - acc: 0.959 - ETA: 6s - loss: 0.1116 - acc: 0.961 - ETA: 5s - loss: 0.1080 - acc: 0.963 - ETA: 4s - loss: 0.1060 - acc: 0.963 - ETA: 4s - loss: 0.1066 - acc: 0.963 - ETA: 3s - loss: 0.1103 - acc: 0.961 - ETA: 2s - loss: 0.1066 - acc: 0.962 - ETA: 1s - loss: 0.1082 - acc: 0.961 - ETA: 0s - loss: 0.1057 - acc: 0.963 - 26s 28ms/step - loss: 0.1112 - acc: 0.9607 - val_loss: 0.9025 - val_acc: 0.8210\n",
      "\n",
      "Epoch 00024: saving model to cp.ckpt\n",
      "Epoch 25/50\n"
     ]
    },
    {
     "name": "stdout",
     "output_type": "stream",
     "text": [
      "915/915 [==============================] - ETA: 24s - loss: 0.0462 - acc: 0.96 - ETA: 24s - loss: 0.1382 - acc: 0.96 - ETA: 25s - loss: 0.1731 - acc: 0.94 - ETA: 24s - loss: 0.1330 - acc: 0.96 - ETA: 22s - loss: 0.1179 - acc: 0.96 - ETA: 22s - loss: 0.1147 - acc: 0.96 - ETA: 20s - loss: 0.1191 - acc: 0.95 - ETA: 19s - loss: 0.1158 - acc: 0.95 - ETA: 18s - loss: 0.1090 - acc: 0.96 - ETA: 17s - loss: 0.1263 - acc: 0.95 - ETA: 16s - loss: 0.1284 - acc: 0.95 - ETA: 14s - loss: 0.1380 - acc: 0.95 - ETA: 13s - loss: 0.1360 - acc: 0.95 - ETA: 12s - loss: 0.1433 - acc: 0.94 - ETA: 11s - loss: 0.1526 - acc: 0.94 - ETA: 10s - loss: 0.1474 - acc: 0.94 - ETA: 10s - loss: 0.1413 - acc: 0.94 - ETA: 9s - loss: 0.1401 - acc: 0.9497 - ETA: 8s - loss: 0.1401 - acc: 0.949 - ETA: 7s - loss: 0.1372 - acc: 0.950 - ETA: 6s - loss: 0.1356 - acc: 0.950 - ETA: 5s - loss: 0.1380 - acc: 0.950 - ETA: 4s - loss: 0.1333 - acc: 0.952 - ETA: 4s - loss: 0.1282 - acc: 0.954 - ETA: 3s - loss: 0.1236 - acc: 0.956 - ETA: 2s - loss: 0.1199 - acc: 0.957 - ETA: 1s - loss: 0.1191 - acc: 0.958 - ETA: 0s - loss: 0.1195 - acc: 0.958 - 25s 27ms/step - loss: 0.1217 - acc: 0.9574 - val_loss: 0.9129 - val_acc: 0.8079\n",
      "\n",
      "Epoch 00025: saving model to cp.ckpt\n",
      "Epoch 26/50\n",
      "915/915 [==============================] - ETA: 19s - loss: 0.0196 - acc: 1.00 - ETA: 23s - loss: 0.0207 - acc: 1.00 - ETA: 20s - loss: 0.0261 - acc: 1.00 - ETA: 20s - loss: 0.1005 - acc: 0.97 - ETA: 19s - loss: 0.0852 - acc: 0.98 - ETA: 19s - loss: 0.0759 - acc: 0.98 - ETA: 18s - loss: 0.0764 - acc: 0.98 - ETA: 18s - loss: 0.0876 - acc: 0.97 - ETA: 17s - loss: 0.0854 - acc: 0.97 - ETA: 15s - loss: 0.0801 - acc: 0.97 - ETA: 14s - loss: 0.0769 - acc: 0.97 - ETA: 13s - loss: 0.0773 - acc: 0.97 - ETA: 12s - loss: 0.0744 - acc: 0.97 - ETA: 12s - loss: 0.0731 - acc: 0.97 - ETA: 11s - loss: 0.0711 - acc: 0.98 - ETA: 10s - loss: 0.0679 - acc: 0.98 - ETA: 9s - loss: 0.0863 - acc: 0.9743 - ETA: 8s - loss: 0.0825 - acc: 0.975 - ETA: 8s - loss: 0.0852 - acc: 0.972 - ETA: 7s - loss: 0.0840 - acc: 0.971 - ETA: 6s - loss: 0.0944 - acc: 0.968 - ETA: 5s - loss: 0.0905 - acc: 0.970 - ETA: 4s - loss: 0.1112 - acc: 0.964 - ETA: 3s - loss: 0.1070 - acc: 0.966 - ETA: 3s - loss: 0.1033 - acc: 0.967 - ETA: 2s - loss: 0.1078 - acc: 0.963 - ETA: 1s - loss: 0.1045 - acc: 0.965 - ETA: 0s - loss: 0.1019 - acc: 0.966 - 25s 28ms/step - loss: 0.1045 - acc: 0.9661 - val_loss: 1.0763 - val_acc: 0.7686\n",
      "\n",
      "Epoch 00026: saving model to cp.ckpt\n",
      "Epoch 27/50\n",
      "915/915 [==============================] - ETA: 21s - loss: 0.0360 - acc: 1.00 - ETA: 20s - loss: 0.0739 - acc: 0.98 - ETA: 21s - loss: 0.0979 - acc: 0.95 - ETA: 20s - loss: 0.0780 - acc: 0.96 - ETA: 19s - loss: 0.0796 - acc: 0.96 - ETA: 18s - loss: 0.0698 - acc: 0.97 - ETA: 17s - loss: 0.0908 - acc: 0.96 - ETA: 16s - loss: 0.0808 - acc: 0.97 - ETA: 15s - loss: 0.1039 - acc: 0.96 - ETA: 15s - loss: 0.0949 - acc: 0.97 - ETA: 15s - loss: 0.0871 - acc: 0.97 - ETA: 14s - loss: 0.0859 - acc: 0.97 - ETA: 14s - loss: 0.0883 - acc: 0.97 - ETA: 13s - loss: 0.0848 - acc: 0.97 - ETA: 12s - loss: 0.0857 - acc: 0.97 - ETA: 11s - loss: 0.0811 - acc: 0.97 - ETA: 10s - loss: 0.0783 - acc: 0.97 - ETA: 9s - loss: 0.0768 - acc: 0.9757 - ETA: 8s - loss: 0.0769 - acc: 0.975 - ETA: 7s - loss: 0.0750 - acc: 0.976 - ETA: 6s - loss: 0.0785 - acc: 0.976 - ETA: 5s - loss: 0.0759 - acc: 0.977 - ETA: 4s - loss: 0.0813 - acc: 0.975 - ETA: 3s - loss: 0.0820 - acc: 0.975 - ETA: 2s - loss: 0.0821 - acc: 0.975 - ETA: 2s - loss: 0.0930 - acc: 0.968 - ETA: 1s - loss: 0.0899 - acc: 0.969 - ETA: 0s - loss: 0.0875 - acc: 0.971 - 24s 26ms/step - loss: 0.0859 - acc: 0.9716 - val_loss: 0.9970 - val_acc: 0.7904\n",
      "\n",
      "Epoch 00027: saving model to cp.ckpt\n",
      "Epoch 28/50\n",
      "915/915 [==============================] - ETA: 17s - loss: 0.1241 - acc: 0.96 - ETA: 19s - loss: 0.1351 - acc: 0.95 - ETA: 18s - loss: 0.1323 - acc: 0.95 - ETA: 18s - loss: 0.1185 - acc: 0.96 - ETA: 17s - loss: 0.1141 - acc: 0.96 - ETA: 17s - loss: 0.1008 - acc: 0.96 - ETA: 16s - loss: 0.1216 - acc: 0.96 - ETA: 15s - loss: 0.1083 - acc: 0.97 - ETA: 15s - loss: 0.0976 - acc: 0.97 - ETA: 15s - loss: 0.0883 - acc: 0.97 - ETA: 15s - loss: 0.0831 - acc: 0.98 - ETA: 14s - loss: 0.0817 - acc: 0.97 - ETA: 13s - loss: 0.0765 - acc: 0.98 - ETA: 12s - loss: 0.0755 - acc: 0.97 - ETA: 12s - loss: 0.0712 - acc: 0.98 - ETA: 11s - loss: 0.0670 - acc: 0.98 - ETA: 10s - loss: 0.0666 - acc: 0.98 - ETA: 9s - loss: 0.0719 - acc: 0.9792 - ETA: 8s - loss: 0.0687 - acc: 0.980 - ETA: 7s - loss: 0.0675 - acc: 0.979 - ETA: 6s - loss: 0.0681 - acc: 0.977 - ETA: 5s - loss: 0.0679 - acc: 0.977 - ETA: 4s - loss: 0.0661 - acc: 0.978 - ETA: 4s - loss: 0.0655 - acc: 0.977 - ETA: 3s - loss: 0.0635 - acc: 0.978 - ETA: 2s - loss: 0.0683 - acc: 0.977 - ETA: 1s - loss: 0.0661 - acc: 0.978 - ETA: 0s - loss: 0.0666 - acc: 0.977 - 25s 28ms/step - loss: 0.0657 - acc: 0.9781 - val_loss: 0.9929 - val_acc: 0.8122\n",
      "\n",
      "Epoch 00028: saving model to cp.ckpt\n",
      "Epoch 29/50\n",
      "915/915 [==============================] - ETA: 19s - loss: 0.1654 - acc: 0.96 - ETA: 21s - loss: 0.1222 - acc: 0.96 - ETA: 22s - loss: 0.0837 - acc: 0.97 - ETA: 20s - loss: 0.0941 - acc: 0.96 - ETA: 19s - loss: 0.0774 - acc: 0.97 - ETA: 19s - loss: 0.0715 - acc: 0.97 - ETA: 18s - loss: 0.0740 - acc: 0.97 - ETA: 17s - loss: 0.0678 - acc: 0.97 - ETA: 16s - loss: 0.0914 - acc: 0.96 - ETA: 15s - loss: 0.0832 - acc: 0.96 - ETA: 14s - loss: 0.0778 - acc: 0.97 - ETA: 13s - loss: 0.0958 - acc: 0.96 - ETA: 12s - loss: 0.0933 - acc: 0.96 - ETA: 11s - loss: 0.0904 - acc: 0.96 - ETA: 10s - loss: 0.0859 - acc: 0.97 - ETA: 9s - loss: 0.0933 - acc: 0.9688 - ETA: 8s - loss: 0.0893 - acc: 0.970 - ETA: 8s - loss: 0.0854 - acc: 0.972 - ETA: 7s - loss: 0.0832 - acc: 0.973 - ETA: 6s - loss: 0.0900 - acc: 0.971 - ETA: 5s - loss: 0.0868 - acc: 0.973 - ETA: 4s - loss: 0.0844 - acc: 0.974 - ETA: 4s - loss: 0.0886 - acc: 0.971 - ETA: 3s - loss: 0.0905 - acc: 0.970 - ETA: 2s - loss: 0.0938 - acc: 0.968 - ETA: 1s - loss: 0.0913 - acc: 0.970 - ETA: 1s - loss: 0.0892 - acc: 0.969 - ETA: 0s - loss: 0.0948 - acc: 0.969 - 22s 24ms/step - loss: 0.0930 - acc: 0.9705 - val_loss: 0.9214 - val_acc: 0.8210\n",
      "\n",
      "Epoch 00029: saving model to cp.ckpt\n",
      "Epoch 30/50\n",
      "915/915 [==============================] - ETA: 31s - loss: 0.0101 - acc: 1.00 - ETA: 30s - loss: 0.0086 - acc: 1.00 - ETA: 29s - loss: 0.0103 - acc: 1.00 - ETA: 27s - loss: 0.0102 - acc: 1.00 - ETA: 24s - loss: 0.0305 - acc: 0.98 - ETA: 23s - loss: 0.0280 - acc: 0.98 - ETA: 22s - loss: 0.0257 - acc: 0.99 - ETA: 21s - loss: 0.0286 - acc: 0.99 - ETA: 20s - loss: 0.0614 - acc: 0.98 - ETA: 19s - loss: 0.0646 - acc: 0.98 - ETA: 18s - loss: 0.0649 - acc: 0.98 - ETA: 17s - loss: 0.0616 - acc: 0.98 - ETA: 16s - loss: 0.0663 - acc: 0.98 - ETA: 14s - loss: 0.0620 - acc: 0.98 - ETA: 13s - loss: 0.0600 - acc: 0.98 - ETA: 12s - loss: 0.0628 - acc: 0.98 - ETA: 11s - loss: 0.0620 - acc: 0.98 - ETA: 10s - loss: 0.0679 - acc: 0.97 - ETA: 9s - loss: 0.0651 - acc: 0.9803 - ETA: 8s - loss: 0.0639 - acc: 0.979 - ETA: 7s - loss: 0.0610 - acc: 0.980 - ETA: 6s - loss: 0.0621 - acc: 0.980 - ETA: 5s - loss: 0.0604 - acc: 0.981 - ETA: 4s - loss: 0.0583 - acc: 0.981 - ETA: 3s - loss: 0.0567 - acc: 0.982 - ETA: 2s - loss: 0.0563 - acc: 0.982 - ETA: 1s - loss: 0.0552 - acc: 0.982 - ETA: 0s - loss: 0.0535 - acc: 0.983 - 30s 33ms/step - loss: 0.0531 - acc: 0.9836 - val_loss: 0.9182 - val_acc: 0.8166\n",
      "\n",
      "Epoch 00030: saving model to cp.ckpt\n",
      "Epoch 31/50\n"
     ]
    },
    {
     "name": "stdout",
     "output_type": "stream",
     "text": [
      "915/915 [==============================] - ETA: 21s - loss: 0.0054 - acc: 1.00 - ETA: 22s - loss: 0.0075 - acc: 1.00 - ETA: 21s - loss: 0.0078 - acc: 1.00 - ETA: 21s - loss: 0.0075 - acc: 1.00 - ETA: 19s - loss: 0.0066 - acc: 1.00 - ETA: 19s - loss: 0.0060 - acc: 1.00 - ETA: 18s - loss: 0.0149 - acc: 0.99 - ETA: 18s - loss: 0.0227 - acc: 0.98 - ETA: 17s - loss: 0.0266 - acc: 0.98 - ETA: 16s - loss: 0.0245 - acc: 0.98 - ETA: 15s - loss: 0.0263 - acc: 0.98 - ETA: 14s - loss: 0.0250 - acc: 0.98 - ETA: 13s - loss: 0.0284 - acc: 0.99 - ETA: 13s - loss: 0.0308 - acc: 0.98 - ETA: 12s - loss: 0.0289 - acc: 0.98 - ETA: 11s - loss: 0.0278 - acc: 0.99 - ETA: 10s - loss: 0.0700 - acc: 0.97 - ETA: 9s - loss: 0.0676 - acc: 0.9740 - ETA: 8s - loss: 0.0928 - acc: 0.965 - ETA: 7s - loss: 0.1148 - acc: 0.957 - ETA: 6s - loss: 0.1136 - acc: 0.956 - ETA: 5s - loss: 0.1212 - acc: 0.954 - ETA: 4s - loss: 0.1737 - acc: 0.941 - ETA: 4s - loss: 0.1689 - acc: 0.944 - ETA: 3s - loss: 0.1655 - acc: 0.945 - ETA: 2s - loss: 0.1685 - acc: 0.942 - ETA: 1s - loss: 0.1688 - acc: 0.939 - ETA: 0s - loss: 0.1723 - acc: 0.938 - 26s 28ms/step - loss: 0.1692 - acc: 0.9399 - val_loss: 1.0731 - val_acc: 0.7904\n",
      "\n",
      "Epoch 00031: saving model to cp.ckpt\n",
      "Epoch 32/50\n",
      "915/915 [==============================] - ETA: 25s - loss: 0.1134 - acc: 0.96 - ETA: 20s - loss: 0.2735 - acc: 0.89 - ETA: 20s - loss: 0.2135 - acc: 0.90 - ETA: 19s - loss: 0.1813 - acc: 0.92 - ETA: 18s - loss: 0.1616 - acc: 0.93 - ETA: 17s - loss: 0.1800 - acc: 0.92 - ETA: 16s - loss: 0.1854 - acc: 0.92 - ETA: 16s - loss: 0.1727 - acc: 0.92 - ETA: 15s - loss: 0.1667 - acc: 0.93 - ETA: 14s - loss: 0.1696 - acc: 0.93 - ETA: 13s - loss: 0.1844 - acc: 0.92 - ETA: 12s - loss: 0.1795 - acc: 0.92 - ETA: 12s - loss: 0.1693 - acc: 0.93 - ETA: 11s - loss: 0.1623 - acc: 0.93 - ETA: 10s - loss: 0.1599 - acc: 0.93 - ETA: 9s - loss: 0.1579 - acc: 0.9395 - ETA: 8s - loss: 0.1559 - acc: 0.939 - ETA: 7s - loss: 0.1583 - acc: 0.939 - ETA: 7s - loss: 0.1515 - acc: 0.942 - ETA: 6s - loss: 0.1476 - acc: 0.943 - ETA: 5s - loss: 0.1424 - acc: 0.946 - ETA: 4s - loss: 0.1402 - acc: 0.947 - ETA: 4s - loss: 0.1366 - acc: 0.948 - ETA: 3s - loss: 0.1340 - acc: 0.950 - ETA: 2s - loss: 0.1304 - acc: 0.952 - ETA: 1s - loss: 0.1267 - acc: 0.954 - ETA: 1s - loss: 0.1253 - acc: 0.953 - ETA: 0s - loss: 0.1248 - acc: 0.954 - 22s 24ms/step - loss: 0.1229 - acc: 0.9552 - val_loss: 1.0197 - val_acc: 0.7860\n",
      "\n",
      "Epoch 00032: saving model to cp.ckpt\n",
      "Epoch 33/50\n",
      "915/915 [==============================] - ETA: 22s - loss: 0.0528 - acc: 0.96 - ETA: 20s - loss: 0.0523 - acc: 0.96 - ETA: 19s - loss: 0.0739 - acc: 0.95 - ETA: 18s - loss: 0.0588 - acc: 0.96 - ETA: 17s - loss: 0.0559 - acc: 0.96 - ETA: 16s - loss: 0.0499 - acc: 0.97 - ETA: 15s - loss: 0.0567 - acc: 0.97 - ETA: 15s - loss: 0.0697 - acc: 0.96 - ETA: 13s - loss: 0.0658 - acc: 0.96 - ETA: 13s - loss: 0.0622 - acc: 0.97 - ETA: 12s - loss: 0.0666 - acc: 0.97 - ETA: 12s - loss: 0.0621 - acc: 0.97 - ETA: 11s - loss: 0.0654 - acc: 0.97 - ETA: 10s - loss: 0.0640 - acc: 0.97 - ETA: 10s - loss: 0.0615 - acc: 0.97 - ETA: 9s - loss: 0.0584 - acc: 0.9746 - ETA: 8s - loss: 0.0558 - acc: 0.976 - ETA: 8s - loss: 0.0559 - acc: 0.975 - ETA: 7s - loss: 0.0534 - acc: 0.977 - ETA: 6s - loss: 0.0515 - acc: 0.978 - ETA: 5s - loss: 0.0494 - acc: 0.979 - ETA: 5s - loss: 0.0477 - acc: 0.980 - ETA: 4s - loss: 0.0462 - acc: 0.981 - ETA: 3s - loss: 0.0443 - acc: 0.981 - ETA: 2s - loss: 0.0484 - acc: 0.980 - ETA: 2s - loss: 0.0467 - acc: 0.980 - ETA: 1s - loss: 0.0460 - acc: 0.981 - ETA: 0s - loss: 0.0485 - acc: 0.981 - 24s 26ms/step - loss: 0.0476 - acc: 0.9814 - val_loss: 0.9394 - val_acc: 0.8297\n",
      "\n",
      "Epoch 00033: saving model to cp.ckpt\n",
      "Epoch 34/50\n",
      "915/915 [==============================] - ETA: 14s - loss: 0.0010 - acc: 1.00 - ETA: 15s - loss: 0.0015 - acc: 1.00 - ETA: 17s - loss: 0.0022 - acc: 1.00 - ETA: 19s - loss: 0.0027 - acc: 1.00 - ETA: 18s - loss: 0.0037 - acc: 1.00 - ETA: 18s - loss: 0.0058 - acc: 1.00 - ETA: 16s - loss: 0.0163 - acc: 0.99 - ETA: 15s - loss: 0.0151 - acc: 0.99 - ETA: 14s - loss: 0.0138 - acc: 0.99 - ETA: 13s - loss: 0.0126 - acc: 0.99 - ETA: 13s - loss: 0.0121 - acc: 0.99 - ETA: 12s - loss: 0.0125 - acc: 0.99 - ETA: 11s - loss: 0.0116 - acc: 0.99 - ETA: 11s - loss: 0.0113 - acc: 0.99 - ETA: 10s - loss: 0.0112 - acc: 0.99 - ETA: 10s - loss: 0.0108 - acc: 0.99 - ETA: 9s - loss: 0.0104 - acc: 0.9982 - ETA: 9s - loss: 0.0117 - acc: 0.998 - ETA: 8s - loss: 0.0116 - acc: 0.998 - ETA: 7s - loss: 0.0113 - acc: 0.998 - ETA: 6s - loss: 0.0110 - acc: 0.998 - ETA: 5s - loss: 0.0106 - acc: 0.998 - ETA: 4s - loss: 0.0106 - acc: 0.998 - ETA: 4s - loss: 0.0102 - acc: 0.998 - ETA: 3s - loss: 0.0098 - acc: 0.998 - ETA: 2s - loss: 0.0097 - acc: 0.998 - ETA: 1s - loss: 0.0095 - acc: 0.998 - ETA: 0s - loss: 0.0094 - acc: 0.998 - 26s 28ms/step - loss: 0.0092 - acc: 0.9989 - val_loss: 1.2022 - val_acc: 0.8166\n",
      "\n",
      "Epoch 00034: saving model to cp.ckpt\n",
      "Epoch 35/50\n",
      "915/915 [==============================] - ETA: 26s - loss: 0.0038 - acc: 1.00 - ETA: 24s - loss: 0.0029 - acc: 1.00 - ETA: 24s - loss: 0.0031 - acc: 1.00 - ETA: 24s - loss: 0.0063 - acc: 1.00 - ETA: 26s - loss: 0.0055 - acc: 1.00 - ETA: 26s - loss: 0.0047 - acc: 1.00 - ETA: 24s - loss: 0.0044 - acc: 1.00 - ETA: 23s - loss: 0.0040 - acc: 1.00 - ETA: 22s - loss: 0.0042 - acc: 1.00 - ETA: 20s - loss: 0.0040 - acc: 1.00 - ETA: 19s - loss: 0.0038 - acc: 1.00 - ETA: 18s - loss: 0.0035 - acc: 1.00 - ETA: 17s - loss: 0.0034 - acc: 1.00 - ETA: 16s - loss: 0.0102 - acc: 0.99 - ETA: 15s - loss: 0.0096 - acc: 0.99 - ETA: 14s - loss: 0.0091 - acc: 0.99 - ETA: 12s - loss: 0.0087 - acc: 0.99 - ETA: 11s - loss: 0.0121 - acc: 0.99 - ETA: 10s - loss: 0.0118 - acc: 0.99 - ETA: 9s - loss: 0.0115 - acc: 0.9969 - ETA: 8s - loss: 0.0111 - acc: 0.997 - ETA: 7s - loss: 0.0107 - acc: 0.997 - ETA: 5s - loss: 0.0105 - acc: 0.997 - ETA: 4s - loss: 0.0152 - acc: 0.996 - ETA: 3s - loss: 0.0156 - acc: 0.995 - ETA: 2s - loss: 0.0151 - acc: 0.995 - ETA: 1s - loss: 0.0149 - acc: 0.995 - ETA: 0s - loss: 0.0144 - acc: 0.995 - 29s 32ms/step - loss: 0.0141 - acc: 0.9956 - val_loss: 1.2554 - val_acc: 0.8297\n",
      "\n",
      "Epoch 00035: saving model to cp.ckpt\n",
      "Epoch 36/50\n",
      "915/915 [==============================] - ETA: 22s - loss: 0.0032 - acc: 1.00 - ETA: 18s - loss: 0.0020 - acc: 1.00 - ETA: 19s - loss: 0.0016 - acc: 1.00 - ETA: 18s - loss: 0.0014 - acc: 1.00 - ETA: 17s - loss: 0.0145 - acc: 0.99 - ETA: 17s - loss: 0.0414 - acc: 0.98 - ETA: 16s - loss: 0.0360 - acc: 0.99 - ETA: 15s - loss: 0.0409 - acc: 0.98 - ETA: 15s - loss: 0.0473 - acc: 0.98 - ETA: 15s - loss: 0.0428 - acc: 0.98 - ETA: 14s - loss: 0.0394 - acc: 0.98 - ETA: 14s - loss: 0.0453 - acc: 0.98 - ETA: 13s - loss: 0.0695 - acc: 0.97 - ETA: 12s - loss: 0.0657 - acc: 0.97 - ETA: 11s - loss: 0.0645 - acc: 0.97 - ETA: 10s - loss: 0.1162 - acc: 0.96 - ETA: 10s - loss: 0.1099 - acc: 0.96 - ETA: 9s - loss: 0.1040 - acc: 0.9688 - ETA: 8s - loss: 0.1225 - acc: 0.963 - ETA: 7s - loss: 0.1221 - acc: 0.962 - ETA: 6s - loss: 0.1170 - acc: 0.964 - ETA: 5s - loss: 0.1291 - acc: 0.961 - ETA: 4s - loss: 0.1496 - acc: 0.955 - ETA: 3s - loss: 0.1496 - acc: 0.955 - ETA: 3s - loss: 0.1439 - acc: 0.957 - ETA: 2s - loss: 0.1399 - acc: 0.957 - ETA: 1s - loss: 0.1545 - acc: 0.953 - ETA: 0s - loss: 0.1716 - acc: 0.947 - 24s 27ms/step - loss: 0.1687 - acc: 0.9486 - val_loss: 1.6485 - val_acc: 0.6856\n",
      "\n",
      "Epoch 00036: saving model to cp.ckpt\n",
      "Epoch 37/50\n"
     ]
    },
    {
     "name": "stdout",
     "output_type": "stream",
     "text": [
      "915/915 [==============================] - ETA: 23s - loss: 1.4214 - acc: 0.68 - ETA: 21s - loss: 0.8533 - acc: 0.76 - ETA: 19s - loss: 0.5880 - acc: 0.84 - ETA: 18s - loss: 0.4744 - acc: 0.86 - ETA: 18s - loss: 0.6149 - acc: 0.83 - ETA: 17s - loss: 0.5899 - acc: 0.83 - ETA: 17s - loss: 0.5239 - acc: 0.85 - ETA: 16s - loss: 0.4876 - acc: 0.86 - ETA: 16s - loss: 0.4626 - acc: 0.86 - ETA: 15s - loss: 0.4341 - acc: 0.87 - ETA: 14s - loss: 0.4181 - acc: 0.87 - ETA: 13s - loss: 0.3917 - acc: 0.88 - ETA: 12s - loss: 0.3763 - acc: 0.88 - ETA: 11s - loss: 0.3619 - acc: 0.88 - ETA: 11s - loss: 0.3499 - acc: 0.88 - ETA: 10s - loss: 0.3397 - acc: 0.88 - ETA: 9s - loss: 0.3359 - acc: 0.8897 - ETA: 8s - loss: 0.3227 - acc: 0.895 - ETA: 7s - loss: 0.3134 - acc: 0.899 - ETA: 6s - loss: 0.3024 - acc: 0.904 - ETA: 6s - loss: 0.2990 - acc: 0.903 - ETA: 5s - loss: 0.2903 - acc: 0.906 - ETA: 4s - loss: 0.2815 - acc: 0.910 - ETA: 3s - loss: 0.2739 - acc: 0.912 - ETA: 2s - loss: 0.2663 - acc: 0.915 - ETA: 2s - loss: 0.2612 - acc: 0.918 - ETA: 1s - loss: 0.2617 - acc: 0.914 - ETA: 0s - loss: 0.2565 - acc: 0.916 - 23s 25ms/step - loss: 0.2519 - acc: 0.9180 - val_loss: 0.6175 - val_acc: 0.8341\n",
      "\n",
      "Epoch 00037: saving model to cp.ckpt\n",
      "Epoch 38/50\n",
      "915/915 [==============================] - ETA: 21s - loss: 0.0629 - acc: 1.00 - ETA: 19s - loss: 0.0660 - acc: 0.98 - ETA: 18s - loss: 0.1053 - acc: 0.95 - ETA: 17s - loss: 0.1118 - acc: 0.96 - ETA: 17s - loss: 0.0964 - acc: 0.96 - ETA: 16s - loss: 0.0840 - acc: 0.97 - ETA: 15s - loss: 0.0744 - acc: 0.97 - ETA: 15s - loss: 0.0678 - acc: 0.98 - ETA: 14s - loss: 0.0698 - acc: 0.97 - ETA: 13s - loss: 0.0665 - acc: 0.98 - ETA: 13s - loss: 0.0637 - acc: 0.98 - ETA: 12s - loss: 0.0595 - acc: 0.98 - ETA: 11s - loss: 0.0571 - acc: 0.98 - ETA: 10s - loss: 0.0560 - acc: 0.98 - ETA: 10s - loss: 0.0603 - acc: 0.98 - ETA: 9s - loss: 0.0569 - acc: 0.9844 - ETA: 9s - loss: 0.0545 - acc: 0.985 - ETA: 8s - loss: 0.0521 - acc: 0.986 - ETA: 7s - loss: 0.0502 - acc: 0.986 - ETA: 6s - loss: 0.0497 - acc: 0.987 - ETA: 5s - loss: 0.0474 - acc: 0.988 - ETA: 5s - loss: 0.0474 - acc: 0.987 - ETA: 4s - loss: 0.0488 - acc: 0.986 - ETA: 3s - loss: 0.0482 - acc: 0.987 - ETA: 2s - loss: 0.0467 - acc: 0.987 - ETA: 2s - loss: 0.0453 - acc: 0.988 - ETA: 1s - loss: 0.0451 - acc: 0.987 - ETA: 0s - loss: 0.0477 - acc: 0.986 - 23s 25ms/step - loss: 0.0468 - acc: 0.9869 - val_loss: 0.9061 - val_acc: 0.8472\n",
      "\n",
      "Epoch 00038: saving model to cp.ckpt\n",
      "Epoch 39/50\n",
      "915/915 [==============================] - ETA: 20s - loss: 0.0038 - acc: 1.00 - ETA: 21s - loss: 0.0181 - acc: 1.00 - ETA: 19s - loss: 0.0811 - acc: 0.97 - ETA: 18s - loss: 0.0710 - acc: 0.97 - ETA: 18s - loss: 0.0611 - acc: 0.98 - ETA: 17s - loss: 0.0514 - acc: 0.98 - ETA: 16s - loss: 0.0539 - acc: 0.98 - ETA: 15s - loss: 0.0476 - acc: 0.98 - ETA: 14s - loss: 0.0429 - acc: 0.98 - ETA: 14s - loss: 0.0403 - acc: 0.98 - ETA: 13s - loss: 0.0503 - acc: 0.98 - ETA: 12s - loss: 0.0468 - acc: 0.98 - ETA: 11s - loss: 0.0443 - acc: 0.98 - ETA: 10s - loss: 0.0478 - acc: 0.98 - ETA: 9s - loss: 0.0569 - acc: 0.9792 - ETA: 8s - loss: 0.0545 - acc: 0.980 - ETA: 8s - loss: 0.0515 - acc: 0.981 - ETA: 7s - loss: 0.0507 - acc: 0.982 - ETA: 7s - loss: 0.0665 - acc: 0.975 - ETA: 6s - loss: 0.0637 - acc: 0.976 - ETA: 5s - loss: 0.0609 - acc: 0.977 - ETA: 4s - loss: 0.0582 - acc: 0.978 - ETA: 4s - loss: 0.0559 - acc: 0.979 - ETA: 3s - loss: 0.0611 - acc: 0.979 - ETA: 2s - loss: 0.0703 - acc: 0.976 - ETA: 2s - loss: 0.0689 - acc: 0.977 - ETA: 1s - loss: 0.0664 - acc: 0.978 - ETA: 0s - loss: 0.0644 - acc: 0.978 - 23s 25ms/step - loss: 0.0670 - acc: 0.9781 - val_loss: 1.3039 - val_acc: 0.7511\n",
      "\n",
      "Epoch 00039: saving model to cp.ckpt\n",
      "Epoch 40/50\n",
      "915/915 [==============================] - ETA: 26s - loss: 0.1438 - acc: 0.93 - ETA: 25s - loss: 0.0747 - acc: 0.96 - ETA: 24s - loss: 0.0528 - acc: 0.97 - ETA: 22s - loss: 0.0464 - acc: 0.98 - ETA: 21s - loss: 0.0492 - acc: 0.98 - ETA: 19s - loss: 0.0591 - acc: 0.97 - ETA: 19s - loss: 0.0511 - acc: 0.97 - ETA: 18s - loss: 0.0456 - acc: 0.98 - ETA: 17s - loss: 0.0415 - acc: 0.98 - ETA: 16s - loss: 0.0507 - acc: 0.98 - ETA: 15s - loss: 0.0516 - acc: 0.98 - ETA: 14s - loss: 0.0483 - acc: 0.98 - ETA: 13s - loss: 0.0453 - acc: 0.98 - ETA: 12s - loss: 0.0439 - acc: 0.98 - ETA: 12s - loss: 0.0508 - acc: 0.98 - ETA: 11s - loss: 0.0634 - acc: 0.98 - ETA: 10s - loss: 0.0601 - acc: 0.98 - ETA: 9s - loss: 0.0571 - acc: 0.9826 - ETA: 8s - loss: 0.0577 - acc: 0.981 - ETA: 7s - loss: 0.0606 - acc: 0.981 - ETA: 6s - loss: 0.0585 - acc: 0.982 - ETA: 5s - loss: 0.0584 - acc: 0.981 - ETA: 4s - loss: 0.0589 - acc: 0.981 - ETA: 3s - loss: 0.0588 - acc: 0.981 - ETA: 3s - loss: 0.0574 - acc: 0.982 - ETA: 2s - loss: 0.0572 - acc: 0.982 - ETA: 1s - loss: 0.0556 - acc: 0.982 - ETA: 0s - loss: 0.0548 - acc: 0.982 - 25s 27ms/step - loss: 0.0542 - acc: 0.9825 - val_loss: 0.8930 - val_acc: 0.8079\n",
      "\n",
      "Epoch 00040: saving model to cp.ckpt\n",
      "Epoch 41/50\n",
      "915/915 [==============================] - ETA: 15s - loss: 0.0197 - acc: 1.00 - ETA: 15s - loss: 0.0596 - acc: 0.98 - ETA: 15s - loss: 0.0414 - acc: 0.98 - ETA: 16s - loss: 0.0317 - acc: 0.99 - ETA: 16s - loss: 0.0261 - acc: 0.99 - ETA: 15s - loss: 0.0222 - acc: 0.99 - ETA: 15s - loss: 0.0197 - acc: 0.99 - ETA: 14s - loss: 0.0176 - acc: 0.99 - ETA: 13s - loss: 0.0173 - acc: 0.99 - ETA: 13s - loss: 0.0162 - acc: 0.99 - ETA: 12s - loss: 0.0155 - acc: 0.99 - ETA: 11s - loss: 0.0191 - acc: 0.99 - ETA: 10s - loss: 0.0192 - acc: 0.99 - ETA: 10s - loss: 0.0181 - acc: 0.99 - ETA: 9s - loss: 0.0200 - acc: 0.9938 - ETA: 9s - loss: 0.0189 - acc: 0.994 - ETA: 8s - loss: 0.0188 - acc: 0.994 - ETA: 7s - loss: 0.0372 - acc: 0.987 - ETA: 6s - loss: 0.0356 - acc: 0.988 - ETA: 6s - loss: 0.0342 - acc: 0.989 - ETA: 5s - loss: 0.0327 - acc: 0.989 - ETA: 4s - loss: 0.0332 - acc: 0.988 - ETA: 4s - loss: 0.0353 - acc: 0.987 - ETA: 3s - loss: 0.0340 - acc: 0.988 - ETA: 2s - loss: 0.0327 - acc: 0.988 - ETA: 1s - loss: 0.0317 - acc: 0.989 - ETA: 1s - loss: 0.0308 - acc: 0.989 - ETA: 0s - loss: 0.0304 - acc: 0.990 - 22s 24ms/step - loss: 0.0298 - acc: 0.9902 - val_loss: 0.8828 - val_acc: 0.8428\n",
      "\n",
      "Epoch 00041: saving model to cp.ckpt\n",
      "Epoch 42/50\n",
      "915/915 [==============================] - ETA: 21s - loss: 0.2097 - acc: 0.93 - ETA: 21s - loss: 0.1060 - acc: 0.96 - ETA: 19s - loss: 0.0860 - acc: 0.96 - ETA: 18s - loss: 0.0682 - acc: 0.97 - ETA: 18s - loss: 0.0683 - acc: 0.98 - ETA: 17s - loss: 0.0601 - acc: 0.98 - ETA: 16s - loss: 0.0531 - acc: 0.98 - ETA: 15s - loss: 0.0472 - acc: 0.98 - ETA: 14s - loss: 0.0432 - acc: 0.98 - ETA: 14s - loss: 0.0392 - acc: 0.99 - ETA: 13s - loss: 0.0360 - acc: 0.99 - ETA: 12s - loss: 0.0334 - acc: 0.99 - ETA: 12s - loss: 0.0310 - acc: 0.99 - ETA: 11s - loss: 0.0299 - acc: 0.99 - ETA: 10s - loss: 0.0283 - acc: 0.99 - ETA: 10s - loss: 0.0282 - acc: 0.99 - ETA: 9s - loss: 0.0268 - acc: 0.9926 - ETA: 8s - loss: 0.0254 - acc: 0.993 - ETA: 7s - loss: 0.0242 - acc: 0.993 - ETA: 6s - loss: 0.0231 - acc: 0.993 - ETA: 6s - loss: 0.0221 - acc: 0.994 - ETA: 5s - loss: 0.0225 - acc: 0.994 - ETA: 4s - loss: 0.0216 - acc: 0.994 - ETA: 3s - loss: 0.0210 - acc: 0.994 - ETA: 2s - loss: 0.0203 - acc: 0.995 - ETA: 2s - loss: 0.0196 - acc: 0.995 - ETA: 1s - loss: 0.0189 - acc: 0.995 - ETA: 0s - loss: 0.0183 - acc: 0.995 - 23s 25ms/step - loss: 0.0180 - acc: 0.9956 - val_loss: 0.9489 - val_acc: 0.8428\n",
      "\n",
      "Epoch 00042: saving model to cp.ckpt\n",
      "Epoch 43/50\n"
     ]
    },
    {
     "name": "stdout",
     "output_type": "stream",
     "text": [
      "915/915 [==============================] - ETA: 21s - loss: 0.0019 - acc: 1.00 - ETA: 18s - loss: 0.0012 - acc: 1.00 - ETA: 19s - loss: 0.0011 - acc: 1.00 - ETA: 18s - loss: 0.0011 - acc: 1.00 - ETA: 18s - loss: 0.0014 - acc: 1.00 - ETA: 17s - loss: 0.0037 - acc: 1.00 - ETA: 17s - loss: 0.0044 - acc: 1.00 - ETA: 16s - loss: 0.0042 - acc: 1.00 - ETA: 15s - loss: 0.0038 - acc: 1.00 - ETA: 14s - loss: 0.0107 - acc: 0.99 - ETA: 13s - loss: 0.0099 - acc: 0.99 - ETA: 12s - loss: 0.0091 - acc: 0.99 - ETA: 12s - loss: 0.0095 - acc: 0.99 - ETA: 11s - loss: 0.0148 - acc: 0.99 - ETA: 11s - loss: 0.0153 - acc: 0.99 - ETA: 10s - loss: 0.0145 - acc: 0.99 - ETA: 9s - loss: 0.0137 - acc: 0.9963 - ETA: 8s - loss: 0.0130 - acc: 0.996 - ETA: 8s - loss: 0.0124 - acc: 0.996 - ETA: 7s - loss: 0.0163 - acc: 0.995 - ETA: 6s - loss: 0.0156 - acc: 0.995 - ETA: 5s - loss: 0.0156 - acc: 0.995 - ETA: 4s - loss: 0.0150 - acc: 0.995 - ETA: 4s - loss: 0.0144 - acc: 0.996 - ETA: 3s - loss: 0.0153 - acc: 0.995 - ETA: 2s - loss: 0.0150 - acc: 0.995 - ETA: 1s - loss: 0.0145 - acc: 0.995 - ETA: 0s - loss: 0.0141 - acc: 0.995 - 26s 29ms/step - loss: 0.0142 - acc: 0.9956 - val_loss: 1.1304 - val_acc: 0.8341\n",
      "\n",
      "Epoch 00043: saving model to cp.ckpt\n",
      "Epoch 44/50\n",
      "915/915 [==============================] - ETA: 21s - loss: 7.3496e-04 - acc: 1.00 - ETA: 20s - loss: 0.0034 - acc: 1.0000   - ETA: 20s - loss: 0.0039 - acc: 1.00 - ETA: 20s - loss: 0.0031 - acc: 1.00 - ETA: 19s - loss: 0.0106 - acc: 0.99 - ETA: 18s - loss: 0.0092 - acc: 0.99 - ETA: 18s - loss: 0.0119 - acc: 0.99 - ETA: 17s - loss: 0.0110 - acc: 0.99 - ETA: 16s - loss: 0.0110 - acc: 0.99 - ETA: 15s - loss: 0.0133 - acc: 0.99 - ETA: 15s - loss: 0.0122 - acc: 0.99 - ETA: 14s - loss: 0.0113 - acc: 0.99 - ETA: 13s - loss: 0.0108 - acc: 0.99 - ETA: 12s - loss: 0.0103 - acc: 0.99 - ETA: 12s - loss: 0.0197 - acc: 0.99 - ETA: 11s - loss: 0.0185 - acc: 0.99 - ETA: 10s - loss: 0.0175 - acc: 0.99 - ETA: 10s - loss: 0.0219 - acc: 0.99 - ETA: 9s - loss: 0.0348 - acc: 0.9885 - ETA: 8s - loss: 0.0335 - acc: 0.989 - ETA: 7s - loss: 0.0328 - acc: 0.989 - ETA: 6s - loss: 0.0400 - acc: 0.988 - ETA: 5s - loss: 0.0383 - acc: 0.989 - ETA: 4s - loss: 0.0371 - acc: 0.989 - ETA: 3s - loss: 0.0357 - acc: 0.990 - ETA: 2s - loss: 0.0345 - acc: 0.990 - ETA: 1s - loss: 0.0339 - acc: 0.990 - ETA: 0s - loss: 0.0327 - acc: 0.991 - 29s 31ms/step - loss: 0.0331 - acc: 0.9902 - val_loss: 1.1256 - val_acc: 0.8341\n",
      "\n",
      "Epoch 00044: saving model to cp.ckpt\n",
      "Epoch 45/50\n",
      "915/915 [==============================] - ETA: 19s - loss: 0.0031 - acc: 1.00 - ETA: 21s - loss: 0.0024 - acc: 1.00 - ETA: 21s - loss: 0.0025 - acc: 1.00 - ETA: 20s - loss: 0.0031 - acc: 1.00 - ETA: 19s - loss: 0.0031 - acc: 1.00 - ETA: 18s - loss: 0.0053 - acc: 1.00 - ETA: 17s - loss: 0.0248 - acc: 0.99 - ETA: 16s - loss: 0.0219 - acc: 0.99 - ETA: 15s - loss: 0.0199 - acc: 0.99 - ETA: 14s - loss: 0.0303 - acc: 0.99 - ETA: 13s - loss: 0.0496 - acc: 0.98 - ETA: 12s - loss: 0.0616 - acc: 0.98 - ETA: 11s - loss: 0.0896 - acc: 0.98 - ETA: 11s - loss: 0.0916 - acc: 0.97 - ETA: 10s - loss: 0.0861 - acc: 0.98 - ETA: 9s - loss: 0.0809 - acc: 0.9824 - ETA: 8s - loss: 0.0917 - acc: 0.981 - ETA: 8s - loss: 0.0960 - acc: 0.979 - ETA: 7s - loss: 0.0925 - acc: 0.980 - ETA: 6s - loss: 0.1032 - acc: 0.979 - ETA: 5s - loss: 0.1020 - acc: 0.977 - ETA: 5s - loss: 0.1015 - acc: 0.977 - ETA: 4s - loss: 0.1030 - acc: 0.976 - ETA: 3s - loss: 0.0989 - acc: 0.977 - ETA: 2s - loss: 0.0952 - acc: 0.978 - ETA: 1s - loss: 0.0919 - acc: 0.979 - ETA: 1s - loss: 0.0956 - acc: 0.976 - ETA: 0s - loss: 0.1024 - acc: 0.973 - 23s 25ms/step - loss: 0.1008 - acc: 0.9738 - val_loss: 1.3061 - val_acc: 0.7598\n",
      "\n",
      "Epoch 00045: saving model to cp.ckpt\n",
      "Epoch 46/50\n",
      "915/915 [==============================] - ETA: 27s - loss: 0.0252 - acc: 1.00 - ETA: 21s - loss: 0.1112 - acc: 0.96 - ETA: 20s - loss: 0.1194 - acc: 0.96 - ETA: 19s - loss: 0.0933 - acc: 0.97 - ETA: 17s - loss: 0.0788 - acc: 0.98 - ETA: 17s - loss: 0.0752 - acc: 0.97 - ETA: 16s - loss: 0.0722 - acc: 0.97 - ETA: 15s - loss: 0.0641 - acc: 0.98 - ETA: 14s - loss: 0.0584 - acc: 0.98 - ETA: 13s - loss: 0.0546 - acc: 0.98 - ETA: 13s - loss: 0.0576 - acc: 0.98 - ETA: 12s - loss: 0.0650 - acc: 0.98 - ETA: 11s - loss: 0.0608 - acc: 0.98 - ETA: 11s - loss: 0.0599 - acc: 0.98 - ETA: 10s - loss: 0.0567 - acc: 0.98 - ETA: 9s - loss: 0.0543 - acc: 0.9844 - ETA: 8s - loss: 0.0530 - acc: 0.983 - ETA: 7s - loss: 0.0637 - acc: 0.977 - ETA: 7s - loss: 0.0649 - acc: 0.977 - ETA: 6s - loss: 0.0623 - acc: 0.978 - ETA: 5s - loss: 0.0673 - acc: 0.974 - ETA: 4s - loss: 0.0750 - acc: 0.974 - ETA: 4s - loss: 0.0757 - acc: 0.974 - ETA: 3s - loss: 0.0749 - acc: 0.974 - ETA: 2s - loss: 0.0721 - acc: 0.975 - ETA: 1s - loss: 0.0699 - acc: 0.976 - ETA: 1s - loss: 0.0702 - acc: 0.975 - ETA: 0s - loss: 0.0694 - acc: 0.976 - 22s 24ms/step - loss: 0.0697 - acc: 0.9760 - val_loss: 0.8581 - val_acc: 0.8166\n",
      "\n",
      "Epoch 00046: saving model to cp.ckpt\n",
      "Epoch 47/50\n",
      "915/915 [==============================] - ETA: 21s - loss: 0.1280 - acc: 0.93 - ETA: 21s - loss: 0.0707 - acc: 0.96 - ETA: 21s - loss: 0.0500 - acc: 0.97 - ETA: 19s - loss: 0.0993 - acc: 0.96 - ETA: 18s - loss: 0.0815 - acc: 0.96 - ETA: 18s - loss: 0.0708 - acc: 0.97 - ETA: 17s - loss: 0.0652 - acc: 0.97 - ETA: 16s - loss: 0.0577 - acc: 0.97 - ETA: 15s - loss: 0.0523 - acc: 0.97 - ETA: 14s - loss: 0.0481 - acc: 0.98 - ETA: 13s - loss: 0.0459 - acc: 0.98 - ETA: 13s - loss: 0.0448 - acc: 0.98 - ETA: 12s - loss: 0.0514 - acc: 0.98 - ETA: 11s - loss: 0.0488 - acc: 0.98 - ETA: 10s - loss: 0.0460 - acc: 0.98 - ETA: 9s - loss: 0.0446 - acc: 0.9844 - ETA: 8s - loss: 0.0422 - acc: 0.985 - ETA: 8s - loss: 0.0436 - acc: 0.984 - ETA: 7s - loss: 0.0420 - acc: 0.985 - ETA: 6s - loss: 0.0405 - acc: 0.985 - ETA: 5s - loss: 0.0403 - acc: 0.985 - ETA: 4s - loss: 0.0386 - acc: 0.985 - ETA: 4s - loss: 0.0382 - acc: 0.985 - ETA: 3s - loss: 0.0370 - acc: 0.985 - ETA: 2s - loss: 0.0357 - acc: 0.986 - ETA: 1s - loss: 0.0366 - acc: 0.985 - ETA: 1s - loss: 0.0392 - acc: 0.983 - ETA: 0s - loss: 0.0385 - acc: 0.984 - 22s 24ms/step - loss: 0.0382 - acc: 0.9847 - val_loss: 1.2784 - val_acc: 0.7991\n",
      "\n",
      "Epoch 00047: saving model to cp.ckpt\n",
      "Epoch 48/50\n",
      "915/915 [==============================] - ETA: 22s - loss: 0.0419 - acc: 0.96 - ETA: 21s - loss: 0.0262 - acc: 0.98 - ETA: 20s - loss: 0.0478 - acc: 0.95 - ETA: 19s - loss: 0.0363 - acc: 0.96 - ETA: 17s - loss: 0.0295 - acc: 0.97 - ETA: 17s - loss: 0.0251 - acc: 0.97 - ETA: 17s - loss: 0.0224 - acc: 0.98 - ETA: 15s - loss: 0.0201 - acc: 0.98 - ETA: 15s - loss: 0.0193 - acc: 0.98 - ETA: 14s - loss: 0.0194 - acc: 0.98 - ETA: 13s - loss: 0.0190 - acc: 0.98 - ETA: 12s - loss: 0.0266 - acc: 0.98 - ETA: 11s - loss: 0.0252 - acc: 0.98 - ETA: 10s - loss: 0.0239 - acc: 0.98 - ETA: 10s - loss: 0.0225 - acc: 0.98 - ETA: 9s - loss: 0.0384 - acc: 0.9844 - ETA: 8s - loss: 0.0400 - acc: 0.983 - ETA: 8s - loss: 0.0379 - acc: 0.984 - ETA: 7s - loss: 0.0362 - acc: 0.985 - ETA: 6s - loss: 0.0345 - acc: 0.985 - ETA: 5s - loss: 0.0334 - acc: 0.986 - ETA: 5s - loss: 0.0325 - acc: 0.987 - ETA: 4s - loss: 0.0404 - acc: 0.983 - ETA: 3s - loss: 0.0436 - acc: 0.983 - ETA: 2s - loss: 0.0420 - acc: 0.983 - ETA: 1s - loss: 0.0430 - acc: 0.983 - ETA: 1s - loss: 0.0415 - acc: 0.983 - ETA: 0s - loss: 0.0401 - acc: 0.984 - 22s 25ms/step - loss: 0.0403 - acc: 0.9836 - val_loss: 1.1634 - val_acc: 0.8035\n",
      "\n",
      "Epoch 00048: saving model to cp.ckpt\n",
      "Epoch 49/50\n"
     ]
    },
    {
     "name": "stdout",
     "output_type": "stream",
     "text": [
      "915/915 [==============================] - ETA: 18s - loss: 0.3504 - acc: 0.93 - ETA: 20s - loss: 0.1840 - acc: 0.96 - ETA: 18s - loss: 0.1251 - acc: 0.97 - ETA: 17s - loss: 0.0952 - acc: 0.98 - ETA: 16s - loss: 0.0986 - acc: 0.98 - ETA: 16s - loss: 0.0823 - acc: 0.98 - ETA: 15s - loss: 0.0713 - acc: 0.98 - ETA: 15s - loss: 0.0798 - acc: 0.98 - ETA: 14s - loss: 0.0715 - acc: 0.98 - ETA: 13s - loss: 0.0646 - acc: 0.98 - ETA: 13s - loss: 0.0590 - acc: 0.98 - ETA: 12s - loss: 0.0543 - acc: 0.98 - ETA: 11s - loss: 0.0536 - acc: 0.98 - ETA: 10s - loss: 0.0505 - acc: 0.98 - ETA: 10s - loss: 0.0555 - acc: 0.98 - ETA: 9s - loss: 0.0535 - acc: 0.9883 - ETA: 8s - loss: 0.0505 - acc: 0.989 - ETA: 7s - loss: 0.0500 - acc: 0.989 - ETA: 7s - loss: 0.0508 - acc: 0.988 - ETA: 6s - loss: 0.0612 - acc: 0.985 - ETA: 5s - loss: 0.0601 - acc: 0.985 - ETA: 4s - loss: 0.0580 - acc: 0.985 - ETA: 4s - loss: 0.0570 - acc: 0.986 - ETA: 3s - loss: 0.0589 - acc: 0.984 - ETA: 2s - loss: 0.0617 - acc: 0.983 - ETA: 1s - loss: 0.0629 - acc: 0.983 - ETA: 1s - loss: 0.0608 - acc: 0.983 - ETA: 0s - loss: 0.0602 - acc: 0.983 - 22s 24ms/step - loss: 0.0597 - acc: 0.9836 - val_loss: 0.9584 - val_acc: 0.7904\n",
      "\n",
      "Epoch 00049: saving model to cp.ckpt\n",
      "Epoch 50/50\n",
      "915/915 [==============================] - ETA: 21s - loss: 0.1704 - acc: 0.93 - ETA: 21s - loss: 0.1524 - acc: 0.95 - ETA: 19s - loss: 0.1031 - acc: 0.96 - ETA: 19s - loss: 0.0931 - acc: 0.96 - ETA: 18s - loss: 0.1114 - acc: 0.96 - ETA: 17s - loss: 0.0939 - acc: 0.96 - ETA: 16s - loss: 0.0813 - acc: 0.97 - ETA: 15s - loss: 0.0720 - acc: 0.97 - ETA: 14s - loss: 0.0711 - acc: 0.97 - ETA: 13s - loss: 0.0644 - acc: 0.97 - ETA: 13s - loss: 0.0610 - acc: 0.98 - ETA: 12s - loss: 0.0682 - acc: 0.97 - ETA: 11s - loss: 0.0637 - acc: 0.98 - ETA: 10s - loss: 0.0599 - acc: 0.98 - ETA: 9s - loss: 0.0578 - acc: 0.9812 - ETA: 9s - loss: 0.0546 - acc: 0.982 - ETA: 8s - loss: 0.0518 - acc: 0.983 - ETA: 7s - loss: 0.0490 - acc: 0.984 - ETA: 6s - loss: 0.0467 - acc: 0.985 - ETA: 6s - loss: 0.0449 - acc: 0.985 - ETA: 5s - loss: 0.0430 - acc: 0.986 - ETA: 4s - loss: 0.0418 - acc: 0.987 - ETA: 3s - loss: 0.0406 - acc: 0.987 - ETA: 3s - loss: 0.0394 - acc: 0.988 - ETA: 2s - loss: 0.0382 - acc: 0.988 - ETA: 1s - loss: 0.0370 - acc: 0.989 - ETA: 1s - loss: 0.0358 - acc: 0.989 - ETA: 0s - loss: 0.0346 - acc: 0.990 - 21s 23ms/step - loss: 0.0339 - acc: 0.9902 - val_loss: 0.9998 - val_acc: 0.8253\n",
      "\n",
      "Epoch 00050: saving model to cp.ckpt\n"
     ]
    },
    {
     "data": {
      "text/plain": [
       "<keras.callbacks.History at 0x1e96a1e1390>"
      ]
     },
     "execution_count": 13,
     "metadata": {},
     "output_type": "execute_result"
    }
   ],
   "source": [
    "checkpoint_path = \"cp.ckpt\"\n",
    "checkpoint_dir = os.path.dirname(checkpoint_path)\n",
    "\n",
    "# Create a callback that saves the model's weights\n",
    "cp_callback = tf.keras.callbacks.ModelCheckpoint(filepath=checkpoint_path,\n",
    "                                                 save_weights_only=True,\n",
    "                                                 verbose=1)\n",
    "\n",
    "# Train the model with the new callback\n",
    "model.fit(tr_img_data, \n",
    "          tr_lbl_data,  \n",
    "          epochs=50,\n",
    "          validation_data=(tst_img_data,tst_lbl_data),\n",
    "          callbacks=[cp_callback])  # Pass callback to training\n"
   ]
  },
  {
   "cell_type": "code",
   "execution_count": 14,
   "metadata": {},
   "outputs": [
    {
     "name": "stdout",
     "output_type": "stream",
     "text": [
      "Untrained model, accuracy: 39.30%\n"
     ]
    }
   ],
   "source": [
    "# Create a basic model instance\n",
    "model = create_model()\n",
    "\n",
    "# Evaluate the model\n",
    "loss, acc = model.evaluate(tst_img_data,  tst_lbl_data, verbose=2)\n",
    "print(\"Untrained model, accuracy: {:5.2f}%\".format(100*acc))"
   ]
  },
  {
   "cell_type": "code",
   "execution_count": 15,
   "metadata": {},
   "outputs": [
    {
     "name": "stdout",
     "output_type": "stream",
     "text": [
      "Restored model, accuracy: 82.53%\n"
     ]
    }
   ],
   "source": [
    "# Loads the weights\n",
    "model.load_weights(checkpoint_path)\n",
    "\n",
    "# Re-evaluate the model\n",
    "loss,acc = model.evaluate(tst_img_data,  tst_lbl_data, verbose=2)\n",
    "print(\"Restored model, accuracy: {:5.2f}%\".format(100*acc))"
   ]
  },
  {
   "cell_type": "code",
   "execution_count": 46,
   "metadata": {},
   "outputs": [
    {
     "name": "stdout",
     "output_type": "stream",
     "text": [
      "[[0.00120043 0.9956606  0.00313892]]\n",
      "class2\n"
     ]
    }
   ],
   "source": [
    "img = cv2.imread(\"D:\\\\fintest\\\\2coal\\\\pic2crop.jpg\",cv2.IMREAD_GRAYSCALE)\n",
    "img=cv2.resize(img,(64,64))\n",
    "img=np.array(img)\n",
    "img =np.array(img).reshape(-1,64,64,1)\n",
    "img = img/255\n",
    "model_out=model.predict([img])\n",
    "print(model_out)\n",
    "if np.argmax(model_out)==0:\n",
    "    str_label='class1'\n",
    "        \n",
    "elif np.argmax(model_out)==1:\n",
    "    str_label='class2'\n",
    "else:\n",
    "    str_label='class3'\n",
    "print(str_label)\n"
   ]
  },
  {
   "cell_type": "code",
   "execution_count": null,
   "metadata": {},
   "outputs": [],
   "source": []
  }
 ],
 "metadata": {
  "kernelspec": {
   "display_name": "Python 3",
   "language": "python",
   "name": "python3"
  },
  "language_info": {
   "codemirror_mode": {
    "name": "ipython",
    "version": 3
   },
   "file_extension": ".py",
   "mimetype": "text/x-python",
   "name": "python",
   "nbconvert_exporter": "python",
   "pygments_lexer": "ipython3",
   "version": "3.6.7"
  }
 },
 "nbformat": 4,
 "nbformat_minor": 2
}
