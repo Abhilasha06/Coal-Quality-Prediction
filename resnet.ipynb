{
  "nbformat": 4,
  "nbformat_minor": 0,
  "metadata": {
    "kernelspec": {
      "name": "python3",
      "display_name": "Python 3"
    },
    "language_info": {
      "codemirror_mode": {
        "name": "ipython",
        "version": 3
      },
      "file_extension": ".py",
      "mimetype": "text/x-python",
      "name": "python",
      "nbconvert_exporter": "python",
      "pygments_lexer": "ipython3",
      "version": "3.6.7"
    },
    "colab": {
      "name": "rnet.ipynb",
      "provenance": [],
      "collapsed_sections": []
    },
    "accelerator": "GPU"
  },
  "cells": [
    {
      "cell_type": "code",
      "metadata": {
        "id": "JqLd97AQTWRr",
        "colab_type": "code",
        "colab": {
          "base_uri": "https://localhost:8080/",
          "height": 79
        },
        "outputId": "5f4a7fe6-e47f-4a0f-88d1-7fda0028621d"
      },
      "source": [
        "import keras\n",
        "from keras.applications import ResNet50\n",
        "from keras.models import Sequential\n",
        "from keras.layers import Dense, Flatten, GlobalAveragePooling2D"
      ],
      "execution_count": 2,
      "outputs": [
        {
          "output_type": "stream",
          "text": [
            "Using TensorFlow backend.\n"
          ],
          "name": "stderr"
        },
        {
          "output_type": "display_data",
          "data": {
            "text/html": [
              "<p style=\"color: red;\">\n",
              "The default version of TensorFlow in Colab will soon switch to TensorFlow 2.x.<br>\n",
              "We recommend you <a href=\"https://www.tensorflow.org/guide/migrate\" target=\"_blank\">upgrade</a> now \n",
              "or ensure your notebook will continue to use TensorFlow 1.x via the <code>%tensorflow_version 1.x</code> magic:\n",
              "<a href=\"https://colab.research.google.com/notebooks/tensorflow_version.ipynb\" target=\"_blank\">more info</a>.</p>\n"
            ],
            "text/plain": [
              "<IPython.core.display.HTML object>"
            ]
          },
          "metadata": {
            "tags": []
          }
        }
      ]
    },
    {
      "cell_type": "code",
      "metadata": {
        "id": "S421LPDOUA9E",
        "colab_type": "code",
        "colab": {
          "base_uri": "https://localhost:8080/",
          "height": 120
        },
        "outputId": "da5cac97-75ee-41b6-fcab-85ec97aeb4d6"
      },
      "source": [
        "from google.colab import drive\n",
        "drive.mount('/content/drive', force_remount=True)"
      ],
      "execution_count": 3,
      "outputs": [
        {
          "output_type": "stream",
          "text": [
            "Go to this URL in a browser: https://accounts.google.com/o/oauth2/auth?client_id=947318989803-6bn6qk8qdgf4n4g3pfee6491hc0brc4i.apps.googleusercontent.com&redirect_uri=urn%3aietf%3awg%3aoauth%3a2.0%3aoob&response_type=code&scope=email%20https%3a%2f%2fwww.googleapis.com%2fauth%2fdocs.test%20https%3a%2f%2fwww.googleapis.com%2fauth%2fdrive%20https%3a%2f%2fwww.googleapis.com%2fauth%2fdrive.photos.readonly%20https%3a%2f%2fwww.googleapis.com%2fauth%2fpeopleapi.readonly\n",
            "\n",
            "Enter your authorization code:\n",
            "··········\n",
            "Mounted at /content/drive\n"
          ],
          "name": "stdout"
        }
      ]
    },
    {
      "cell_type": "code",
      "metadata": {
        "id": "haC9LX-zTWR1",
        "colab_type": "code",
        "colab": {
          "base_uri": "https://localhost:8080/",
          "height": 470
        },
        "outputId": "b80dda4b-f4e7-4344-a7d2-01305369f0ac"
      },
      "source": [
        "num_classes = 3\n",
        "resnet_weights_path = '/content/drive/My Drive/resnet50_weights_tf_dim_ordering_tf_kernels_notop.h5'\n",
        "\n",
        "my_new_model = Sequential()\n",
        "my_new_model.add(ResNet50(include_top=False, pooling='avg', weights=resnet_weights_path))\n",
        "my_new_model.add(Dense(num_classes, activation='softmax'))\n",
        "\n",
        "# Say not to train first layer (ResNet) model. It is already trained\n",
        "my_new_model.layers[0].trainable = False"
      ],
      "execution_count": 4,
      "outputs": [
        {
          "output_type": "stream",
          "text": [
            "WARNING:tensorflow:From /usr/local/lib/python3.6/dist-packages/keras/backend/tensorflow_backend.py:66: The name tf.get_default_graph is deprecated. Please use tf.compat.v1.get_default_graph instead.\n",
            "\n",
            "WARNING:tensorflow:From /usr/local/lib/python3.6/dist-packages/keras/backend/tensorflow_backend.py:541: The name tf.placeholder is deprecated. Please use tf.compat.v1.placeholder instead.\n",
            "\n",
            "WARNING:tensorflow:From /usr/local/lib/python3.6/dist-packages/keras/backend/tensorflow_backend.py:4479: The name tf.truncated_normal is deprecated. Please use tf.random.truncated_normal instead.\n",
            "\n",
            "WARNING:tensorflow:From /usr/local/lib/python3.6/dist-packages/keras/backend/tensorflow_backend.py:190: The name tf.get_default_session is deprecated. Please use tf.compat.v1.get_default_session instead.\n",
            "\n",
            "WARNING:tensorflow:From /usr/local/lib/python3.6/dist-packages/keras/backend/tensorflow_backend.py:197: The name tf.ConfigProto is deprecated. Please use tf.compat.v1.ConfigProto instead.\n",
            "\n",
            "WARNING:tensorflow:From /usr/local/lib/python3.6/dist-packages/keras/backend/tensorflow_backend.py:203: The name tf.Session is deprecated. Please use tf.compat.v1.Session instead.\n",
            "\n",
            "WARNING:tensorflow:From /usr/local/lib/python3.6/dist-packages/keras/backend/tensorflow_backend.py:207: The name tf.global_variables is deprecated. Please use tf.compat.v1.global_variables instead.\n",
            "\n",
            "WARNING:tensorflow:From /usr/local/lib/python3.6/dist-packages/keras/backend/tensorflow_backend.py:216: The name tf.is_variable_initialized is deprecated. Please use tf.compat.v1.is_variable_initialized instead.\n",
            "\n",
            "WARNING:tensorflow:From /usr/local/lib/python3.6/dist-packages/keras/backend/tensorflow_backend.py:223: The name tf.variables_initializer is deprecated. Please use tf.compat.v1.variables_initializer instead.\n",
            "\n",
            "WARNING:tensorflow:From /usr/local/lib/python3.6/dist-packages/keras/backend/tensorflow_backend.py:2041: The name tf.nn.fused_batch_norm is deprecated. Please use tf.compat.v1.nn.fused_batch_norm instead.\n",
            "\n",
            "WARNING:tensorflow:From /usr/local/lib/python3.6/dist-packages/keras/backend/tensorflow_backend.py:148: The name tf.placeholder_with_default is deprecated. Please use tf.compat.v1.placeholder_with_default instead.\n",
            "\n",
            "WARNING:tensorflow:From /usr/local/lib/python3.6/dist-packages/keras/backend/tensorflow_backend.py:4267: The name tf.nn.max_pool is deprecated. Please use tf.nn.max_pool2d instead.\n",
            "\n",
            "WARNING:tensorflow:From /usr/local/lib/python3.6/dist-packages/keras/backend/tensorflow_backend.py:4432: The name tf.random_uniform is deprecated. Please use tf.random.uniform instead.\n",
            "\n"
          ],
          "name": "stdout"
        }
      ]
    },
    {
      "cell_type": "code",
      "metadata": {
        "id": "H1HltzbyTWR7",
        "colab_type": "code",
        "colab": {
          "base_uri": "https://localhost:8080/",
          "height": 103
        },
        "outputId": "4d349072-1dc6-4332-893e-61c37a708849"
      },
      "source": [
        "my_new_model.compile(optimizer='sgd', loss='categorical_crossentropy', metrics=['accuracy'])"
      ],
      "execution_count": 5,
      "outputs": [
        {
          "output_type": "stream",
          "text": [
            "WARNING:tensorflow:From /usr/local/lib/python3.6/dist-packages/keras/optimizers.py:793: The name tf.train.Optimizer is deprecated. Please use tf.compat.v1.train.Optimizer instead.\n",
            "\n",
            "WARNING:tensorflow:From /usr/local/lib/python3.6/dist-packages/keras/backend/tensorflow_backend.py:3576: The name tf.log is deprecated. Please use tf.math.log instead.\n",
            "\n"
          ],
          "name": "stdout"
        }
      ]
    },
    {
      "cell_type": "code",
      "metadata": {
        "id": "JxrVfv_KTWSB",
        "colab_type": "code",
        "colab": {}
      },
      "source": [
        "import matplotlib.pyplot as plt\n",
        "import os\n",
        "from random import shuffle\n",
        "from tqdm import tqdm\n",
        "import tensorflow as tf\n",
        "import cv2\n",
        "import numpy as np \n",
        "from tensorflow.python.framework import graph_util\n",
        "from keras.models import Sequential\n",
        "from keras.layers import *\n",
        "from keras.optimizers import *\n",
        "from sklearn.model_selection import train_test_split"
      ],
      "execution_count": 0,
      "outputs": []
    },
    {
      "cell_type": "code",
      "metadata": {
        "id": "XryvP4C0TWSF",
        "colab_type": "code",
        "colab": {}
      },
      "source": [
        "data1='/content/drive/My Drive/fintest/1coal'\n",
        "data2='/content/drive/My Drive/fintest/2coal'\n",
        "data3='/content/drive/My Drive/fintest/3coal'"
      ],
      "execution_count": 0,
      "outputs": []
    },
    {
      "cell_type": "code",
      "metadata": {
        "id": "c_UkaRH8TWSJ",
        "colab_type": "code",
        "colab": {}
      },
      "source": [
        "def data_with_label():\n",
        "    images=[]\n",
        "    cnt = 0\n",
        "    for i in tqdm(os.listdir(data1)):\n",
        "        path=os.path.join(data1,i)\n",
        "        img=cv2.imread(path,cv2.IMREAD_GRAYSCALE)\n",
        "        #img = tf.image.grayscale_to_rgb( img, name=None)\n",
        "        img = cv2.cvtColor(img,cv2.COLOR_GRAY2RGB)\n",
        "        img=cv2.resize(img,(224,224))\n",
        "        images.append([np.array(img),np.array([1,0,0])])\n",
        "    cnt = 0\n",
        "    for i in tqdm(os.listdir(data2)):\n",
        "        path=os.path.join(data2,i)\n",
        "        img=cv2.imread(path,cv2.IMREAD_GRAYSCALE)\n",
        "        #img = tf.image.grayscale_to_rgb( img, name=None)\n",
        "        img = cv2.cvtColor(img,cv2.COLOR_GRAY2RGB)\n",
        "        img=cv2.resize(img,(224,224))\n",
        "        images.append([np.array(img),np.array([0,1,0])])\n",
        "    cnt = 0\n",
        "    for i in tqdm(os.listdir(data2)):\n",
        "        path=os.path.join(data3,i)\n",
        "        img=cv2.imread(path,cv2.IMREAD_GRAYSCALE)\n",
        "        #img = tf.image.grayscale_to_rgb( img, name=None)\n",
        "        img = cv2.cvtColor(img,cv2.COLOR_GRAY2RGB)\n",
        "        img=cv2.resize(img,(224,224))\n",
        "        images.append([np.array(img),np.array([0,0,1])])\n",
        "        \n",
        "    shuffle(images)\n",
        "    return images"
      ],
      "execution_count": 0,
      "outputs": []
    },
    {
      "cell_type": "code",
      "metadata": {
        "id": "PjN8Lb1hTWSN",
        "colab_type": "code",
        "colab": {
          "base_uri": "https://localhost:8080/",
          "height": 67
        },
        "outputId": "bad839ea-db41-490d-a3b4-79394043d6bf"
      },
      "source": [
        "data = data_with_label()"
      ],
      "execution_count": 9,
      "outputs": [
        {
          "output_type": "stream",
          "text": [
            "100%|██████████| 390/390 [04:31<00:00,  1.74it/s]\n",
            "100%|██████████| 299/299 [03:32<00:00,  1.02s/it]\n",
            "100%|██████████| 299/299 [03:38<00:00,  2.32it/s]\n"
          ],
          "name": "stderr"
        }
      ]
    },
    {
      "cell_type": "code",
      "metadata": {
        "id": "KhXfOc0STWSV",
        "colab_type": "code",
        "colab": {}
      },
      "source": [
        "train_data, test_data = train_test_split(data, test_size=0.2)"
      ],
      "execution_count": 0,
      "outputs": []
    },
    {
      "cell_type": "code",
      "metadata": {
        "colab_type": "code",
        "id": "UC8EYarAw5uc",
        "colab": {}
      },
      "source": [
        "from keras.applications.resnet50 import preprocess_input\n",
        "tr_img_data = np.array([i[0] for i in train_data]).reshape(-1,224,224,3)\n",
        "tr_img_data = preprocess_input(tr_img_data)\n",
        "tr_lbl_data = np.array([i[1] for i in train_data])\n",
        "tst_img_data = np.array([i[0] for i in test_data]).reshape(-1,224,224,3)\n",
        "tst_img_data = preprocess_input(tst_img_data)\n",
        "tst_lbl_data = np.array([i[1] for i in test_data])"
      ],
      "execution_count": 0,
      "outputs": []
    },
    {
      "cell_type": "code",
      "metadata": {
        "colab_type": "code",
        "outputId": "c47bfa42-bb48-475e-ee04-7b2aa4143fc3",
        "id": "uxTl2SkXw5uN",
        "colab": {
          "base_uri": "https://localhost:8080/",
          "height": 1000
        }
      },
      "source": [
        "\n",
        "history = my_new_model.fit(x=tr_img_data,y=tr_lbl_data,epochs=25,batch_size=64,validation_data=(tst_img_data, tst_lbl_data))\n",
        "my_new_model.summary()"
      ],
      "execution_count": 19,
      "outputs": [
        {
          "output_type": "stream",
          "text": [
            "Train on 790 samples, validate on 198 samples\n",
            "Epoch 1/25\n",
            "790/790 [==============================] - 4s 5ms/step - loss: 0.1971 - acc: 0.9684 - val_loss: 0.3310 - val_acc: 0.8939\n",
            "Epoch 2/25\n",
            "790/790 [==============================] - 4s 5ms/step - loss: 0.1916 - acc: 0.9684 - val_loss: 0.3286 - val_acc: 0.9040\n",
            "Epoch 3/25\n",
            "790/790 [==============================] - 4s 5ms/step - loss: 0.1916 - acc: 0.9671 - val_loss: 0.3911 - val_acc: 0.8434\n",
            "Epoch 4/25\n",
            "790/790 [==============================] - 4s 5ms/step - loss: 0.1745 - acc: 0.9848 - val_loss: 0.3498 - val_acc: 0.8737\n",
            "Epoch 5/25\n",
            "790/790 [==============================] - 4s 5ms/step - loss: 0.1802 - acc: 0.9709 - val_loss: 0.4442 - val_acc: 0.8030\n",
            "Epoch 6/25\n",
            "790/790 [==============================] - 4s 5ms/step - loss: 0.1673 - acc: 0.9747 - val_loss: 0.3926 - val_acc: 0.8434\n",
            "Epoch 7/25\n",
            "790/790 [==============================] - 4s 5ms/step - loss: 0.1641 - acc: 0.9772 - val_loss: 0.3741 - val_acc: 0.8687\n",
            "Epoch 8/25\n",
            "790/790 [==============================] - 4s 5ms/step - loss: 0.1575 - acc: 0.9810 - val_loss: 0.3920 - val_acc: 0.8535\n",
            "Epoch 9/25\n",
            "790/790 [==============================] - 4s 5ms/step - loss: 0.1582 - acc: 0.9797 - val_loss: 0.3613 - val_acc: 0.8636\n",
            "Epoch 10/25\n",
            "790/790 [==============================] - 4s 5ms/step - loss: 0.1498 - acc: 0.9810 - val_loss: 0.3686 - val_acc: 0.8586\n",
            "Epoch 11/25\n",
            "790/790 [==============================] - 4s 5ms/step - loss: 0.1433 - acc: 0.9823 - val_loss: 0.3557 - val_acc: 0.8687\n",
            "Epoch 12/25\n",
            "790/790 [==============================] - 4s 5ms/step - loss: 0.1397 - acc: 0.9848 - val_loss: 0.3622 - val_acc: 0.8687\n",
            "Epoch 13/25\n",
            "790/790 [==============================] - 4s 5ms/step - loss: 0.1403 - acc: 0.9848 - val_loss: 0.3674 - val_acc: 0.8485\n",
            "Epoch 14/25\n",
            "790/790 [==============================] - 4s 5ms/step - loss: 0.1294 - acc: 0.9937 - val_loss: 0.4029 - val_acc: 0.8333\n",
            "Epoch 15/25\n",
            "790/790 [==============================] - 4s 5ms/step - loss: 0.1317 - acc: 0.9873 - val_loss: 0.3247 - val_acc: 0.8838\n",
            "Epoch 16/25\n",
            "790/790 [==============================] - 4s 5ms/step - loss: 0.1300 - acc: 0.9886 - val_loss: 0.3503 - val_acc: 0.8636\n",
            "Epoch 17/25\n",
            "790/790 [==============================] - 4s 5ms/step - loss: 0.1232 - acc: 0.9937 - val_loss: 0.3694 - val_acc: 0.8586\n",
            "Epoch 18/25\n",
            "790/790 [==============================] - 4s 5ms/step - loss: 0.1306 - acc: 0.9835 - val_loss: 0.3903 - val_acc: 0.8333\n",
            "Epoch 19/25\n",
            "790/790 [==============================] - 4s 5ms/step - loss: 0.1232 - acc: 0.9924 - val_loss: 0.3953 - val_acc: 0.8333\n",
            "Epoch 20/25\n",
            "790/790 [==============================] - 4s 5ms/step - loss: 0.1130 - acc: 0.9962 - val_loss: 0.3538 - val_acc: 0.8535\n",
            "Epoch 21/25\n",
            "790/790 [==============================] - 4s 5ms/step - loss: 0.1090 - acc: 0.9962 - val_loss: 0.3508 - val_acc: 0.8586\n",
            "Epoch 22/25\n",
            "790/790 [==============================] - 4s 5ms/step - loss: 0.1103 - acc: 0.9937 - val_loss: 0.3429 - val_acc: 0.8687\n",
            "Epoch 23/25\n",
            "790/790 [==============================] - 4s 5ms/step - loss: 0.1122 - acc: 0.9949 - val_loss: 0.3491 - val_acc: 0.8687\n",
            "Epoch 24/25\n",
            "790/790 [==============================] - 4s 5ms/step - loss: 0.1122 - acc: 0.9911 - val_loss: 0.4159 - val_acc: 0.8333\n",
            "Epoch 25/25\n",
            "790/790 [==============================] - 4s 5ms/step - loss: 0.1179 - acc: 0.9886 - val_loss: 0.3443 - val_acc: 0.8687\n",
            "Model: \"sequential_1\"\n",
            "_________________________________________________________________\n",
            "Layer (type)                 Output Shape              Param #   \n",
            "=================================================================\n",
            "resnet50 (Model)             (None, 2048)              23587712  \n",
            "_________________________________________________________________\n",
            "dense_1 (Dense)              (None, 3)                 6147      \n",
            "=================================================================\n",
            "Total params: 23,593,859\n",
            "Trainable params: 6,147\n",
            "Non-trainable params: 23,587,712\n",
            "_________________________________________________________________\n"
          ],
          "name": "stdout"
        }
      ]
    },
    {
      "cell_type": "code",
      "metadata": {
        "colab_type": "code",
        "outputId": "56342527-5bde-4ef2-e747-0a99641228fc",
        "id": "yhABQhYhw5t6",
        "colab": {
          "base_uri": "https://localhost:8080/",
          "height": 33
        }
      },
      "source": [
        "scores = my_new_model.evaluate(tst_img_data, tst_lbl_data,batch_size=64, verbose=0)\n",
        "print(\"%s: %.2f%%\" % (my_new_model.metrics_names[1], scores[1]*100))\n",
        " \n"
      ],
      "execution_count": 21,
      "outputs": [
        {
          "output_type": "stream",
          "text": [
            "acc: 86.87%\n"
          ],
          "name": "stdout"
        }
      ]
    },
    {
      "cell_type": "code",
      "metadata": {
        "colab_type": "code",
        "id": "BdbD-6rvw5tv",
        "colab": {
          "base_uri": "https://localhost:8080/",
          "height": 312
        },
        "outputId": "71aa9bfe-89b0-46c7-8ff9-e4f62d7ece00"
      },
      "source": [
        "print(history.history.keys())\n",
        "# summarize history for accuracy\n",
        "plt.plot(history.history['acc'])\n",
        "plt.title('model accuracy')\n",
        "plt.ylabel('accuracy')\n",
        "plt.xlabel('epoch')\n",
        "plt.legend(['train', 'test'], loc='upper left')\n",
        "plt.show()\n"
      ],
      "execution_count": 22,
      "outputs": [
        {
          "output_type": "stream",
          "text": [
            "dict_keys(['val_loss', 'val_acc', 'loss', 'acc'])\n"
          ],
          "name": "stdout"
        },
        {
          "output_type": "display_data",
          "data": {
            "image/png": "[encoded data removed]",
            "text/plain": [
              "<Figure size 432x288 with 1 Axes>"
            ]
          },
          "metadata": {
            "tags": []
          }
        }
      ]
    },
    {
      "cell_type": "code",
      "metadata": {
        "colab_type": "code",
        "id": "gGYBn8ldw5tc",
        "colab": {
          "base_uri": "https://localhost:8080/",
          "height": 295
        },
        "outputId": "4ea1680b-e81f-40ec-dc6a-41b6553c9e69"
      },
      "source": [
        " # summarize history for loss\n",
        "plt.plot(history.history['loss'])\n",
        "plt.title('model loss')\n",
        "plt.ylabel('loss')\n",
        "plt.xlabel('epoch')\n",
        "plt.legend(['train', 'test'], loc='upper left')\n",
        "plt.show()"
      ],
      "execution_count": 23,
      "outputs": [
        {
          "output_type": "display_data",
          "data": {
            "image/png": "[encoded data removed]",
            "text/plain": [
              "<Figure size 432x288 with 1 Axes>"
            ]
          },
          "metadata": {
            "tags": []
          }
        }
      ]
    },
    {
      "cell_type": "code",
      "metadata": {
        "id": "Xf_9sf-YBC8S",
        "colab_type": "code",
        "colab": {
          "base_uri": "https://localhost:8080/",
          "height": 33
        },
        "outputId": "21890dfe-09cc-4077-b79c-244b70b3f114"
      },
      "source": [
        "!pip install -U -q PyDrive\n",
        "from pydrive.auth import GoogleAuth\n",
        "from pydrive.drive import GoogleDrive\n",
        "from google.colab import auth\n",
        "from oauth2client.client import GoogleCredentials\n",
        "\n",
        "# 1. Authenticate and create the PyDrive client.\n",
        "auth.authenticate_user()\n",
        "gauth = GoogleAuth()\n",
        "gauth.credentials = GoogleCredentials.get_application_default()\n",
        "drive = GoogleDrive(gauth)\n",
        "\n",
        "# 2. Save Keras Model or weights on google drive\n",
        "\n",
        "# create on Colab directory\n",
        "my_new_model.save('baamodel.h5')    \n",
        "model_file = drive.CreateFile({'title' : 'baamodel.h5'})\n",
        "model_file.SetContentFile('baamodel.h5')\n",
        "model_file.Upload()\n",
        "\n",
        "# download to google drive\n",
        "drive.CreateFile({'id': model_file.get('id')})\n"
      ],
      "execution_count": 16,
      "outputs": [
        {
          "output_type": "execute_result",
          "data": {
            "text/plain": [
              "GoogleDriveFile({'id': '1sDCNk9a087-Mib_VHbwimRiyr2guZd4w'})"
            ]
          },
          "metadata": {
            "tags": []
          },
          "execution_count": 16
        }
      ]
    },
    {
      "cell_type": "code",
      "metadata": {
        "id": "jgKnrGzwEahb",
        "colab_type": "code",
        "colab": {
          "base_uri": "https://localhost:8080/",
          "height": 312
        },
        "outputId": "1f66f5aa-45f2-4bb4-ed99-d3ef39a7599e"
      },
      "source": [
        "print(history.history.keys())\n",
        "# summarize history for accuracy\n",
        "plt.plot(history.history['acc'])\n",
        "plt.plot(history.history['val_acc'])\n",
        "plt.title('model accuracy')\n",
        "plt.ylabel('accuracy')\n",
        "plt.xlabel('epoch')\n",
        "plt.legend(['train', 'test'], loc='upper left')\n",
        "plt.show()\n"
      ],
      "execution_count": 24,
      "outputs": [
        {
          "output_type": "stream",
          "text": [
            "dict_keys(['val_loss', 'val_acc', 'loss', 'acc'])\n"
          ],
          "name": "stdout"
        },
        {
          "output_type": "display_data",
          "data": {
            "image/png": "[encoded data removed]",
            "text/plain": [
              "<Figure size 432x288 with 1 Axes>"
            ]
          },
          "metadata": {
            "tags": []
          }
        }
      ]
    },
    {
      "cell_type": "code",
      "metadata": {
        "id": "s-kdwzddEwCM",
        "colab_type": "code",
        "colab": {}
      },
      "source": [
        ""
      ],
      "execution_count": 0,
      "outputs": []
    }
  ]
}