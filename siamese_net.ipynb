{
  "nbformat": 4,
  "nbformat_minor": 0,
  "metadata": {
    "colab": {
      "name": "kss.ipynb",
      "provenance": [],
      "collapsed_sections": []
    },
    "kernelspec": {
      "name": "python3",
      "display_name": "Python 3"
    },
    "accelerator": "GPU"
  },
  "cells": [
    {
      "cell_type": "code",
      "metadata": {
        "id": "BgR77-6Fh7ue",
        "colab_type": "code",
        "outputId": "e3238be2-b864-40da-fec1-100e01985516",
        "colab": {
          "base_uri": "https://localhost:8080/",
          "height": 120
        }
      },
      "source": [
        "from google.colab import drive\n",
        "drive.mount('/content/drive', force_remount=True)"
      ],
      "execution_count": 1,
      "outputs": [
        {
          "output_type": "stream",
          "text": [
            "Go to this URL in a browser: https://accounts.google.com/o/oauth2/auth?client_id=947318989803-6bn6qk8qdgf4n4g3pfee6491hc0brc4i.apps.googleusercontent.com&redirect_uri=urn%3aietf%3awg%3aoauth%3a2.0%3aoob&response_type=code&scope=email%20https%3a%2f%2fwww.googleapis.com%2fauth%2fdocs.test%20https%3a%2f%2fwww.googleapis.com%2fauth%2fdrive%20https%3a%2f%2fwww.googleapis.com%2fauth%2fdrive.photos.readonly%20https%3a%2f%2fwww.googleapis.com%2fauth%2fpeopleapi.readonly\n",
            "\n",
            "Enter your authorization code:\n",
            "··········\n",
            "Mounted at /content/drive\n"
          ],
          "name": "stdout"
        }
      ]
    },
    {
      "cell_type": "code",
      "metadata": {
        "id": "XoKSyjJLiAR6",
        "colab_type": "code",
        "outputId": "f5d2eecb-d640-492f-9d60-8276c16e5273",
        "colab": {
          "base_uri": "https://localhost:8080/",
          "height": 33
        }
      },
      "source": [
        "%tensorflow_version 1.x"
      ],
      "execution_count": 2,
      "outputs": [
        {
          "output_type": "stream",
          "text": [
            "TensorFlow 1.x selected.\n"
          ],
          "name": "stdout"
        }
      ]
    },
    {
      "cell_type": "code",
      "metadata": {
        "id": "ht_coCxMiNxL",
        "colab_type": "code",
        "colab": {}
      },
      "source": [
        "from random import shuffle\n",
        "from tqdm import tqdm\n",
        "import tensorflow as tf\n",
        "from tensorflow.python.framework import graph_util\n",
        "from keras.layers import *\n",
        "from keras.optimizers import *\n",
        "from sklearn.model_selection import train_test_split\n",
        "import sys\n",
        "import numpy as np\n",
        "import pandas as pd\n",
        "import pickle\n",
        "import os\n",
        "import matplotlib.pyplot as plt\n",
        "import cv2\n",
        "import time\n",
        "from keras.models import Model, Sequential\n",
        "from keras.regularizers import l2\n",
        "from keras import backend as K\n",
        "from keras.optimizers import Adam\n",
        "from skimage.io import imshow\n",
        "from keras.layers.normalization import BatchNormalization\n",
        "from keras.layers.pooling import MaxPooling2D\n",
        "from keras.layers.merge import Concatenate\n",
        "from keras.layers.core import Lambda, Flatten, Dense\n",
        "from keras.initializers import glorot_uniform\n",
        "from keras.engine.topology import Layer\n",
        "from sklearn.utils import shuffle\n",
        "import numpy.random as rng"
      ],
      "execution_count": 0,
      "outputs": []
    },
    {
      "cell_type": "code",
      "metadata": {
        "id": "C_E9rjrtiUcf",
        "colab_type": "code",
        "colab": {}
      },
      "source": [
        "data1='/content/drive/My Drive/fintest/1coal'\n",
        "data2='/content/drive/My Drive/fintest/2coal'\n",
        "data3='/content/drive/My Drive/fintest/3coal'"
      ],
      "execution_count": 0,
      "outputs": []
    },
    {
      "cell_type": "code",
      "metadata": {
        "id": "BbrTJXbFiWvA",
        "colab_type": "code",
        "colab": {}
      },
      "source": [
        "def data_with_label():\n",
        "    images=[]\n",
        "    cnt = 0\n",
        "    for i in tqdm(os.listdir(data1)):\n",
        "        path=os.path.join(data1,i)\n",
        "        img=cv2.imread(path,cv2.IMREAD_GRAYSCALE)\n",
        "        img=cv2.resize(img,(64,64))\n",
        "        images.append([np.array(img),'0'])\n",
        "    cnt = 0\n",
        "    for i in tqdm(os.listdir(data2)):\n",
        "        path=os.path.join(data2,i)\n",
        "        img=cv2.imread(path,cv2.IMREAD_GRAYSCALE)\n",
        "        img=cv2.resize(img,(64,64))\n",
        "        images.append([np.array(img),'1'])\n",
        "    cnt = 0\n",
        "    for i in tqdm(os.listdir(data3)):\n",
        "        path=os.path.join(data3,i)\n",
        "        img=cv2.imread(path,cv2.IMREAD_GRAYSCALE)\n",
        "        img=cv2.resize(img,(64,64))\n",
        "        images.append([np.array(img),'2'])\n",
        "        \n",
        "    return images"
      ],
      "execution_count": 0,
      "outputs": []
    },
    {
      "cell_type": "code",
      "metadata": {
        "id": "B-xp2yWki74y",
        "colab_type": "code",
        "outputId": "ee2ee6eb-89b5-4e05-811e-093191251496",
        "colab": {
          "base_uri": "https://localhost:8080/",
          "height": 67
        }
      },
      "source": [
        "\n",
        "data = data_with_label()\n"
      ],
      "execution_count": 6,
      "outputs": [
        {
          "output_type": "stream",
          "text": [
            "100%|██████████| 390/390 [02:51<00:00,  2.27it/s]\n",
            "100%|██████████| 299/299 [02:33<00:00,  1.95it/s]\n",
            "100%|██████████| 465/465 [03:45<00:00,  2.07it/s]\n"
          ],
          "name": "stderr"
        }
      ]
    },
    {
      "cell_type": "code",
      "metadata": {
        "id": "GMhcv0Wzi-UA",
        "colab_type": "code",
        "colab": {}
      },
      "source": [
        "random.shuffle(data)\n",
        "x_train = np.array([i[0] for i in data]).reshape(-1,64,64,1)\n",
        "x_train = x_train.astype('float32')\n",
        "x_train /= 255\n",
        "y_train = np.array([i[1] for i in data])"
      ],
      "execution_count": 0,
      "outputs": []
    },
    {
      "cell_type": "code",
      "metadata": {
        "id": "Hqfg1Q_5jVFV",
        "colab_type": "code",
        "outputId": "a7e566d7-a62d-4f06-a8f8-e4068fe29dec",
        "colab": {
          "base_uri": "https://localhost:8080/",
          "height": 33
        }
      },
      "source": [
        "print(x_train.shape)"
      ],
      "execution_count": 18,
      "outputs": [
        {
          "output_type": "stream",
          "text": [
            "(1154, 64, 64, 1)\n"
          ],
          "name": "stdout"
        }
      ]
    },
    {
      "cell_type": "code",
      "metadata": {
        "id": "tjv-N8W8jYRc",
        "colab_type": "code",
        "colab": {}
      },
      "source": [
        "#taking two images to check their similarity\n",
        "left_input = Input((64,64,1))\n",
        "right_input = Input((64,64,1))\n",
        "\n",
        "# Base network architecture\n",
        "\n",
        "convnet=Sequential()\n",
        "convnet.add(InputLayer(input_shape=[64,64,1]))\n",
        "convnet.add(Conv2D(filters=32,kernel_size=5,strides=1,padding='same',activation='relu'))\n",
        "convnet.add(MaxPool2D(pool_size=5,padding='same'))   \n",
        "convnet.add(Conv2D(filters=32,kernel_size=5,strides=1,padding='same',activation='relu'))\n",
        "convnet.add(MaxPool2D(pool_size=5,padding='same'))  \n",
        "convnet.add(Conv2D(filters=64,kernel_size=3,strides=1,padding='same',activation='relu'))\n",
        "convnet.add(MaxPool2D(pool_size=8,padding='same'))\n",
        "convnet.add(Conv2D(filters=128,kernel_size=3,strides=1,padding='same',activation='relu'))\n",
        "convnet.add(MaxPool2D(pool_size=5,padding='same'))   \n",
        "convnet.add(Conv2D(filters=256,kernel_size=3,strides=1,padding='same',activation='relu'))\n",
        "convnet.add(Flatten())\n",
        "\n",
        "convnet.add(Dense(1024,activation='relu'))\n",
        "convnet.add(Dropout(0.20))\n",
        "convnet.add(Dense(512,activation='relu'))\n",
        "convnet.add(Dropout(0.25))\n",
        "convnet.add(Dense(64,activation='sigmoid'))\n",
        "\n",
        "#generating the encodings for two input images\n",
        "encoded_l = convnet(left_input)\n",
        "encoded_r = convnet(right_input)\n",
        "\n",
        "# Getting the L1 Distance between the 2 encodings\n",
        "L1_layer = Lambda(lambda tensor:K.abs(tensor[0] - tensor[1]))\n",
        "\n",
        "# Add the distance function to the network\n",
        "L1_distance = L1_layer([encoded_l, encoded_r])\n",
        "\n",
        "prediction = Dense(1,activation='sigmoid')(L1_distance)\n",
        "siamese_net = Model(inputs=[left_input,right_input],outputs=prediction)\n",
        "\n",
        "optimizer = Adam(0.0001, decay=2.5e-4)\n",
        "siamese_net.compile(loss=\"binary_crossentropy\",optimizer=optimizer,metrics=['accuracy'])"
      ],
      "execution_count": 0,
      "outputs": []
    },
    {
      "cell_type": "code",
      "metadata": {
        "id": "DxQaE--Ijlfq",
        "colab_type": "code",
        "colab": {}
      },
      "source": [
        "#we have a total of 1154 images taking 500 to generate valid training pairs\n",
        "image_list = np.split(x_train[:500],500)\n",
        "label_list = np.split(y_train[:500],500)\n",
        "\n",
        "left_input = []\n",
        "right_input = []\n",
        "targets = []\n",
        "\n",
        "#every single image will be paired with 10 dustinct images along with the label 1 if they match else the label 0\n",
        "pairs = 10\n",
        "#total number of training pairs generated will be 5000 (500*10)\n",
        "\n",
        "for i in range(len(label_list)):\n",
        "    for _ in range(pairs):\n",
        "        compare_to = i\n",
        "        while compare_to == i: #to make sure it's not comparing with itself\n",
        "            compare_to = random.randint(0,499)\n",
        "        left_input.append(image_list[i])\n",
        "        right_input.append(image_list[compare_to])\n",
        "        if label_list[i] == label_list[compare_to]:\n",
        "            targets.append(1.)\n",
        "        else:\n",
        "            targets.append(0.)\n",
        "            \n",
        "left_input = np.squeeze(np.array(left_input))\n",
        "right_input = np.squeeze(np.array(right_input))\n",
        "targets = np.squeeze(np.array(targets))\n",
        "\n",
        "#taking a random image from the traing set and finding its correct pairs from the testing set\n",
        "img1 = x_train[68]\n",
        "#total number of testing pairs will be (1154-500)*1 thai is 654 pairs\n",
        "test_left = []\n",
        "test_right = []\n",
        "test_targets = []\n",
        "\n",
        "for i in range(y_train.shape[0]-500):\n",
        "    test_left.append(img1)\n",
        "    test_right.append(x_train[i+500])\n",
        "    if y_train[68]==y_train[i+500]:\n",
        "        test_targets.append(1.)\n",
        "    else:\n",
        "        test_targets.append(0.)\n",
        "\n",
        "test_left = np.squeeze(np.array(test_left))\n",
        "test_right = np.squeeze(np.array(test_right))\n",
        "test_targets = np.squeeze(np.array(test_targets))"
      ],
      "execution_count": 0,
      "outputs": []
    },
    {
      "cell_type": "code",
      "metadata": {
        "id": "fcWcrP9opKrL",
        "colab_type": "code",
        "outputId": "5b53e6b1-bb09-40ee-d077-83438a7f5864",
        "colab": {
          "base_uri": "https://localhost:8080/",
          "height": 100
        }
      },
      "source": [
        "\n",
        "test_right = np.array([i for i in test_right]).reshape(-1,64,64,1)\n",
        "test_left = np.array([i for i in test_left]).reshape(-1,64,64,1)\n",
        "left_input = np.array([i for i in left_input]).reshape(-1,64,64,1)\n",
        "right_input = np.array([i for i in right_input]).reshape(-1,64,64,1)\n",
        "print(x_train.shape)\n",
        "print(test_right.shape)\n",
        "print(test_left.shape)\n",
        "print(left_input.shape)\n",
        "print(right_input.shape)"
      ],
      "execution_count": 37,
      "outputs": [
        {
          "output_type": "stream",
          "text": [
            "(1154, 64, 64, 1)\n",
            "(654, 64, 64, 1)\n",
            "(654, 64, 64, 1)\n",
            "(5000, 64, 64, 1)\n",
            "(5000, 64, 64, 1)\n"
          ],
          "name": "stdout"
        }
      ]
    },
    {
      "cell_type": "code",
      "metadata": {
        "id": "VD3Tfm3MjsLv",
        "colab_type": "code",
        "outputId": "cf39050b-1400-47af-fe28-4ed0c5861f20",
        "colab": {
          "base_uri": "https://localhost:8080/",
          "height": 1000
        }
      },
      "source": [
        "siamese_net.summary()\n",
        "siamese_net.fit([left_input,right_input], targets,\n",
        "          batch_size=32, shuffle=True,\n",
        "          epochs=30,\n",
        "          verbose=1,\n",
        "          validation_data=([test_left,test_right],test_targets))"
      ],
      "execution_count": 34,
      "outputs": [
        {
          "output_type": "stream",
          "text": [
            "Model: \"model_3\"\n",
            "__________________________________________________________________________________________________\n",
            "Layer (type)                    Output Shape         Param #     Connected to                     \n",
            "==================================================================================================\n",
            "input_7 (InputLayer)            (None, 64, 64, 1)    0                                            \n",
            "__________________________________________________________________________________________________\n",
            "input_8 (InputLayer)            (None, 64, 64, 1)    0                                            \n",
            "__________________________________________________________________________________________________\n",
            "sequential_3 (Sequential)       (None, 64)           1234784     input_7[0][0]                    \n",
            "                                                                 input_8[0][0]                    \n",
            "__________________________________________________________________________________________________\n",
            "lambda_3 (Lambda)               (None, 64)           0           sequential_3[1][0]               \n",
            "                                                                 sequential_3[2][0]               \n",
            "__________________________________________________________________________________________________\n",
            "dense_15 (Dense)                (None, 1)            65          lambda_3[0][0]                   \n",
            "==================================================================================================\n",
            "Total params: 1,234,849\n",
            "Trainable params: 1,234,849\n",
            "Non-trainable params: 0\n",
            "__________________________________________________________________________________________________\n",
            "Train on 5000 samples, validate on 654 samples\n",
            "Epoch 1/30\n",
            "5000/5000 [==============================] - 2s 335us/step - loss: 0.4566 - acc: 0.7270 - val_loss: 0.4859 - val_acc: 0.6193\n",
            "Epoch 2/30\n",
            "5000/5000 [==============================] - 2s 333us/step - loss: 0.4325 - acc: 0.7470 - val_loss: 0.4704 - val_acc: 0.6177\n",
            "Epoch 3/30\n",
            "5000/5000 [==============================] - 2s 332us/step - loss: 0.4178 - acc: 0.7602 - val_loss: 0.4558 - val_acc: 0.6239\n",
            "Epoch 4/30\n",
            "5000/5000 [==============================] - 2s 334us/step - loss: 0.3935 - acc: 0.7836 - val_loss: 0.4476 - val_acc: 0.8486\n",
            "Epoch 5/30\n",
            "5000/5000 [==============================] - 2s 328us/step - loss: 0.3756 - acc: 0.8136 - val_loss: 0.4350 - val_acc: 0.7813\n",
            "Epoch 6/30\n",
            "5000/5000 [==============================] - 2s 333us/step - loss: 0.3339 - acc: 0.8626 - val_loss: 0.4252 - val_acc: 0.8532\n",
            "Epoch 7/30\n",
            "5000/5000 [==============================] - 2s 330us/step - loss: 0.3155 - acc: 0.8736 - val_loss: 0.4157 - val_acc: 0.8700\n",
            "Epoch 8/30\n",
            "5000/5000 [==============================] - 2s 331us/step - loss: 0.2890 - acc: 0.8916 - val_loss: 0.5025 - val_acc: 0.6193\n",
            "Epoch 9/30\n",
            "5000/5000 [==============================] - 2s 324us/step - loss: 0.2662 - acc: 0.9142 - val_loss: 0.4598 - val_acc: 0.6927\n",
            "Epoch 10/30\n",
            "5000/5000 [==============================] - 2s 329us/step - loss: 0.2372 - acc: 0.9340 - val_loss: 0.4454 - val_acc: 0.8379\n",
            "Epoch 11/30\n",
            "5000/5000 [==============================] - 2s 330us/step - loss: 0.2181 - acc: 0.9482 - val_loss: 0.5037 - val_acc: 0.6193\n",
            "Epoch 12/30\n",
            "5000/5000 [==============================] - 2s 327us/step - loss: 0.2045 - acc: 0.9528 - val_loss: 0.4348 - val_acc: 0.8807\n",
            "Epoch 13/30\n",
            "5000/5000 [==============================] - 2s 330us/step - loss: 0.1847 - acc: 0.9666 - val_loss: 0.4137 - val_acc: 0.8960\n",
            "Epoch 14/30\n",
            "5000/5000 [==============================] - 2s 331us/step - loss: 0.1710 - acc: 0.9722 - val_loss: 0.4496 - val_acc: 0.8838\n",
            "Epoch 15/30\n",
            "5000/5000 [==============================] - 2s 340us/step - loss: 0.1626 - acc: 0.9724 - val_loss: 0.4481 - val_acc: 0.8869\n",
            "Epoch 16/30\n",
            "5000/5000 [==============================] - 2s 334us/step - loss: 0.1541 - acc: 0.9762 - val_loss: 0.4504 - val_acc: 0.8884\n",
            "Epoch 17/30\n",
            "5000/5000 [==============================] - 2s 331us/step - loss: 0.1412 - acc: 0.9820 - val_loss: 0.5194 - val_acc: 0.8379\n",
            "Epoch 18/30\n",
            "5000/5000 [==============================] - 2s 335us/step - loss: 0.1427 - acc: 0.9788 - val_loss: 0.4217 - val_acc: 0.8914\n",
            "Epoch 19/30\n",
            "5000/5000 [==============================] - 2s 332us/step - loss: 0.1281 - acc: 0.9850 - val_loss: 0.4168 - val_acc: 0.8976\n",
            "Epoch 20/30\n",
            "5000/5000 [==============================] - 2s 332us/step - loss: 0.1211 - acc: 0.9874 - val_loss: 0.4481 - val_acc: 0.9021\n",
            "Epoch 21/30\n",
            "5000/5000 [==============================] - 2s 341us/step - loss: 0.1170 - acc: 0.9874 - val_loss: 0.4123 - val_acc: 0.8960\n",
            "Epoch 22/30\n",
            "5000/5000 [==============================] - 2s 331us/step - loss: 0.1140 - acc: 0.9874 - val_loss: 0.4435 - val_acc: 0.8945\n",
            "Epoch 23/30\n",
            "5000/5000 [==============================] - 2s 328us/step - loss: 0.1109 - acc: 0.9874 - val_loss: 0.4305 - val_acc: 0.8945\n",
            "Epoch 24/30\n",
            "5000/5000 [==============================] - 2s 327us/step - loss: 0.1095 - acc: 0.9876 - val_loss: 0.4394 - val_acc: 0.8960\n",
            "Epoch 25/30\n",
            "5000/5000 [==============================] - 2s 324us/step - loss: 0.1060 - acc: 0.9878 - val_loss: 0.4323 - val_acc: 0.8960\n",
            "Epoch 26/30\n",
            "5000/5000 [==============================] - 2s 325us/step - loss: 0.1053 - acc: 0.9872 - val_loss: 0.4530 - val_acc: 0.8991\n",
            "Epoch 27/30\n",
            "5000/5000 [==============================] - 2s 330us/step - loss: 0.1024 - acc: 0.9876 - val_loss: 0.4577 - val_acc: 0.9021\n",
            "Epoch 28/30\n",
            "5000/5000 [==============================] - 2s 335us/step - loss: 0.1012 - acc: 0.9872 - val_loss: 0.4682 - val_acc: 0.9006\n",
            "Epoch 29/30\n",
            "5000/5000 [==============================] - 2s 328us/step - loss: 0.0983 - acc: 0.9878 - val_loss: 0.4500 - val_acc: 0.9037\n",
            "Epoch 30/30\n",
            "5000/5000 [==============================] - 2s 325us/step - loss: 0.0979 - acc: 0.9874 - val_loss: 0.4657 - val_acc: 0.9021\n"
          ],
          "name": "stdout"
        },
        {
          "output_type": "execute_result",
          "data": {
            "text/plain": [
              "<keras.callbacks.History at 0x7f46ff63c7b8>"
            ]
          },
          "metadata": {
            "tags": []
          },
          "execution_count": 34
        }
      ]
    },
    {
      "cell_type": "code",
      "metadata": {
        "id": "sqSGHzKsyvWA",
        "colab_type": "code",
        "colab": {}
      },
      "source": [
        ""
      ],
      "execution_count": 0,
      "outputs": []
    }
  ]
}