{
  "nbformat": 4,
  "nbformat_minor": 0,
  "metadata": {
    "kernelspec": {
      "name": "python3",
      "display_name": "Python 3"
    },
    "language_info": {
      "codemirror_mode": {
        "name": "ipython",
        "version": 3
      },
      "file_extension": ".py",
      "mimetype": "text/x-python",
      "name": "python",
      "nbconvert_exporter": "python",
      "pygments_lexer": "ipython3",
      "version": "3.6.7"
    },
    "colab": {
      "name": "en1.ipynb",
      "provenance": [],
      "collapsed_sections": []
    },
    "accelerator": "GPU"
  },
  "cells": [
    {
      "cell_type": "code",
      "metadata": {
        "id": "fB9mzU1wdl3k",
        "colab_type": "code",
        "colab": {
          "base_uri": "https://localhost:8080/",
          "height": 79
        },
        "outputId": "f6718559-45e3-46f9-92be-f1a36abcd91e"
      },
      "source": [
        "import matplotlib.pyplot as plt\n",
        "import os\n",
        "from random import shuffle\n",
        "from tqdm import tqdm\n",
        "import tensorflow as tf\n",
        "import cv2\n",
        "import numpy as np \n",
        "from tensorflow.python.framework import graph_util\n",
        "from keras.models import Sequential\n",
        "from keras.layers import *\n",
        "from keras.optimizers import *\n",
        "from sklearn.model_selection import train_test_split"
      ],
      "execution_count": 1,
      "outputs": [
        {
          "output_type": "display_data",
          "data": {
            "text/html": [
              "<p style=\"color: red;\">\n",
              "The default version of TensorFlow in Colab will soon switch to TensorFlow 2.x.<br>\n",
              "We recommend you <a href=\"https://www.tensorflow.org/guide/migrate\" target=\"_blank\">upgrade</a> now \n",
              "or ensure your notebook will continue to use TensorFlow 1.x via the <code>%tensorflow_version 1.x</code> magic:\n",
              "<a href=\"https://colab.research.google.com/notebooks/tensorflow_version.ipynb\" target=\"_blank\">more info</a>.</p>\n"
            ],
            "text/plain": [
              "<IPython.core.display.HTML object>"
            ]
          },
          "metadata": {
            "tags": []
          }
        },
        {
          "output_type": "stream",
          "text": [
            "Using TensorFlow backend.\n"
          ],
          "name": "stderr"
        }
      ]
    },
    {
      "cell_type": "code",
      "metadata": {
        "id": "v27voQjMd5FI",
        "colab_type": "code",
        "colab": {
          "base_uri": "https://localhost:8080/",
          "height": 120
        },
        "outputId": "93edd1f9-ba89-4c6c-ae97-e994dbe9fc41"
      },
      "source": [
        "from google.colab import drive\n",
        "drive.mount('/content/drive', force_remount=True)"
      ],
      "execution_count": 2,
      "outputs": [
        {
          "output_type": "stream",
          "text": [
            "Go to this URL in a browser: https://accounts.google.com/o/oauth2/auth?client_id=947318989803-6bn6qk8qdgf4n4g3pfee6491hc0brc4i.apps.googleusercontent.com&redirect_uri=urn%3aietf%3awg%3aoauth%3a2.0%3aoob&response_type=code&scope=email%20https%3a%2f%2fwww.googleapis.com%2fauth%2fdocs.test%20https%3a%2f%2fwww.googleapis.com%2fauth%2fdrive%20https%3a%2f%2fwww.googleapis.com%2fauth%2fdrive.photos.readonly%20https%3a%2f%2fwww.googleapis.com%2fauth%2fpeopleapi.readonly\n",
            "\n",
            "Enter your authorization code:\n",
            "··········\n",
            "Mounted at /content/drive\n"
          ],
          "name": "stdout"
        }
      ]
    },
    {
      "cell_type": "code",
      "metadata": {
        "id": "pNdzFRzpdl3t",
        "colab_type": "code",
        "colab": {}
      },
      "source": [
        "data1='/content/drive/My Drive/fintest/1coal'\n",
        "data2='/content/drive/My Drive/fintest/2coal'\n",
        "data3='/content/drive/My Drive/fintest/3coal'"
      ],
      "execution_count": 0,
      "outputs": []
    },
    {
      "cell_type": "code",
      "metadata": {
        "id": "ngyKUsdcdl3y",
        "colab_type": "code",
        "colab": {}
      },
      "source": [
        "def data_with_label():\n",
        "    images=[]\n",
        "    cnt = 0\n",
        "    for i in tqdm(os.listdir(data1)):\n",
        "        path=os.path.join(data1,i)\n",
        "        img=cv2.imread(path,cv2.IMREAD_GRAYSCALE)\n",
        "        img=cv2.resize(img,(64,64))\n",
        "        images.append([np.array(img),np.array([1,0,0])])\n",
        "    cnt = 0\n",
        "    for i in tqdm(os.listdir(data2)):\n",
        "        path=os.path.join(data2,i)\n",
        "        img=cv2.imread(path,cv2.IMREAD_GRAYSCALE)\n",
        "        img=cv2.resize(img,(64,64))\n",
        "        images.append([np.array(img),np.array([0,1,0])])\n",
        "    cnt = 0\n",
        "    for i in tqdm(os.listdir(data2)):\n",
        "        path=os.path.join(data3,i)\n",
        "        img=cv2.imread(path,cv2.IMREAD_GRAYSCALE)\n",
        "        img=cv2.resize(img,(64,64))\n",
        "        images.append([np.array(img),np.array([0,0,1])])\n",
        "        \n",
        "    shuffle(images)\n",
        "    return images"
      ],
      "execution_count": 0,
      "outputs": []
    },
    {
      "cell_type": "code",
      "metadata": {
        "id": "Raz-iATtdl32",
        "colab_type": "code",
        "colab": {
          "base_uri": "https://localhost:8080/",
          "height": 67
        },
        "outputId": "5d8a52fa-6537-4e28-c7ff-51bac7ae03a0"
      },
      "source": [
        "data = data_with_label()"
      ],
      "execution_count": 5,
      "outputs": [
        {
          "output_type": "stream",
          "text": [
            "100%|██████████| 390/390 [05:17<00:00,  1.02it/s]\n",
            "100%|██████████| 299/299 [04:09<00:00,  1.01it/s]\n",
            "100%|██████████| 299/299 [04:27<00:00,  1.02it/s]\n"
          ],
          "name": "stderr"
        }
      ]
    },
    {
      "cell_type": "code",
      "metadata": {
        "id": "NsZCm1Nzdl37",
        "colab_type": "code",
        "colab": {}
      },
      "source": [
        "train_data, test_data = train_test_split(data, test_size=0.2)"
      ],
      "execution_count": 0,
      "outputs": []
    },
    {
      "cell_type": "code",
      "metadata": {
        "id": "TOJaFeFbdl3_",
        "colab_type": "code",
        "colab": {}
      },
      "source": [
        "tr_img_data = np.array([i[0] for i in train_data]).reshape(-1,64,64,1)\n",
        "tr_img_data = tr_img_data/255\n",
        "tr_lbl_data = np.array([i[1] for i in train_data])\n",
        "tst_img_data = np.array([i[0] for i in test_data]).reshape(-1,64,64,1)\n",
        "tst_img_data = tst_img_data/255\n",
        "tst_lbl_data = np.array([i[1] for i in test_data])"
      ],
      "execution_count": 0,
      "outputs": []
    },
    {
      "cell_type": "code",
      "metadata": {
        "id": "D2dqRwDZdl4G",
        "colab_type": "code",
        "colab": {
          "base_uri": "https://localhost:8080/",
          "height": 1000
        },
        "outputId": "05364eeb-10f9-45c6-f3d3-a535a04dc6ff"
      },
      "source": [
        "model=Sequential()\n",
        "model.add(InputLayer(input_shape=[64,64,1]))\n",
        "\n",
        "model.add(Conv2D(filters=32,kernel_size=5,strides=1,padding='same',activation='relu'))\n",
        "model.add(MaxPool2D(pool_size=5,padding='same'))\n",
        "          \n",
        "model.add(Conv2D(filters=32,kernel_size=5,strides=2,padding='same',activation='relu'))\n",
        "model.add(MaxPool2D(pool_size=5,padding='same'))\n",
        "          \n",
        "model.add(Conv2D(filters=64,kernel_size=3,strides=2,padding='same',activation='relu'))\n",
        "model.add(MaxPool2D(pool_size=8,padding='same'))\n",
        "\n",
        "model.add(Conv2D(filters=128,kernel_size=3,strides=1,padding='same',activation='relu'))\n",
        "model.add(MaxPool2D(pool_size=5,padding='same'))\n",
        "          \n",
        "model.add(Conv2D(filters=256,kernel_size=3,strides=1,padding='same',activation='relu'))\n",
        "model.add(MaxPool2D(pool_size=3,padding='same'))\n",
        "          \n",
        "\n",
        "model.add(Flatten())\n",
        "\n",
        "\n",
        "model.add(Dense(2048,activation='relu'))\n",
        "model.add(Dropout(0.50))\n",
        "#model.add(Dense(1024,activation='relu'))\n",
        "#model.add(Dropout(0.50))\n",
        "model.add(Dense(512,activation='relu'))\n",
        "model.add(Dropout(0.50))\n",
        "model.add(Dense(3,activation='softmax'))\n",
        "optimizer=Adam(lr=1e-3)\n",
        "          \n",
        "model.compile(optimizer=optimizer,loss='categorical_crossentropy',metrics=['accuracy'])\n",
        "history = model.fit(x=tr_img_data,y=tr_lbl_data,epochs=35,batch_size=64)\n",
        "model.summary()"
      ],
      "execution_count": 8,
      "outputs": [
        {
          "output_type": "stream",
          "text": [
            "WARNING:tensorflow:From /usr/local/lib/python3.6/dist-packages/keras/backend/tensorflow_backend.py:66: The name tf.get_default_graph is deprecated. Please use tf.compat.v1.get_default_graph instead.\n",
            "\n",
            "WARNING:tensorflow:From /usr/local/lib/python3.6/dist-packages/keras/backend/tensorflow_backend.py:541: The name tf.placeholder is deprecated. Please use tf.compat.v1.placeholder instead.\n",
            "\n",
            "WARNING:tensorflow:From /usr/local/lib/python3.6/dist-packages/keras/backend/tensorflow_backend.py:4432: The name tf.random_uniform is deprecated. Please use tf.random.uniform instead.\n",
            "\n",
            "WARNING:tensorflow:From /usr/local/lib/python3.6/dist-packages/keras/backend/tensorflow_backend.py:4267: The name tf.nn.max_pool is deprecated. Please use tf.nn.max_pool2d instead.\n",
            "\n",
            "WARNING:tensorflow:From /usr/local/lib/python3.6/dist-packages/keras/backend/tensorflow_backend.py:148: The name tf.placeholder_with_default is deprecated. Please use tf.compat.v1.placeholder_with_default instead.\n",
            "\n",
            "WARNING:tensorflow:From /usr/local/lib/python3.6/dist-packages/keras/backend/tensorflow_backend.py:3733: calling dropout (from tensorflow.python.ops.nn_ops) with keep_prob is deprecated and will be removed in a future version.\n",
            "Instructions for updating:\n",
            "Please use `rate` instead of `keep_prob`. Rate should be set to `rate = 1 - keep_prob`.\n",
            "WARNING:tensorflow:From /usr/local/lib/python3.6/dist-packages/keras/optimizers.py:793: The name tf.train.Optimizer is deprecated. Please use tf.compat.v1.train.Optimizer instead.\n",
            "\n",
            "WARNING:tensorflow:From /usr/local/lib/python3.6/dist-packages/keras/backend/tensorflow_backend.py:3576: The name tf.log is deprecated. Please use tf.math.log instead.\n",
            "\n",
            "WARNING:tensorflow:From /tensorflow-1.15.0/python3.6/tensorflow_core/python/ops/math_grad.py:1424: where (from tensorflow.python.ops.array_ops) is deprecated and will be removed in a future version.\n",
            "Instructions for updating:\n",
            "Use tf.where in 2.0, which has the same broadcast rule as np.where\n",
            "WARNING:tensorflow:From /usr/local/lib/python3.6/dist-packages/keras/backend/tensorflow_backend.py:1033: The name tf.assign_add is deprecated. Please use tf.compat.v1.assign_add instead.\n",
            "\n",
            "WARNING:tensorflow:From /usr/local/lib/python3.6/dist-packages/keras/backend/tensorflow_backend.py:1020: The name tf.assign is deprecated. Please use tf.compat.v1.assign instead.\n",
            "\n",
            "WARNING:tensorflow:From /usr/local/lib/python3.6/dist-packages/keras/backend/tensorflow_backend.py:3005: The name tf.Session is deprecated. Please use tf.compat.v1.Session instead.\n",
            "\n",
            "Epoch 1/35\n",
            "WARNING:tensorflow:From /usr/local/lib/python3.6/dist-packages/keras/backend/tensorflow_backend.py:190: The name tf.get_default_session is deprecated. Please use tf.compat.v1.get_default_session instead.\n",
            "\n",
            "WARNING:tensorflow:From /usr/local/lib/python3.6/dist-packages/keras/backend/tensorflow_backend.py:197: The name tf.ConfigProto is deprecated. Please use tf.compat.v1.ConfigProto instead.\n",
            "\n",
            "WARNING:tensorflow:From /usr/local/lib/python3.6/dist-packages/keras/backend/tensorflow_backend.py:207: The name tf.global_variables is deprecated. Please use tf.compat.v1.global_variables instead.\n",
            "\n",
            "WARNING:tensorflow:From /usr/local/lib/python3.6/dist-packages/keras/backend/tensorflow_backend.py:216: The name tf.is_variable_initialized is deprecated. Please use tf.compat.v1.is_variable_initialized instead.\n",
            "\n",
            "WARNING:tensorflow:From /usr/local/lib/python3.6/dist-packages/keras/backend/tensorflow_backend.py:223: The name tf.variables_initializer is deprecated. Please use tf.compat.v1.variables_initializer instead.\n",
            "\n",
            "790/790 [==============================] - 13s 17ms/step - loss: 1.0990 - acc: 0.3823\n",
            "Epoch 2/35\n",
            "790/790 [==============================] - 0s 234us/step - loss: 1.0910 - acc: 0.4000\n",
            "Epoch 3/35\n",
            "790/790 [==============================] - 0s 229us/step - loss: 1.0897 - acc: 0.4000\n",
            "Epoch 4/35\n",
            "790/790 [==============================] - 0s 225us/step - loss: 1.0838 - acc: 0.4000\n",
            "Epoch 5/35\n",
            "790/790 [==============================] - 0s 245us/step - loss: 1.0503 - acc: 0.4544\n",
            "Epoch 6/35\n",
            "790/790 [==============================] - 0s 230us/step - loss: 0.9589 - acc: 0.5316\n",
            "Epoch 7/35\n",
            "790/790 [==============================] - 0s 228us/step - loss: 0.9432 - acc: 0.5468\n",
            "Epoch 8/35\n",
            "790/790 [==============================] - 0s 219us/step - loss: 0.8358 - acc: 0.5810\n",
            "Epoch 9/35\n",
            "790/790 [==============================] - 0s 220us/step - loss: 0.7053 - acc: 0.6772\n",
            "Epoch 10/35\n",
            "790/790 [==============================] - 0s 219us/step - loss: 0.7198 - acc: 0.6418\n",
            "Epoch 11/35\n",
            "790/790 [==============================] - 0s 221us/step - loss: 0.5450 - acc: 0.7468\n",
            "Epoch 12/35\n",
            "790/790 [==============================] - 0s 217us/step - loss: 0.5549 - acc: 0.7506\n",
            "Epoch 13/35\n",
            "790/790 [==============================] - 0s 219us/step - loss: 0.4321 - acc: 0.8215\n",
            "Epoch 14/35\n",
            "790/790 [==============================] - 0s 226us/step - loss: 0.3060 - acc: 0.8861\n",
            "Epoch 15/35\n",
            "790/790 [==============================] - 0s 238us/step - loss: 0.2533 - acc: 0.9089\n",
            "Epoch 16/35\n",
            "790/790 [==============================] - 0s 235us/step - loss: 0.5397 - acc: 0.7709\n",
            "Epoch 17/35\n",
            "790/790 [==============================] - 0s 234us/step - loss: 0.3309 - acc: 0.8797\n",
            "Epoch 18/35\n",
            "790/790 [==============================] - 0s 221us/step - loss: 0.1666 - acc: 0.9582\n",
            "Epoch 19/35\n",
            "790/790 [==============================] - 0s 219us/step - loss: 0.1213 - acc: 0.9658\n",
            "Epoch 20/35\n",
            "790/790 [==============================] - 0s 217us/step - loss: 0.0896 - acc: 0.9709\n",
            "Epoch 21/35\n",
            "790/790 [==============================] - 0s 224us/step - loss: 0.0862 - acc: 0.9696\n",
            "Epoch 22/35\n",
            "790/790 [==============================] - 0s 225us/step - loss: 0.0764 - acc: 0.9797\n",
            "Epoch 23/35\n",
            "790/790 [==============================] - 0s 218us/step - loss: 0.0552 - acc: 0.9810\n",
            "Epoch 24/35\n",
            "790/790 [==============================] - 0s 219us/step - loss: 0.0597 - acc: 0.9772\n",
            "Epoch 25/35\n",
            "790/790 [==============================] - 0s 220us/step - loss: 0.1655 - acc: 0.9494\n",
            "Epoch 26/35\n",
            "790/790 [==============================] - 0s 220us/step - loss: 0.3188 - acc: 0.8962\n",
            "Epoch 27/35\n",
            "790/790 [==============================] - 0s 220us/step - loss: 0.1842 - acc: 0.9291\n",
            "Epoch 28/35\n",
            "790/790 [==============================] - 0s 229us/step - loss: 0.0906 - acc: 0.9747\n",
            "Epoch 29/35\n",
            "790/790 [==============================] - 0s 218us/step - loss: 0.0514 - acc: 0.9835\n",
            "Epoch 30/35\n",
            "790/790 [==============================] - 0s 220us/step - loss: 0.0356 - acc: 0.9911\n",
            "Epoch 31/35\n",
            "790/790 [==============================] - 0s 218us/step - loss: 0.0194 - acc: 0.9937\n",
            "Epoch 32/35\n",
            "790/790 [==============================] - 0s 220us/step - loss: 0.0195 - acc: 0.9937\n",
            "Epoch 33/35\n",
            "790/790 [==============================] - 0s 219us/step - loss: 0.0200 - acc: 0.9937\n",
            "Epoch 34/35\n",
            "790/790 [==============================] - 0s 220us/step - loss: 0.0275 - acc: 0.9886\n",
            "Epoch 35/35\n",
            "790/790 [==============================] - 0s 218us/step - loss: 0.0421 - acc: 0.9861\n",
            "Model: \"sequential_1\"\n",
            "_________________________________________________________________\n",
            "Layer (type)                 Output Shape              Param #   \n",
            "=================================================================\n",
            "conv2d_1 (Conv2D)            (None, 64, 64, 32)        832       \n",
            "_________________________________________________________________\n",
            "max_pooling2d_1 (MaxPooling2 (None, 13, 13, 32)        0         \n",
            "_________________________________________________________________\n",
            "conv2d_2 (Conv2D)            (None, 7, 7, 32)          25632     \n",
            "_________________________________________________________________\n",
            "max_pooling2d_2 (MaxPooling2 (None, 2, 2, 32)          0         \n",
            "_________________________________________________________________\n",
            "conv2d_3 (Conv2D)            (None, 1, 1, 64)          18496     \n",
            "_________________________________________________________________\n",
            "max_pooling2d_3 (MaxPooling2 (None, 1, 1, 64)          0         \n",
            "_________________________________________________________________\n",
            "conv2d_4 (Conv2D)            (None, 1, 1, 128)         73856     \n",
            "_________________________________________________________________\n",
            "max_pooling2d_4 (MaxPooling2 (None, 1, 1, 128)         0         \n",
            "_________________________________________________________________\n",
            "conv2d_5 (Conv2D)            (None, 1, 1, 256)         295168    \n",
            "_________________________________________________________________\n",
            "max_pooling2d_5 (MaxPooling2 (None, 1, 1, 256)         0         \n",
            "_________________________________________________________________\n",
            "flatten_1 (Flatten)          (None, 256)               0         \n",
            "_________________________________________________________________\n",
            "dense_1 (Dense)              (None, 2048)              526336    \n",
            "_________________________________________________________________\n",
            "dropout_1 (Dropout)          (None, 2048)              0         \n",
            "_________________________________________________________________\n",
            "dense_2 (Dense)              (None, 512)               1049088   \n",
            "_________________________________________________________________\n",
            "dropout_2 (Dropout)          (None, 512)               0         \n",
            "_________________________________________________________________\n",
            "dense_3 (Dense)              (None, 3)                 1539      \n",
            "=================================================================\n",
            "Total params: 1,990,947\n",
            "Trainable params: 1,990,947\n",
            "Non-trainable params: 0\n",
            "_________________________________________________________________\n"
          ],
          "name": "stdout"
        }
      ]
    },
    {
      "cell_type": "code",
      "metadata": {
        "id": "PCDL9gwhdl4K",
        "colab_type": "code",
        "colab": {
          "base_uri": "https://localhost:8080/",
          "height": 67
        },
        "outputId": "7e9a146c-6385-4d13-e274-3cec3512cfcb"
      },
      "source": [
        "# serialize model to JSON\n",
        "scores = model.evaluate(tr_img_data, tr_lbl_data, verbose=0)\n",
        "print(\"%s: %.2f%%\" % (model.metrics_names[1], scores[1]*100))\n",
        "scores = model.evaluate(tst_img_data, tst_lbl_data, verbose=0)\n",
        "print(\"%s: %.2f%%\" % (model.metrics_names[1], scores[1]*100))\n",
        " \n",
        "model_json = model.to_json()\n",
        "with open(\"modelfin22.json\", \"w\") as json_file:\n",
        "    json_file.write(model_json)\n",
        "# serialize weights to HDF5\n",
        "model.save_weights(\"modelfin22.h5\")\n",
        "print(\"Saved model to disk\")\n",
        " \n"
      ],
      "execution_count": 9,
      "outputs": [
        {
          "output_type": "stream",
          "text": [
            "acc: 99.75%\n",
            "acc: 82.32%\n",
            "Saved model to disk\n"
          ],
          "name": "stdout"
        }
      ]
    },
    {
      "cell_type": "code",
      "metadata": {
        "id": "OHt9wLFmdl4P",
        "colab_type": "code",
        "colab": {
          "base_uri": "https://localhost:8080/",
          "height": 312
        },
        "outputId": "f15c00ea-2d90-48f5-de69-31478c2591e2"
      },
      "source": [
        "print(history.history.keys())\n",
        "# summarize history for accuracy\n",
        "plt.plot(history.history['acc'])\n",
        "plt.title('model accuracy')\n",
        "plt.ylabel('accuracy')\n",
        "plt.xlabel('epoch')\n",
        "plt.legend(['train', 'test'], loc='upper left')\n",
        "plt.show()\n"
      ],
      "execution_count": 10,
      "outputs": [
        {
          "output_type": "stream",
          "text": [
            "dict_keys(['loss', 'acc'])\n"
          ],
          "name": "stdout"
        },
        {
          "output_type": "display_data",
          "data": {
            "image/png": "[encoded data removed]",
            "text/plain": [
              "<Figure size 432x288 with 1 Axes>"
            ]
          },
          "metadata": {
            "tags": []
          }
        }
      ]
    },
    {
      "cell_type": "code",
      "metadata": {
        "id": "lHjNvV8jdl4V",
        "colab_type": "code",
        "colab": {
          "base_uri": "https://localhost:8080/",
          "height": 295
        },
        "outputId": "8a2f5eca-41a5-42e8-c8b9-43253de8c40e"
      },
      "source": [
        "# summarize history for loss\n",
        "plt.plot(history.history['loss'])\n",
        "plt.title('model loss')\n",
        "plt.ylabel('loss')\n",
        "plt.xlabel('epoch')\n",
        "plt.legend(['train', 'test'], loc='upper left')\n",
        "plt.show()"
      ],
      "execution_count": 11,
      "outputs": [
        {
          "output_type": "display_data",
          "data": {
            "image/png": "[encoded data removed]",
            "text/plain": [
              "<Figure size 432x288 with 1 Axes>"
            ]
          },
          "metadata": {
            "tags": []
          }
        }
      ]
    },
    {
      "cell_type": "code",
      "metadata": {
        "id": "a4_LNZ2odl4Z",
        "colab_type": "code",
        "colab": {}
      },
      "source": [
        ""
      ],
      "execution_count": 0,
      "outputs": []
    },
    {
      "cell_type": "code",
      "metadata": {
        "id": "J8AJK05adl4d",
        "colab_type": "code",
        "colab": {}
      },
      "source": [
        ""
      ],
      "execution_count": 0,
      "outputs": []
    }
  ]
}